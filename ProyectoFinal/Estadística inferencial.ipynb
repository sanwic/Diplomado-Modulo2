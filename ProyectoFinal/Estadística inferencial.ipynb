{
 "cells": [
  {
   "cell_type": "markdown",
   "id": "dc2b12fa-7ed8-4546-bfb3-81d7ddae5461",
   "metadata": {},
   "source": [
    "# Librerias"
   ]
  },
  {
   "cell_type": "code",
   "execution_count": 1,
   "id": "e50a2b36-692a-4603-93a5-11f50289a847",
   "metadata": {},
   "outputs": [],
   "source": [
    "from scipy.stats import bernoulli, binom \n",
    "import numpy as np\n",
    "import sympy # para calculo simbolico y algebraico -> encontra el estimador de maneta analítica\n",
    "from sympy.abc import x\n",
    "from IPython.display import display, Markdown\n",
    "import matplotlib.pyplot as plt\n",
    "from scipy.stats import t, norm\n",
    "from scipy.stats import f, chi2\n",
    "import scipy.stats as st\n",
    "import scipy.stats as stats"
   ]
  },
  {
   "cell_type": "markdown",
   "id": "d1947520-ac83-4985-b341-a3469dfe7f1a",
   "metadata": {},
   "source": [
    "# Estadística Ineferencial"
   ]
  },
  {
   "cell_type": "markdown",
   "id": "b653bc35-a69b-4aa4-ab87-7246516dc77d",
   "metadata": {},
   "source": [
    "## 1.1 Estimadores y sus propiedades"
   ]
  },
  {
   "cell_type": "markdown",
   "id": "a94e245c-0c3e-4dd6-b6bd-aadd5b9ac093",
   "metadata": {},
   "source": [
    "Un estimador es una función matemática que se aplica a los datos muestrales para aproximar un parámetro desconocido de la población, como la media $\\mu$, la varianza $\\sigma^{2}$, etc.\n",
    "* El valor del estimador sobre una muestra específica se llama estimación\n",
    "\n",
    "##### Propiedades deseables de los estimadores:\n",
    "\n",
    "1.\tInsesgadez (o No sesgo)\n",
    "Un estimador $\\hat{\\theta}$ es insesgado si su valor esperado es igual al parámetro que estima:\n",
    "$$ E[\\hat{\\theta}]=θ $$\n",
    "Si no cumple esta propiedad, se dice que está sesgado.\n",
    "2.\tEficiencia\n",
    "Entre dos estimadores insesgados, el más eficiente es el que tiene menor varianza.\n",
    "* \tUn estimador eficiente proporciona estimaciones más cercanas al verdadero valor del parámetro con menos variabilidad.\n",
    "3.\tConsistencia\n",
    "Un estimador es consistente si, al aumentar el tamaño de la muestra, converge en probabilidad al verdadero valor del parámetro:\n",
    "$$\\hat{\\theta}_n \\xrightarrow{p} \\theta $$\n",
    "Es decir, cuanto más grande la muestra, más cerca estará la estimación del valor real.\n",
    "4.\tSuficiencia\n",
    "Un estimador es suficiente si resume toda la información relevante de la muestra respecto al parámetro.\n",
    "* Formalmente: T(X) es suficiente para $\\theta$ si la distribución condicional de los datos dado T(X) no depende de $\\theta$\n"
   ]
  },
  {
   "cell_type": "markdown",
   "id": "a39253a5-1ce9-4897-97f6-f81c6ddc7ed8",
   "metadata": {},
   "source": [
    "### 1.1.1 Estimador Máximo Verosímil"
   ]
  },
  {
   "cell_type": "markdown",
   "id": "c5cddfb3-5e48-49a9-808e-72d52db31486",
   "metadata": {},
   "source": [
    "Existen distintos métodos para estimar parámetros desconocidos a partir de un conjunto de datos. El Estimador Máximo Verosímil (MLE) responde a la siguiente pregunta:\n",
    "\n",
    "¿Para qué valor del parámetro, los datos observados tienen la probabilidad más alta?"
   ]
  },
  {
   "cell_type": "markdown",
   "id": "0a3fb85f-7e1d-4194-910d-73838752181e",
   "metadata": {},
   "source": [
    "\n",
    "### Ejemplo "
   ]
  },
  {
   "cell_type": "markdown",
   "id": "4c6d033c-7ad6-4892-a874-9907cb59be5c",
   "metadata": {},
   "source": [
    "Una moneda se lanza 100 veces. Dado que se obtienen 55 soles, econtrar el MLE para la probabilidad $p$ de obtener sol en un sólo lanzamiento,\n",
    "\n",
    "Podemos pensar en contar el número de soles en los 100 lanzamientos, entonces la probabilidad de obtener 55 soles en este experimento, es la siguiente:\n",
    "\n",
    "Si $X:$ el numero de soles que se obtienen al lanzar una moneda, se tiene que $X\\sim Bin(100,p)$, es decir, \n",
    "\n",
    "$$ P(55 soles; p) = \\binom{100}{55}p^{55}(1-p)^{100-55} $$\n"
   ]
  },
  {
   "cell_type": "markdown",
   "id": "2f7ce507-6585-4215-a5af-712037a6cd60",
   "metadata": {},
   "source": [
    "**Función de verosímilitud.** Sea $X_1,X_2,\\dots,X_n$ una muestra aleatoria con $f(x;\\theta)$. La función de verosimilitud (likelihood) es:\n",
    "$$ f(x_1,\\dots,x_n;\\theta) = f(x_1;\\theta)\\cdots f(x_n;\\theta) $$\n",
    "Entpnces, \n",
    "$$ L(x_1,\\dots,x_n;\\theta) = \\prod_{i=1}^n f(x_i,\\theta) $$\n",
    "\n",
    "Ejemplo. Si $X_1,\\dots,X_n$ es una m.a. Poisson($\\lambda$), entonces\n",
    "$$ L(x_1,\\dots,x_n;\\lambda) = \\frac{e^{-n\\lambda} \\lambda^{\\sum x_i }}{\\prod x_i !}$$ "
   ]
  },
  {
   "cell_type": "markdown",
   "id": "5396d4ec-5d0f-4c85-85f2-a6d8ddce474e",
   "metadata": {},
   "source": [
    "**Estimador Máximo Verosímil** es el valor de $\\theta$, donde $L(x_1,\\dots,x_n;\\theta)$ alcanza el máximo.\n",
    "\n",
    "Pasos: \n",
    "\n",
    "- $$ L(x_1,\\dots,x_n;\\theta) = \\prod_{i=1}^n f(x_i,\\theta) $$\n",
    "- $$\\ln L(x_1,\\dots,x_n;\\theta) $$\n",
    "- $$ \\frac{d\\ln L(x_1,\\dots,x_n;\\theta)}{d\\theta} $$\n",
    "- $$ \\frac{d\\ln L(x_1,\\dots,x_n;\\theta)}{d\\theta} = 0 $$\n",
    "  y despejar $\\theta$ para encontrar el máximo."
   ]
  },
  {
   "cell_type": "markdown",
   "id": "09a11470-d70b-416c-80ed-3244e74faa5c",
   "metadata": {},
   "source": [
    "Para nuestro caso, tenemos\n",
    "$$ \\frac{P(55 soles ;p)}{dp}=\\binom{100}{55}p^{55}(1-p)^{45} - 45p^{55}(1-p)^44=0$$\n",
    "entonces, resolviendo para $p$, se tiene\n",
    "$$ \\binom{100}{55}p^{55}(1-p)^{45}=45^{55}(1-p)^44 $$\n",
    "entonces,\n",
    "$$ 55(1-p) = 45p $$\n",
    "entonces, \n",
    "$$p = \\frac{55}{100}$$\n",
    "\n",
    "Por lo tanto, el MLE para $p$, es $\\hat{p}=0.55$"
   ]
  },
  {
   "cell_type": "code",
   "execution_count": 2,
   "id": "37838ac7-83a7-4998-8eb9-b7dac7c3e339",
   "metadata": {},
   "outputs": [
    {
     "name": "stdout",
     "output_type": "stream",
     "text": [
      "Es estimador de máxima verosimilitud es 11/20\n"
     ]
    }
   ],
   "source": [
    "# Definir a p como una variable simbolica positiva\n",
    "\n",
    "p = sympy.symbols('p', positive = True )\n",
    "f = p**55 * (1-p)**(100-55)\n",
    "phat = sympy.solve(sympy.diff(f,p),p)[0]\n",
    "\n",
    "print(\"Es estimador de máxima verosimilitud es\", phat)"
   ]
  },
  {
   "cell_type": "markdown",
   "id": "fea1d540-0da2-4868-b985-9b28ec848d62",
   "metadata": {},
   "source": [
    "###### Otro ejemplo"
   ]
  },
  {
   "cell_type": "code",
   "execution_count": 3,
   "id": "550721de-bc40-406f-9f7b-f358fa5f01d5",
   "metadata": {},
   "outputs": [
    {
     "data": {
      "text/plain": [
       "array([0, 1, 1, 1, 1, 1, 0, 1, 1, 1, 1, 1, 0, 1, 1, 1, 0, 1, 0, 0, 1, 1,\n",
       "       1, 1, 1, 1, 0, 0, 1, 1, 1, 1, 0, 1, 1, 1, 0, 1, 0, 1, 1, 0, 1, 1,\n",
       "       0, 0, 0, 1, 1, 0, 0, 1, 1, 0, 1, 1, 1, 1, 1, 0, 1, 1, 1, 0, 1, 1,\n",
       "       0, 1, 0, 0, 1, 1, 1, 1, 0, 1, 1, 1, 1, 1, 1, 1, 0, 1, 0, 1, 1, 0,\n",
       "       1, 1, 1, 1, 1, 0, 1, 1, 1, 1, 1, 0])"
      ]
     },
     "execution_count": 3,
     "metadata": {},
     "output_type": "execute_result"
    }
   ],
   "source": [
    "r = binom.rvs(1,0.7, size=100)\n",
    "r"
   ]
  },
  {
   "cell_type": "code",
   "execution_count": 4,
   "id": "f74e3b59-dd4a-4eee-a3cd-03e58e018759",
   "metadata": {},
   "outputs": [
    {
     "name": "stdout",
     "output_type": "stream",
     "text": [
      "Es estimador de máxima verosimilitud es 71/100\n"
     ]
    }
   ],
   "source": [
    "f = p**x*(1-p)**(1-x)\n",
    "J = np.prod([f.subs(x,i) for i in r])\n",
    "logJ = sympy.expand_log(sympy.log(J)) #logaritmo\n",
    "phat = sympy.solve(sympy.diff(logJ,p),p)[0]\n",
    "print(\"Es estimador de máxima verosimilitud es\", phat)"
   ]
  },
  {
   "cell_type": "markdown",
   "id": "a24d2f2c-5f05-479c-90a9-9af018aa9a80",
   "metadata": {},
   "source": [
    "### Ejercicios"
   ]
  },
  {
   "cell_type": "markdown",
   "id": "1601e256-091f-483b-9a56-496369080c7b",
   "metadata": {},
   "source": [
    "El tiempo de retardo para pacientes con enfermedad coronaria potencial se define como la duración entre el comienzo de un síntoma agudo cardiovascular y la llegada a la unidad de emergencia.\n",
    "\n",
    "Se supone que el tiempo de retardo sigue una distribución exponencial con parámetro $\\theta $.\n",
    "\n",
    "Se registraron los tiempos de retardo (en minutos) en la clínica para los primeros 20 pacientes:\n",
    "\n",
    "$$ 525, \\ 719, \\ 2880, \\ 150, \\ 30, \\ 251, \\ 45, \\ 858, \\ 15, \\ 47, \\ 90, \\ 56, \\ 68, \\ 6, \\ 189, \\ 180, \\ 60, \\ 60, \\ 294, \\ 747 $$\n",
    "\n",
    "- Encuentra un estimador por el método de momentos para la media de la distribución.\n",
    "- Encuentra el valor del estimador con los datos dados."
   ]
  },
  {
   "cell_type": "code",
   "execution_count": 5,
   "id": "ac1f53e7-8c19-4afb-a88a-686bf6766fbf",
   "metadata": {},
   "outputs": [],
   "source": [
    "def printmd(string):\n",
    "    display(Markdown(string))"
   ]
  },
  {
   "cell_type": "code",
   "execution_count": 6,
   "id": "99c4467b-c7a0-4279-9b8b-29e06b5ba773",
   "metadata": {},
   "outputs": [
    {
     "data": {
      "text/markdown": [
       "\n",
       "##### Estimador de máxima verosimilitud\n",
       "El estimador de máxima verosimilitud para $\\theta$ es:\n",
       "$$\\hat{\\theta}_{MLE} = \\frac{727}{2} = 363.5$$\n"
      ],
      "text/plain": [
       "<IPython.core.display.Markdown object>"
      ]
     },
     "metadata": {},
     "output_type": "display_data"
    }
   ],
   "source": [
    "theta = sympy.Symbol('theta', positive=True, real=True)\n",
    "x = sympy.Symbol('x', positive=True, real=True)\n",
    "\n",
    "f_tiempo = (1/theta) * sympy.exp(-x/theta)\n",
    "\n",
    "datos = [\n",
    "    525, 719, 2880, 150, 30, 251, 45, 858, 15, 47,\n",
    "    90, 56, 68, 6, 189, 180, 60, 60, 294, 747\n",
    "]\n",
    "\n",
    "L = sympy.prod([f_tiempo.subs(x, i) for i in datos])\n",
    "\n",
    "logL = sympy.expand_log(sympy.log(L))\n",
    "\n",
    "dlogL = sympy.diff(logL, theta)\n",
    "\n",
    "theta_mle = sympy.solve(dlogL, theta)[0]\n",
    "\n",
    "printmd(r\"\"\"\n",
    "##### Estimador de máxima verosimilitud\n",
    "El estimador de máxima verosimilitud para $\\theta$ es:\n",
    "$$\\hat{\\theta}_{MLE} = \\frac{727}{2} = %.1f$$\n",
    "\"\"\" % theta_mle.evalf())"
   ]
  },
  {
   "cell_type": "markdown",
   "id": "357fc110-ad67-4b03-9b87-2a78f2131d63",
   "metadata": {},
   "source": [
    "##### Ejercicio 2.\n",
    "\n",
    "Sea una muestra aleatoria $X_1, \\ldots, X_n \\overset{iid}{\\sim} \\mathcal{N}(\\mu, \\sigma^2) $.\n",
    "Queremos encontrar el estimador de máxima verosimilitud para $\\mu$ y $\\sigma^2$.\n",
    "\n",
    "La función de densidad es:\n",
    "$$ f(x; \\mu, \\sigma^2) = \\frac{1}{\\sqrt{2\\pi \\sigma^2}} \\exp\\left(-\\frac{(x - \\mu)^2}{2\\sigma^2}\\right) \\cdot \\mathbf{1}_{(-\\infty, \\infty)}(x)$$"
   ]
  },
  {
   "cell_type": "code",
   "execution_count": 7,
   "id": "98d83f04-84fb-4079-8179-77931458d2f9",
   "metadata": {},
   "outputs": [
    {
     "data": {
      "text/markdown": [
       "\n",
       "##### Estimadores de máxima verosimilitud\n",
       "Para una muestra $X_1, \\dots, X_n \\sim \\mathcal{N}(\\mu, \\sigma^2)$, los estimadores son:\n",
       "$$ \\hat{\\mu}_{MLE} = \\frac{1}{n} \\sum x_i \\quad \\text{y} \\quad \\hat{\\sigma}^2_{MLE} = \\frac{1}{n} \\sum (x_i - \\hat{\\mu})^2 $$\n"
      ],
      "text/plain": [
       "<IPython.core.display.Markdown object>"
      ]
     },
     "metadata": {},
     "output_type": "display_data"
    }
   ],
   "source": [
    "mu, sigma2 = sympy.symbols('mu sigma2', positive=True, real=True)\n",
    "x = sympy.Symbol('x', real=True)\n",
    "\n",
    "f_normal = (1/sympy.sqrt(2 * sympy.pi * sigma2)) * sympy.exp(-((x - mu)**2) / (2 * sigma2))\n",
    "\n",
    "datos_normal = sympy.symbols('x1:6')  # x1, x2, x3, x4, x5 como ejemplo\n",
    "\n",
    "logL_normal = sympy.Add(*[sympy.expand_log(sympy.log(f_normal.subs(x, xi))) for xi in datos_normal])\n",
    "\n",
    "dlogL_mu = sympy.diff(logL_normal, mu)\n",
    "dlogL_sigma2 = sympy.diff(logL_normal, sigma2)\n",
    "\n",
    "sol_normal = sympy.solve([dlogL_mu, dlogL_sigma2], (mu, sigma2), dict=True)[0]\n",
    "\n",
    "printmd(r\"\"\"\n",
    "##### Estimadores de máxima verosimilitud\n",
    "Para una muestra $X_1, \\dots, X_n \\sim \\mathcal{N}(\\mu, \\sigma^2)$, los estimadores son:\n",
    "$$ \\hat{\\mu}_{MLE} = \\frac{1}{n} \\sum x_i \\quad \\text{y} \\quad \\hat{\\sigma}^2_{MLE} = \\frac{1}{n} \\sum (x_i - \\hat{\\mu})^2 $$\n",
    "\"\"\")"
   ]
  },
  {
   "cell_type": "markdown",
   "id": "cc95086b-d3e1-4d84-9ca9-9330edf43812",
   "metadata": {},
   "source": [
    "###### Ejercicio 3.\n",
    "\n",
    "Suponga que la vida util de los focos de cierta marca, se modela mediante una distribución expoencial de parametro $\\theta$ (desconocido). Probamos 5 focos y encontramos que tienen una vida útil de $2,3,1,3$ y $5$ años, respectivamente. ¿Cuál es el MLE para $\\theta$?"
   ]
  },
  {
   "cell_type": "code",
   "execution_count": 8,
   "id": "54ac5777-0d02-4658-9653-ed723fa114a8",
   "metadata": {},
   "outputs": [
    {
     "data": {
      "text/markdown": [
       "\n",
       "##### Estimador de máxima verosimilitud\n",
       "Dada una muestra de vidas útiles $[2, 3, 1, 3, 5]$, el estimador MLE es:\n",
       "$$ \\hat{\\theta}_{MLE} = 2.80 $$\n"
      ],
      "text/plain": [
       "<IPython.core.display.Markdown object>"
      ]
     },
     "metadata": {},
     "output_type": "display_data"
    }
   ],
   "source": [
    "theta = sympy.Symbol('theta', positive=True, real=True)\n",
    "x = sympy.Symbol('x', positive=True, real=True)\n",
    "\n",
    "f_focos = (1/theta) * sympy.exp(-x/theta)\n",
    "\n",
    "datos_focos = [2, 3, 1, 3, 5]\n",
    "\n",
    "L_focos = sympy.prod([f_focos.subs(x, i) for i in datos_focos])\n",
    "\n",
    "logL_focos = sympy.expand_log(sympy.log(L_focos))\n",
    "\n",
    "dlogL_focos = sympy.diff(logL_focos, theta)\n",
    "theta_mle_focos = sympy.solve(dlogL_focos, theta)[0]\n",
    "\n",
    "printmd(r\"\"\"\n",
    "##### Estimador de máxima verosimilitud\n",
    "Dada una muestra de vidas útiles $[2, 3, 1, 3, 5]$, el estimador MLE es:\n",
    "$$ \\hat{\\theta}_{MLE} = %.2f $$\n",
    "\"\"\" % theta_mle_focos.evalf())"
   ]
  },
  {
   "cell_type": "markdown",
   "id": "d3f7442d-015d-446d-92c2-e8f36e8b04a0",
   "metadata": {},
   "source": [
    "##### Ejercicio 4.\n",
    "\n",
    "Sea $ (X_1, \\ldots, X_n) $ una m.a:\n",
    "\n",
    "$$\n",
    "f(x; \\theta) = \\theta (1 + x)^{-(1 + \\theta)} \\cdot \\mathbf{1}_{(0, \\infty)}(x), \\quad \\theta > 0\n",
    "$$\n",
    "\n",
    "Estimar $\\theta$ por momentos, asumiendo que $\\theta > 1$."
   ]
  },
  {
   "cell_type": "code",
   "execution_count": 9,
   "id": "1272d3f5-9fc3-42e8-bf90-0f218cd7f7a9",
   "metadata": {},
   "outputs": [
    {
     "data": {
      "text/markdown": [
       "\n",
       "##### Estimador por el método de momentos\n",
       "Para la distribución con densidad $f(x;\\theta) = \\theta(1+x)^{-(1+\\theta)}$, el estimador por momentos es:\n",
       "$$ \\hat{\\theta}_{MLE} = \\frac{\\bar{x} + 1}{\\bar{x}} $$\n"
      ],
      "text/plain": [
       "<IPython.core.display.Markdown object>"
      ]
     },
     "metadata": {},
     "output_type": "display_data"
    }
   ],
   "source": [
    "x, theta = sympy.symbols('x theta', real=True)\n",
    "theta = sympy.Symbol('theta', positive=True, real=True)\n",
    "\n",
    "f_densidad = theta * (1 + x)**(-(1 + theta))\n",
    "\n",
    "E_X = sympy.integrate(x * f_densidad, (x, 0, sympy.oo), conds='none')\n",
    "\n",
    "x_bar = sympy.Symbol(r'\\bar{x}', positive=True, real=True)\n",
    "eq_momentos = sympy.Eq(E_X, x_bar)\n",
    "eq_momentos = sympy.Eq(sympy.simplify(eq_momentos.lhs), eq_momentos.rhs)\n",
    "\n",
    "theta_mm = sympy.solve(eq_momentos, theta)\n",
    "\n",
    "printmd(r\"\"\"\n",
    "##### Estimador por el método de momentos\n",
    "Para la distribución con densidad $f(x;\\theta) = \\theta(1+x)^{-(1+\\theta)}$, el estimador por momentos es:\n",
    "$$ \\hat{\\theta}_{MLE} = %s $$\n",
    "\"\"\" % sympy.latex(theta_mm[0]))"
   ]
  },
  {
   "cell_type": "markdown",
   "id": "1a774ad2-19a3-4b8b-b6af-04f483e6cbe2",
   "metadata": {},
   "source": [
    "## 2.1 Distribuciones muestrales"
   ]
  },
  {
   "cell_type": "markdown",
   "id": "bbe8217b-6d0b-48c1-8abd-07f270abacbb",
   "metadata": {},
   "source": [
    "### 2.1.1 Distribución *t* de Student\n",
    "\n"
   ]
  },
  {
   "cell_type": "markdown",
   "id": "8a94651e-ab97-44b3-98c2-99a266d3e564",
   "metadata": {},
   "source": [
    "Sean:\n",
    "\n",
    "- $X \\sim \\mathcal{N}(0,1)$  \n",
    "- $Y \\sim \\chi^2(n - 1)$  \n",
    "\n",
    "Entonces:\n",
    "\n",
    "$$\n",
    "T = \\frac{X \\cdot \\sqrt{n}}{\\sqrt{\\dfrac{Y}{n - 1}}} \\sim t(n - 1)\n",
    "$$\n",
    "\n",
    "Gráficamente, la distribución *t* tiene forma de campana, similar a la normal estándar, pero con colas más gruesas. A medida que $n \\to \\infty$, se aproxima a una normal estándar:\n",
    "\n",
    "$$\n",
    "\\lim_{n \\to \\infty} t(n) = \\mathcal{N}(0,1)\n",
    "$$\n",
    "\n",
    "---\n",
    "\n",
    "> 📌 Esta distribución es útil cuando se desconoce la varianza poblacional y se utiliza una estimación muestral.\n"
   ]
  },
  {
   "cell_type": "markdown",
   "id": "55d91589-d261-4d12-8769-aa1d59b9c0da",
   "metadata": {},
   "source": [
    "### Ejemplos"
   ]
  },
  {
   "cell_type": "code",
   "execution_count": 10,
   "id": "b2c57911-ac0c-44d1-9298-81125b4ed204",
   "metadata": {},
   "outputs": [
    {
     "data": {
      "image/png": "[encoded data removed]",
      "text/plain": [
       "<Figure size 1000x600 with 1 Axes>"
      ]
     },
     "metadata": {},
     "output_type": "display_data"
    }
   ],
   "source": [
    "\n",
    "# Valores de x para graficar\n",
    "x = np.linspace(-5, 5, 500)\n",
    "\n",
    "# Distribuciones t con diferentes grados de libertad\n",
    "dfs = [1, 3, 10, 30]\n",
    "colors = ['red', 'orange', 'green', 'blue']\n",
    "\n",
    "plt.figure(figsize=(10, 6))\n",
    "\n",
    "# Graficar curvas t\n",
    "for df, color in zip(dfs, colors):\n",
    "    plt.plot(x, t.pdf(x, df), label=f't(df={df})', color=color)\n",
    "\n",
    "# Graficar la normal estándar\n",
    "plt.plot(x, norm.pdf(x), 'k--', label='Normal estándar')\n",
    "\n",
    "# Formato de la gráfica\n",
    "plt.title('Comparación entre la distribución t y la normal estándar', fontsize=14)\n",
    "plt.xlabel('$x$', fontsize=12)\n",
    "plt.ylabel('Densidad', fontsize=12)\n",
    "plt.legend()\n",
    "plt.grid(True)\n",
    "plt.show()\n"
   ]
  },
  {
   "cell_type": "code",
   "execution_count": 11,
   "id": "938b280a-4c12-43d4-82db-d5df122be1cd",
   "metadata": {},
   "outputs": [
    {
     "name": "stdout",
     "output_type": "stream",
     "text": [
      "Estadística t: 2.000\n",
      "Valor crítico t (95%): ±2.131\n"
     ]
    },
    {
     "data": {
      "image/png": "[encoded data removed]",
      "text/plain": [
       "<Figure size 1000x600 with 1 Axes>"
      ]
     },
     "metadata": {},
     "output_type": "display_data"
    }
   ],
   "source": [
    "\n",
    "# Parámetros del ejemplo\n",
    "n = 16                     # tamaño de muestra\n",
    "df = n - 1                 # grados de libertad\n",
    "media_muestral = 17.5\n",
    "media_hipotetica = 16\n",
    "desv_est_muestral = 3\n",
    "\n",
    "# Estadística t\n",
    "t_stat = (media_muestral - media_hipotetica) / (desv_est_muestral / np.sqrt(n))\n",
    "print(f'Estadística t: {t_stat:.3f}')\n",
    "\n",
    "# Intervalo de confianza del 95%\n",
    "alpha = 0.05\n",
    "t_critico = t.ppf(1 - alpha/2, df)\n",
    "print(f'Valor crítico t (95%): ±{t_critico:.3f}')\n",
    "\n",
    "# Gráfica\n",
    "x = np.linspace(-5, 5, 500)\n",
    "y = t.pdf(x, df)\n",
    "\n",
    "plt.figure(figsize=(10,6))\n",
    "plt.plot(x, y, label=f't(df={df})', color='blue')\n",
    "\n",
    "# Rellenar área bajo la curva para el IC\n",
    "plt.fill_between(x, y, where=(x >= -t_critico) & (x <= t_critico), color='lightblue', alpha=0.6, label='Área 95%')\n",
    "\n",
    "# Línea para el valor de la estadística t calculada\n",
    "plt.axvline(t_stat, color='red', linestyle='--', lw=2, label=f'Estadístico t = {t_stat:.2f}')\n",
    "plt.axvline(-t_critico, color='gray', linestyle='--')\n",
    "plt.axvline(t_critico, color='gray', linestyle='--')\n",
    "\n",
    "# Detalles del gráfico\n",
    "plt.title('Distribución t de Student con intervalo de confianza del 95%', fontsize=14)\n",
    "plt.xlabel('$t$', fontsize=12)\n",
    "plt.ylabel('Densidad', fontsize=12)\n",
    "plt.legend()\n",
    "plt.grid(True)\n",
    "plt.show()\n"
   ]
  },
  {
   "cell_type": "markdown",
   "id": "21e9b182-da68-4a56-a619-de79e3e1a401",
   "metadata": {},
   "source": [
    "### 2.1.2 Distribución F de Fisher"
   ]
  },
  {
   "cell_type": "markdown",
   "id": "54444be4-1b19-42bf-abc3-eba86b795307",
   "metadata": {},
   "source": [
    "Es una distribución continua utilizada en estadística, principalmente para comparar varianzas y en el contexto de análisis de varianza (ANOVA) y regresión.\n",
    "\n",
    "Sea $X \\sim \\chi^2_{d_1}, \\quad Y \\sim \\chi^2_{d_2}$ dos variables aleatorias independientes con d1d y d2d grados de libertad, respectivamente. Entonces, la variable:\n",
    "$$ F = \\frac{(Y / d_1)}{(X / d_2)}$$\n",
    "sigue una distribución F con d1 y d2d grados de libertad:\n",
    "$$ F \\sim F(d_1, d_2)$$\n",
    "________________________________________\n",
    "Propiedades:\n",
    "* Solo toma valores positivos: $  F \\geq 0$.\n",
    "* Su forma depende de los grados de libertad $d_1$  y $d_2$.\n",
    "* Es asimétrica, especialmente con pocos grados de libertad.\n",
    "* Si $d_1$  y $d_2$ son grandes, la distribución F se aproxima a la normal.\n",
    "________________________________________\n",
    "Usos principales:\n",
    "\n",
    "1.\tPrueba de igualdad de varianzas:\n",
    "Se usa para verificar si dos poblaciones tienen varianzas iguales.\n",
    "2.\tANOVA (Análisis de varianza):\n",
    "Compara las medias de varios grupos al analizar la relación entre la variabilidad dentro y entre los grupos.\n",
    "3.\tRegresión lineal múltiple:\n",
    "La F se usa para probar la significancia global del modelo.\n",
    "________________________________________\n",
    "Ejemplo de hipótesis F (en ANOVA):\n",
    "* Hipótesis nula $H_0$: Las medias de todos los grupos son iguales.\n",
    "* Hipótesis alternativa $H_a$: Al menos una media es diferente.\n",
    "\n",
    "Se calcula un estadístico F y se compara con un valor crítico o se obtiene el p-valor.\n",
    "\n"
   ]
  },
  {
   "cell_type": "markdown",
   "id": "fc0909fa-4e01-4ddd-a672-e7bcaed50544",
   "metadata": {},
   "source": [
    "### Ejemplo"
   ]
  },
  {
   "cell_type": "code",
   "execution_count": 12,
   "id": "20f7108b-1b6c-4338-bcd1-c740f9e51a8d",
   "metadata": {},
   "outputs": [
    {
     "ename": "AttributeError",
     "evalue": "'Mul' object has no attribute 'pdf'",
     "output_type": "error",
     "traceback": [
      "\u001b[31m---------------------------------------------------------------------------\u001b[39m",
      "\u001b[31mAttributeError\u001b[39m                            Traceback (most recent call last)",
      "\u001b[36mCell\u001b[39m\u001b[36m \u001b[39m\u001b[32mIn[12]\u001b[39m\u001b[32m, line 7\u001b[39m\n\u001b[32m      5\u001b[39m \u001b[38;5;66;03m# --- Distribución F de Fisher ---\u001b[39;00m\n\u001b[32m      6\u001b[39m df1, df2 = \u001b[32m5\u001b[39m, \u001b[32m10\u001b[39m\n\u001b[32m----> \u001b[39m\u001b[32m7\u001b[39m f_dist = \u001b[43mf\u001b[49m\u001b[43m.\u001b[49m\u001b[43mpdf\u001b[49m(x_f, df1, df2)\n\u001b[32m      9\u001b[39m plt.figure(figsize=(\u001b[32m12\u001b[39m, \u001b[32m5\u001b[39m))\n\u001b[32m     11\u001b[39m \u001b[38;5;66;03m# Gráfica de F\u001b[39;00m\n",
      "\u001b[31mAttributeError\u001b[39m: 'Mul' object has no attribute 'pdf'"
     ]
    }
   ],
   "source": [
    "# Rango de valores para las gráficas\n",
    "x_f = np.linspace(0, 5, 500)\n",
    "x_chi = np.linspace(0, 20, 500)\n",
    "\n",
    "# --- Distribución F de Fisher ---\n",
    "df1, df2 = 5, 10\n",
    "f_dist = f.pdf(x_f, df1, df2)\n",
    "\n",
    "plt.figure(figsize=(12, 5))\n",
    "\n",
    "# Gráfica de F\n",
    "plt.subplot(1, 2, 1)\n",
    "plt.plot(x_f, f_dist, label=f'F({df1}, {df2})', color='purple')\n",
    "plt.title('Distribución F de Fisher', fontsize=14)\n",
    "plt.xlabel('x')\n",
    "plt.ylabel('Densidad')\n",
    "plt.grid(True)\n",
    "plt.legend()\n",
    "\n",
    "# --- Distribuciones Ji-cuadrada ---\n",
    "df_chi_list = [1, 3, 6, 10]\n",
    "\n",
    "plt.subplot(1, 2, 2)\n",
    "for df in df_chi_list:\n",
    "    plt.plot(x_chi, chi2.pdf(x_chi, df), label=f'χ²({df})')\n",
    "plt.title('Distribuciones Ji-cuadrada', fontsize=14)\n",
    "plt.xlabel('x')\n",
    "plt.ylabel('Densidad')\n",
    "plt.grid(True)\n",
    "plt.legend()\n",
    "\n",
    "plt.tight_layout()\n",
    "plt.show()\n"
   ]
  },
  {
   "cell_type": "markdown",
   "id": "70053156-9475-423f-9594-a402411bac38",
   "metadata": {},
   "source": [
    "### 2.1.3 Distribución Ji-cuadrada (Chi-cuadrada)"
   ]
  },
  {
   "cell_type": "markdown",
   "id": "e8b615c0-5f27-4024-949b-c1c68d019500",
   "metadata": {},
   "source": [
    "Si:\n",
    "\n",
    "- $X \\sim \\mathcal{N}(0,1)$  \n",
    "- Entonces: $X^2 \\sim \\chi^2(1)$\n",
    "\n",
    "Y si:\n",
    "\n",
    "$$\n",
    "\\sum_{i=1}^{n} X_i^2 \\sim \\chi^2(n)\n",
    "$$\n",
    "\n",
    "> 📌 La distribución $\\chi^2(k)$ surge como la suma de los cuadrados de $k$ variables normales estándar independientes.\n"
   ]
  },
  {
   "cell_type": "markdown",
   "id": "dc88afdf-96a0-4e3d-a267-646f64a21bd7",
   "metadata": {},
   "source": [
    "### Ejemplo"
   ]
  },
  {
   "cell_type": "code",
   "execution_count": null,
   "id": "cd29586e-b9b1-4889-ad8e-6af0898bcc17",
   "metadata": {},
   "outputs": [],
   "source": [
    "import numpy as np\n",
    "import matplotlib.pyplot as plt\n",
    "import seaborn as sns\n",
    "from scipy.stats import chi2\n",
    "\n",
    "# Parámetro: grados de libertad\n",
    "df = 4\n",
    "\n",
    "# Generamos datos chi-cuadrado\n",
    "n = 10000\n",
    "datos_chi2 = np.random.chisquare(df=df, size=n)\n",
    "\n",
    "# Visualizamos la distribución\n",
    "plt.figure(figsize=(10, 6))\n",
    "sns.histplot(datos_chi2, bins=50, kde=True, stat='density', color='mediumseagreen', label='Simulación')\n",
    "\n",
    "# Curva teórica\n",
    "x = np.linspace(0, np.max(datos_chi2), 1000)\n",
    "plt.plot(x, chi2.pdf(x, df), 'r--', label='Densidad teórica (χ²)')\n",
    "\n",
    "# Detalles del gráfico\n",
    "plt.title(f'Distribución Chi-Cuadrado con {df} grados de libertad', fontsize=14)\n",
    "plt.xlabel('Valor')\n",
    "plt.ylabel('Densidad')\n",
    "plt.legend()\n",
    "plt.grid(True)\n",
    "plt.show()\n"
   ]
  },
  {
   "cell_type": "markdown",
   "id": "935207ce-32e4-4380-a580-aeae07473fb8",
   "metadata": {},
   "source": [
    "## 3.1 Intervalos de confianza"
   ]
  },
  {
   "cell_type": "markdown",
   "id": "2570e904-6394-4d2a-b1e2-2e4826db80e3",
   "metadata": {},
   "source": [
    "### 3.1.1 Intervalo de Confianza para la media de una distribución normal (σ conocida)"
   ]
  },
  {
   "cell_type": "markdown",
   "id": "337a747b-37ce-42c8-89d4-07964b458253",
   "metadata": {},
   "source": [
    "Sea $X_1, \\dots, X_n$ una m.a. $X_i \\sim \\mathcal{N}(\\mu, \\sigma^2)$. Entonces:\n",
    "\n",
    "- $\\bar{X} \\sim \\mathcal{N}(\\mu, \\frac{\\sigma^2}{n})$\n",
    "- $Z = \\frac{\\bar{X} - \\mu}{\\sigma / \\sqrt{n}} \\sim \\mathcal{N}(0,1)$\n",
    "\n",
    "##### Nivel de significancia (error): $\\alpha$\n",
    "\n",
    "El intervalo de confianza se basa en que:\n",
    "$$\n",
    "\\mathbb{P}\\left( -z_{\\alpha/2} < \\frac{\\bar{X} - \\mu}{\\sigma / \\sqrt{n}} < z_{\\alpha/2} \\right)\n",
    "= \\mathbb{P}\\left( \\bar{X} - z_{\\alpha/2} \\frac{\\sigma}{\\sqrt{n}} < \\mu < \\bar{X} + z_{\\alpha/2} \\frac{\\sigma}{\\sqrt{n}} \\right)\n",
    "= 1 - \\alpha\n",
    "$$\n",
    "\n",
    "###### El intervalo del $(1 - \\alpha) \\cdot 100\\%$ de confianza para $\\mu$ (con $\\sigma$ conocida) es:\n",
    "\n",
    "$$\n",
    "\\left( \\bar{X} - z_{\\alpha/2} \\frac{\\sigma}{\\sqrt{n}}, \\quad \\bar{X} + z_{\\alpha/2} \\frac{\\sigma}{\\sqrt{n}} \\right)\n",
    "$$\n",
    "donde\n",
    "\n",
    "- $\\sigma$ = desviación estándar  \n",
    "- $\\frac{\\sigma}{\\sqrt{n}}$ = error estándar de la media  \n",
    "- $z_{\\alpha/2}$ determina el nivel de confianza  \n",
    "- El intervalo está centrado en $\\bar{X}$\n",
    "\n",
    "**Observación**\n",
    "\n",
    "- A mayor $n$, menor es el error estándar, y el intervalo de confianza es más pequeño.\n",
    "- Esto hace que se acerque más a la media $\\mu$, es decir, que haya menor variación."
   ]
  },
  {
   "cell_type": "markdown",
   "id": "21c08b9e-dcf4-42ad-b20b-7bf20f0f1de3",
   "metadata": {},
   "source": [
    "### Ejemplo"
   ]
  },
  {
   "cell_type": "markdown",
   "id": "7b930eae-ef10-4425-9e4c-3f6e63da9397",
   "metadata": {},
   "source": [
    "Para tratar de estimar la media de consumo por cliente en un gran restaurante, se reunieron datos de una muestra de 49 clientes durante 3 semanas.\n",
    "\n",
    "**a)** Supongamos que la **desviación estándar de la población** es de $\\$2.50$. ¿Cuál es el error estándar de la media?\n",
    "\n",
    "**b)** Con un nivel de confianza del $95\\%$, ¿cuál es el margen de error?\n",
    "\n",
    "**c)** Si la **media de la muestra** es de $\\$22.60$, cuál es el intervalo de confianza del $95\\%$ para la media de la población?"
   ]
  },
  {
   "cell_type": "code",
   "execution_count": null,
   "id": "d85a01da-108d-4118-801a-84e216ccaf71",
   "metadata": {},
   "outputs": [],
   "source": [
    "# Datos\n",
    "n=49\n",
    "sigma = 2.50\n",
    "media_muestral = 22.60 \n",
    "confianza = 0.95\n",
    "\n",
    "# a) Error estándar de la media\n",
    "error_estandar = sigma / np.sqrt(n)\n",
    "#error_estandar\n",
    "print(f\" a) Error estándar de la media: {error_estandar:.2f}\")\n",
    "\n",
    "# b) Margen de error\n",
    "z = st.norm.ppf(1-(1-confianza) / 2)\n",
    "margen_error = z * error_estandar\n",
    "#margen_error\n",
    "print(f\" b) Margen de error con 95% de confianza: {margen_error:.2f}\")\n",
    "\n",
    "# c) \n",
    "limite_inferior = media_muestral - margen_error\n",
    "limite_superior = media_muestral + margen_error\n",
    "print(f\" c) Intervalo de confianza del 95%: ({limite_inferior:.2f},{limite_superior:.2f})\")"
   ]
  },
  {
   "cell_type": "markdown",
   "id": "e0876ac1-e2f7-46bc-b6e2-74fc72eb103e",
   "metadata": {},
   "source": [
    "$1-\\alpha=.95$, implica que $z_{\\alpha/2} = z_{0.025} = 1.96$"
   ]
  },
  {
   "cell_type": "markdown",
   "id": "117c0125-3a0e-4485-a79b-dde320683452",
   "metadata": {},
   "source": [
    "**Ejemplo 2** Supongamos que se toma una muestra aleatoria de 100 personas para estimar la media del peso de una población, y se obtiene que la media muestral es de $70$ kg con una desviación estándar que es conocida de $10$ kg. Para un nivel de confianza del $95\\%$, calcular el intervalo de confianza"
   ]
  },
  {
   "cell_type": "code",
   "execution_count": null,
   "id": "0ea6f597-0530-439d-b844-63785610ea91",
   "metadata": {},
   "outputs": [],
   "source": [
    "# Datos\n",
    "n = 100\n",
    "media_muestral = 70\n",
    "sigma = 10\n",
    "nivel_confianza = 0.95\n",
    "error_estandar = sigma / np.sqrt(n)\n",
    "\n",
    "#Utilizaremos la función scipy.stats.norm.interval\n",
    "# Sintaxis\n",
    "# scipy.stats.norm.interval(confidence, loc = media, scale = error_estandar )\n",
    "\n",
    "intervalo = st.norm.interval(confidence = nivel_confianza, loc = media_muestral, scale = error_estandar)\n",
    "print(f\"Intervalo de confianza del 95% es: {intervalo}\")\n"
   ]
  },
  {
   "cell_type": "code",
   "execution_count": null,
   "id": "4296c367-f302-4009-9ce1-48dc232f8d35",
   "metadata": {},
   "outputs": [],
   "source": [
    "# Puntos para graficar la curva normal\n",
    "x = np.linspace(media_muestral - 4*error_estandar, media_muestral + 4*error_estandar, 500)\n",
    "y = st.norm.pdf(x, loc=media_muestral, scale=error_estandar)\n",
    "\n",
    "# Gráfica\n",
    "plt.figure(figsize=(10, 5))\n",
    "plt.plot(x, y, label='Distribución normal', color='black')\n",
    "\n",
    "# Sombrear el intervalo de confianza\n",
    "plt.fill_between(x, y, where=(x >= intervalo[0]) & (x <= intervalo[1]), color='skyblue', alpha=0.6, label='IC 95%')\n",
    "\n",
    "# Líneas verticales\n",
    "plt.axvline(intervalo[0], color='blue', linestyle='--', label=f'IC inferior = {intervalo[0]:.2f}')\n",
    "plt.axvline(intervalo[1], color='blue', linestyle='--', label=f'IC superior = {intervalo[1]:.2f}')\n",
    "plt.axvline(media_muestral, color='red', linestyle='-', label=f'Media muestral = {media_muestral}')\n",
    "\n",
    "plt.title('Intervalo de confianza del 95% para la media ($\\\\sigma$ conocida)', fontsize=14)\n",
    "plt.xlabel('Valor de la variable')\n",
    "plt.ylabel('Densidad')\n",
    "plt.legend()\n",
    "plt.grid(True)\n",
    "plt.show()"
   ]
  },
  {
   "cell_type": "markdown",
   "id": "e802fe64-2667-48bf-9370-9e319af57065",
   "metadata": {},
   "source": [
    "### 3.1.2 Intervalo de Confianza para la media $\\mu$ de una distribución normal ($\\sigma$ deconocida)"
   ]
  },
  {
   "cell_type": "markdown",
   "id": "2bcadba9-6b02-48b0-934f-e77374398ab6",
   "metadata": {},
   "source": [
    "Sea $X_1, \\dots, X_n$ una m.a. $X_i \\sim \\mathcal{N}(\\mu, \\sigma^2)$. Entonces:\n",
    "\n",
    "- $\\bar{X} \\sim \\mathcal{N}(\\mu, \\frac{\\sigma^2}{n})$\n",
    "- $Z = \\frac{\\bar{X} - \\mu}{\\sigma / \\sqrt{n}} \\sim \\mathcal{N}(0,1)$\n",
    "\n",
    "Si el tamaño de la muestra es menor a 30, se utiliza la $t$: \n",
    "**Estadístico t**\n",
    "\n",
    "Definimos el estadístico $t$ de la siguiente manera:\n",
    "$$T = \\frac{\\bar{X}-\\mu}{s/\\sqrt{n}} \\sim t_{(n-1)} $$\n",
    "\n",
    "**El intervalo del** $(1 - \\alpha) \\cdot 100\\%$ de confianza para $\\mu$ (con $\\sigma$ desconocida) es:\n",
    "\n",
    "$$\n",
    "\\left( \\bar{X} - t_{\\alpha/2} \\frac{s}{\\sqrt{n}}, \\quad \\bar{X} + t_{\\alpha/2} \\frac{s}{\\sqrt{n}} \\right)\n",
    "$$\n",
    "donde\n",
    "\n",
    "- $s$ = desviación estándar muestral\n",
    "- $\\frac{s}{\\sqrt{n}}$ = error estándar de la media  \n",
    "- $t_{\\alpha/2}$ determina el nivel de confianza  \n",
    "- El intervalo está centrado en $\\bar{X}$"
   ]
  },
  {
   "cell_type": "markdown",
   "id": "e3acb60e-80c7-48f0-9a1e-80ac6bccbfc7",
   "metadata": {},
   "source": [
    "### Ejemplos"
   ]
  },
  {
   "cell_type": "markdown",
   "id": "8e0ce70d-c71e-4b2e-9d2f-d3dd09391dcb",
   "metadata": {},
   "source": [
    "Supongamos que tenemos los siguientes datos\n",
    "$$ datos = [45, 55, 67, 45, 68, 79, 98, 87, 84, 82] $$\n",
    "Calcular un intervalo de confianza para la media."
   ]
  },
  {
   "cell_type": "code",
   "execution_count": null,
   "id": "3c862f29-b7f7-47d9-ad81-65f2ea017224",
   "metadata": {},
   "outputs": [],
   "source": [
    "# Datos del ejemplo \n",
    "data = [45, 55, 67, 45, 68, 79, 98, 87, 84, 82]\n",
    "confidence = 0.95\n",
    "gl = len(data) - 1 # grados de liber\n",
    "\n",
    "# Media y error estandar\n",
    "mean = np.mean(data)\n",
    "error_est = st.sem(data)\n",
    "\n",
    "# Intervalo de confianza usando t de Student\n",
    "intervalo = st.t.interval(confidence, gl, loc = mean, scale = error_est)\n",
    "\n",
    "print(f\"Media muestral: {mean:.2f}\")\n",
    "print(f\"Error estandar: {error_est:.2f}\")\n",
    "print(f\"El intervalo de confianza del 95% es: {intervalo}\")\n"
   ]
  },
  {
   "cell_type": "markdown",
   "id": "20dcc98a-1150-4811-8f7a-51d769ded435",
   "metadata": {},
   "source": [
    "**Ejemplo 4** Los artículos de cerámica utilizados sobre velas electricas sobrecargadas se rompen con diferentes presiones. Supongamos que los datos provienen de una distribución normal.\n",
    "\n",
    "La resistencia a la ruptura fue medida en una muestra de 100 artículos, y el promedio fue de $1750$ con un desviación estándar de 315.8\n",
    "\n",
    "**a)** Estimar con un nivel del confianza del $90\\%$ a la media poblacional de la presión de la ruptura.\n",
    "\n",
    "**b)** Estimar con un nivel del confianza del $90\\%$ a la varianza poblacional."
   ]
  },
  {
   "cell_type": "code",
   "execution_count": null,
   "id": "5a884f50-1810-4320-82ad-91a212bd22ef",
   "metadata": {},
   "outputs": [],
   "source": [
    "# datos\n",
    "n = 100\n",
    "media_muestral = 1750\n",
    "desv_estandar_muestral = 315.8\n",
    "confianza = 0.90\n",
    "\n",
    "# a) Usar la normal ya que el tamaño de la muestra es grande\n",
    "error_est = desv_estandar_muestral / np.sqrt(n)\n",
    "error_est\n",
    "intervalo_media = st.norm.interval(confidence=confianza, loc = media_muestral, scale = error_est)\n",
    "print(f\"El intervalo de confianza del 90% es: {intervalo_media}\")\n",
    "\n",
    "# b) Intervalo de confianza para la varianza (usar chi-cuadrada)\n",
    "alpha = 1-confianza\n",
    "gl = n-1\n",
    "s2 = desv_estandar_muestral**2\n",
    "\n",
    "#Cuantiles de la chi-cuadrada\n",
    "chi2_inf = st.chi2.ppf(alpha / 2,df=gl)\n",
    "chi2_sup = st.chi2.ppf(1- alpha / 2,df=gl)\n",
    "\n",
    "# Intervalo de confianza\n",
    "intervalo_varianza = ((gl * s2) / chi2_sup, (gl * s2) / chi2_inf )\n",
    "print(f\"El intervalo de confianza del 90% es: {intervalo_varianza}\")\n",
    "\n",
    "#Otra forma\n",
    "chi2_low, chi2_high = chi2.interval(confianza,df=gl)\n",
    "intervalo_varianza1 = ((gl * s2) / chi2_high, (gl * s2) / chi2_low )\n",
    "print(f\"El intervalo de confianza del 90% es: {intervalo_varianza1}\")\n"
   ]
  },
  {
   "cell_type": "markdown",
   "id": "53b0293d-0112-453b-a67f-5ea5839c6085",
   "metadata": {},
   "source": [
    "**Ejemplo**  El artículo *\"Evaluation of a Ventilation Strategy to Prevent Barotrauma in Patients at High Risk for Acute Respiratory Distress Syndrome\"* reportó sobre un experimento con 120 pacientes con anestesistas en cuidados intensivos (UCI), los cuales fueron divididos al azar en dos grupos, donde cada uno esta compuesto por 60 pacientes. \n",
    "\n",
    "- Grupo A: promedio de permanencia = 14.1 horas\n",
    "- Grupo B: promedio de permanencia = 17.5 horas\n",
    "- Desviación estándar en ambos = 5.1 hrs\n",
    "\n",
    "Encontrar un intervalo del $95\\%$ de confianza para la diferecia de medias poblacionales: $(\\mu_A - \\mu_B)$  "
   ]
  },
  {
   "cell_type": "code",
   "execution_count": null,
   "id": "52f24473-5ec1-4a27-a69b-1fc892359275",
   "metadata": {},
   "outputs": [],
   "source": [
    "#Datos \n",
    "n1 = 60\n",
    "n2 = 60\n",
    "media1 = 14.1\n",
    "media2 = 17.5\n",
    "sigma = 5.1\n",
    "confianza = 0.95\n",
    "alpha = 1-confianza\n",
    "#gl = n1 + n2 -2\n",
    "\n",
    "#valor critico\n",
    "z = st.norm.ppf(1 - alpha / 2)\n",
    "\n",
    "#Error estandar\n",
    "error_est = sigma * np.sqrt(1/n1 + 1/n2)\n",
    "dif_medias = media1 - media2\n",
    "margen_error = z *error_est\n",
    "\n",
    "lim_inf = dif_medias - margen_error\n",
    "lim_sup = dif_medias + margen_error\n",
    "print(f\"Diferencia de las medias: {dif_medias:.2f}\")\n",
    "print(f\"Intervalo de confianza del 95%: ({lim_inf:.2f},{lim_sup:.2f})\")"
   ]
  },
  {
   "cell_type": "markdown",
   "id": "1e3ff921-f59c-4af1-a7a9-a9cee9856c4d",
   "metadata": {},
   "source": [
    "### Ejercicios"
   ]
  },
  {
   "cell_type": "code",
   "execution_count": null,
   "id": "bb09bd44-5084-40f1-871d-758df2144d00",
   "metadata": {},
   "outputs": [],
   "source": [
    "def printmd(string):\n",
    "    display(Markdown(string))"
   ]
  },
  {
   "cell_type": "markdown",
   "id": "8a23c504-0dab-47a1-b93b-799138480da1",
   "metadata": {},
   "source": [
    "**Ejercicio** En una encuesta de una Universidad, 225 estudiantes son seleccionados al azar de los que toman cálculo y se les pregunta si cálculo es su materia favorita. 100 estudiantes responden que el cálculo es su materia favorita. Proporcione un intervalo de confianza del 95 %  para la proporción de todos los estudiantes que toman cálculo y que la consideran su materia favorita.  1"
   ]
  },
  {
   "cell_type": "code",
   "execution_count": null,
   "id": "fd203ca8-e361-4763-83fd-e8c07a8b53de",
   "metadata": {},
   "outputs": [],
   "source": [
    "# Datos\n",
    "n = 225\n",
    "x = 100\n",
    "p_hat = x / n\n",
    "nivel_confianza = 0.95\n",
    "\n",
    "error_estandar = np.sqrt(p_hat * (1 - p_hat) / n)\n",
    "\n",
    "z = st.norm.ppf(1 - (1 - nivel_confianza) / 2)\n",
    "\n",
    "intervalo_prop = st.norm.interval(confidence=nivel_confianza, loc=p_hat, scale=error_estandar)\n",
    "\n",
    "printmd(\"**Intervalo de confianza del 95% para la proporción:**\")\n",
    "printmd(rf\"$\\text{{Intervalo}} = ({intervalo_prop[0]:.3f},\\ {intervalo_prop[1]:.3f})$\")"
   ]
  },
  {
   "cell_type": "markdown",
   "id": "f101d1d5-4bb4-493b-9ad7-e32a8245bd7e",
   "metadata": {},
   "source": [
    "**Ejercicio** Los datos $1.2,\\ 2.1,\\ 2.3,\\ 1.9,\\ 3.0,\\ 1.5,\\ 2.8,\\ 2.4,\\ 1.7,\\ 2.6,\\ 2.0,\\ 1.8,\\ 3.1,\\ 2.2,\\ 2.5$ se toman a partir de una distribución normal $N(\\mu,\\sigma^2)$ con $\\mu$ desconocida.\n",
    "\n",
    "**a)** Encuentra un intervalo de confianza al nivel de $90\\%$ para $\\mu$, dado que $\\sigma =2$.\n",
    "\n",
    "**b)** Encuentra un intervalo de confianza al nivel de $90\\%$ para $\\mu$.\n",
    "\n",
    "**c)** Encuentra un intervalo de confianza al nivel de $90\\%$ para $\\sigma^2$."
   ]
  },
  {
   "cell_type": "code",
   "execution_count": null,
   "id": "0091703c-5a05-4acd-9997-4c0f78e94829",
   "metadata": {},
   "outputs": [],
   "source": [
    "datos = np.array([1.2, 2.1, 2.3, 1.9, 3.0, 1.5, 2.8, 2.4, 1.7, 2.6, 2.0, 1.8, 3.1, 2.2, 2.5])\n",
    "n = len(datos)\n",
    "confianza = 0.90\n",
    "media = np.mean(datos)\n",
    "varianza = np.var(datos, ddof=1)\n",
    "desv_std = np.std(datos, ddof=1)\n",
    "\n",
    "# a) IC para mu con sigma conocida (=2)\n",
    "sigma = 2\n",
    "error_estandar_a = sigma / np.sqrt(n)\n",
    "z = st.norm.ppf(1 - (1 - confianza) / 2)\n",
    "lim_a = st.norm.interval(confianza, loc=media, scale=error_estandar_a)\n",
    "\n",
    "# b) IC para mu con sigma desconocida\n",
    "error_estandar_b = desv_std / np.sqrt(n)\n",
    "t = st.t.ppf(1 - (1 - confianza) / 2, df=n-1)\n",
    "lim_b = (media - t * error_estandar_b, media + t * error_estandar_b)\n",
    "\n",
    "# c) IC para varianza (sigma^2)\n",
    "chi2_inf = st.chi2.ppf((1 - confianza) / 2, df=n-1)\n",
    "chi2_sup = st.chi2.ppf(1 - (1 - confianza) / 2, df=n-1)\n",
    "lim_c = ((n - 1) * varianza / chi2_sup, (n - 1) * varianza / chi2_inf)\n",
    "\n",
    "printmd(\"\"\"##### Datos muestrales:\"\"\")\n",
    "printmd(rf\"\"\"$\\bar{{x}} = {media:.3f}$, $s^2 = {varianza:.3f}$, $s = {desv_std:.3f}$\"\"\")\n",
    "\n",
    "printmd(\"\"\"##### a) Intervalo de confianza del 90% para $\\\\mu$, con $\\\\sigma = 2$ conocida:\"\"\")\n",
    "printmd(rf\"\"\"$\\left({lim_a[0]:.3f},\\ {lim_a[1]:.3f}\\right)$\"\"\")\n",
    "\n",
    "printmd(\"\"\"##### b) Intervalo de confianza del 90% para $\\\\mu$, con $\\\\sigma$ desconocida:\"\"\")\n",
    "printmd(rf\"\"\"$\\left({lim_b[0]:.3f},\\ {lim_b[1]:.3f}\\right)$\"\"\")\n",
    "\n",
    "printmd(\"\"\"##### c) Intervalo de confianza del 90% para $\\\\sigma^2$:\"\"\")\n",
    "printmd(rf\"\"\"$\\left({lim_c[0]:.3f},\\ {lim_c[1]:.3f}\\right)$\"\"\")"
   ]
  },
  {
   "cell_type": "markdown",
   "id": "b52e0f87-9522-4240-8f21-2176d696a8d1",
   "metadata": {},
   "source": [
    "**Ejercicio** Los ingresos semanales promedio de las personas que trabajan en varias industrias aparecieron en el *The New York Times 1988 Almanac*.  \n",
    "Esos ingresos para quienes trabajan en los servicios fueron de $\\$369$. Suponga que este resultado se basó en una muestra de 250 personas dedicadas a los servicios y que la desviación estándar de la muestra fue de $\\$50$. Calcula el intervalo de confianza del 95% para la media de la población de ingresos semanales de personas que trabajan en los servicios."
   ]
  },
  {
   "cell_type": "code",
   "execution_count": null,
   "id": "65ff323b-2012-43aa-96bb-c7174978378c",
   "metadata": {},
   "outputs": [],
   "source": [
    "n = 250\n",
    "media = 369\n",
    "s = 50\n",
    "confianza = 0.95\n",
    "\n",
    "error_estandar = s / np.sqrt(n)\n",
    "\n",
    "t = st.t.ppf(1 - (1 - confianza) / 2, df=n-1)\n",
    "\n",
    "limite_inferior = media - t * error_estandar\n",
    "limite_superior = media + t * error_estandar\n",
    "\n",
    "printmd(\"##### Intervalo de confianza del 95% para la media de ingresos semanales:\")\n",
    "printmd(rf\"$\\bar{{x}} = {media}$, $s = {s}$, $n = {n}$\")\n",
    "printmd(rf\"$\\text{{Intervalo}} = \\left({limite_inferior:.3f},\\ {limite_superior:.3f}\\right)$\")"
   ]
  },
  {
   "cell_type": "markdown",
   "id": "e1be3717-3678-4f98-a6b9-1e61868cdd1a",
   "metadata": {},
   "source": [
    "**Ejercicio** En un estudio de préstamos a estudiantes, el Departamento de Educación informó que los beneficiarios del fondo Stafford Loan deberían un promedio de \\$12,658 al recibirse (*USA Today*, 5 de abril de 1995). Suponga que este promedio de deuda se basa en una muestra de 480 préstamos a estudiantes y que la desviación estándar de la población de las deudas al recibirse es \\$2,000.\n",
    "\n",
    "**a)** Determina un estimado de confianza del **90%** del promedio poblacional de la deuda.\n",
    "\n",
    "**b)** Determina un estimado de confianza del **95%** del promedio poblacional de la deuda.\n",
    "\n",
    "**c)** Determina un estimado de confianza del **99%** del promedio poblacional de la deuda.\n",
    "\n",
    "**d)** Describe lo que sucede con el **ancho del intervalo de confianza** a medida que se **aumenta el nivel de confianza**. ¿Parece razonable? Explica tu respuesta."
   ]
  },
  {
   "cell_type": "code",
   "execution_count": null,
   "id": "ece7865f-56ea-4822-87c7-b5295a188037",
   "metadata": {},
   "outputs": [],
   "source": [
    "media = 12658\n",
    "n = 480\n",
    "sigma = 2000\n",
    "niveles_confianza = [0.90, 0.95, 0.99]\n",
    "intervalos = {}\n",
    "\n",
    "for nivel in niveles_confianza:\n",
    "    z = st.norm.ppf(1 - (1 - nivel) / 2)\n",
    "    error_estandar = sigma / np.sqrt(n)\n",
    "    lim_inf = media - z * error_estandar\n",
    "    lim_sup = media + z * error_estandar\n",
    "    ancho = lim_sup - lim_inf\n",
    "    intervalos[nivel] = (lim_inf, lim_sup, ancho)\n",
    "\n",
    "# Resultados\n",
    "printmd(\"##### a) Intervalo de confianza del 90% para la media de la deuda:\")\n",
    "printmd(rf\"$({intervalos[0.90][0]:.2f},\\ {intervalos[0.90][1]:.2f})$ (ancho = {intervalos[0.90][2]:.2f})\")\n",
    "\n",
    "printmd(\"##### b) Intervalo de confianza del 95% para la media de la deuda:\")\n",
    "printmd(rf\"$({intervalos[0.95][0]:.2f},\\ {intervalos[0.95][1]:.2f})$ (ancho = {intervalos[0.95][2]:.2f})\")\n",
    "\n",
    "printmd(\"###### c) Intervalo de confianza del 99% para la media de la deuda:\")\n",
    "printmd(rf\"$({intervalos[0.99][0]:.2f},\\ {intervalos[0.99][1]:.2f})$ (ancho = {intervalos[0.99][2]:.2f})\")\n",
    "\n",
    "# d) Análisis del ancho del intervalo\n",
    "printmd(\"##### d) ¿Qué sucede con el ancho del intervalo al aumentar el nivel de confianza?\")\n",
    "printmd(\"A medida que el nivel de confianza aumenta, el ancho del intervalo también se incrementa:\")\n",
    "printmd(\"- 90% → ancho ≈ {:.2f}\".format(intervalos[0.90][2]))\n",
    "printmd(\"- 95% → ancho ≈ {:.2f}\".format(intervalos[0.95][2]))\n",
    "printmd(\"- 99% → ancho ≈ {:.2f}\".format(intervalos[0.99][2]))\n",
    "printmd(\"Esto es razonable, ya que para estar más seguros de que el verdadero valor poblacional esté dentro del intervalo, se necesita cubrir un rango más amplio de posibles valores.\")"
   ]
  },
  {
   "cell_type": "markdown",
   "id": "3b9ed252-1eb7-4632-a3c7-0ed21b29b57c",
   "metadata": {},
   "source": [
    "**Ejercicio** La encuesta anual de calidad de automóviles, efectuada por *J. D. Power & Associates*, determinó que la cantidad promedio de defectos, en todas las marcas, por cada vehículo nuevo es **1.07**  (*The Wall Street Journal*, 27 de enero de 1994). Suponga que se toma una muestra de **30 automóviles nuevos** de determinada marca y se obtienen las siguientes cantidades de defectos por vehículo:\n",
    "$$ 0, 1, 1, 2, 1, 0, 2, 3, 2, 1, 0, 2, 0, 0, 2, 3, 0, 4, 3, 1, 1, 1, 0, 2, 0, 2, 0, 3, 1, 0 $$\n",
    "\n",
    "**a)** ¿Cuál es el promedio muestral de la cantidad de defectos por vehículo?\n",
    "\n",
    "**b)** ¿Cuál es la desviación estándar de la muestra?\n",
    "\n",
    "**c)** Determine un intervalo de confianza del 95% para la **media de defectos** por vehículo de esta marca.\n",
    "\n",
    "**d)** Un analista sugirió que se debería **revisar una muestra mayor** antes de comparar con el promedio general de J.D. Power (1.07). ¿Respalda usted esta idea? ¿Por qué?"
   ]
  },
  {
   "cell_type": "code",
   "execution_count": null,
   "id": "092fbb11-cd3d-4959-90f6-274c64a4123c",
   "metadata": {},
   "outputs": [],
   "source": [
    "datos = np.array([0, 1, 1, 2, 1, 0, 2, 3, 2, 1, 0, 2, 0, 0, 2, 3, 0, 4, 3, 1, 1, 1, 0, 2, 0, 2, 0, 3, 1, 0])\n",
    "n = len(datos)\n",
    "confianza = 0.95\n",
    "media = np.mean(datos)\n",
    "s = np.std(datos, ddof=1)\n",
    "\n",
    "error_estandar = s / np.sqrt(n)\n",
    "t = st.t.ppf(1 - (1 - confianza) / 2, df=n-1)\n",
    "lim_inf = media - t * error_estandar\n",
    "lim_sup = media + t * error_estandar\n",
    "\n",
    "printmd(\"##### a) Promedio muestral de defectos:\")\n",
    "printmd(rf\"$\\bar{{x}} = {media:.3f}$\")\n",
    "\n",
    "printmd(\"##### b) Desviación estándar muestral:\")\n",
    "printmd(rf\"$s = {s:.3f}$\")\n",
    "\n",
    "printmd(\"##### c) Intervalo de confianza del 95% para la media:\")\n",
    "printmd(rf\"$({lim_inf:.3f},\\ {lim_sup:.3f})$\")\n",
    "\n",
    "printmd(\"##### d) ¿Es razonable tomar una muestra mayor antes de comparar con el promedio general (1.07)?\")\n",
    "printmd(\n",
    "    \"Sí, es razonable. Aunque el promedio muestral es $1.27$, el intervalo de confianza del $95\\\\%$ es \"\n",
    "    f\"({lim_inf:.2f}, {lim_sup:.2f}), lo cual incluye el promedio general de 1.07. \"\n",
    "    \"Esto significa que no hay evidencia estadística suficiente para afirmar que esta marca difiere del promedio general. \"\n",
    "    \"Una muestra más grande reduciría la variabilidad y haría más precisa la estimación.\")\n"
   ]
  },
  {
   "cell_type": "markdown",
   "id": "318f9c97-a0f1-4521-bf4a-5ec566099d93",
   "metadata": {},
   "source": [
    "**Ejercicio** Un artículo que apareció en el ejemplar de noviembre de 1983 de *Consumer Reports* comparó varios tipos de baterías.  \n",
    "Se informó que los siguientes datos provienen de una muestra de 20 baterías (en horas de duración):\n",
    "$$ [2200, 2290, 2390, 2410, 2480, 2500, 2580, 2700, 2030, 2100, 2190, 1600, 1740, 1900, 1930, 2000, 1510, 1470, 1770, 1710] $$\n",
    "Determine la media muestral, la desviación estándar muestral, y el intervalo de confianza del **90%** para la media poblacional."
   ]
  },
  {
   "cell_type": "code",
   "execution_count": null,
   "id": "4f57c586-8b29-4512-ae44-8039ff61c308",
   "metadata": {},
   "outputs": [],
   "source": [
    "baterias = np.array([2200, 2290, 2390, 2410, 2480, 2500, 2580, 2700, 2030, 2100,\n",
    "                     2190, 1600, 1740, 1900, 1930, 2000, 1510, 1470, 1770, 1710])\n",
    "n = len(baterias)\n",
    "confianza = 0.90\n",
    "media = np.mean(baterias)\n",
    "s = np.std(baterias, ddof=1)\n",
    "\n",
    "error_estandar = s / np.sqrt(n)\n",
    "t = st.t.ppf(1 - (1 - confianza) / 2, df=n-1)\n",
    "lim_inf = media - t * error_estandar\n",
    "lim_sup = media + t * error_estandar\n",
    "\n",
    "printmd(\"##### Media y desviación estándar muestral:\")\n",
    "printmd(rf\"$\\bar{{x}} = {media:.2f}$\")\n",
    "printmd(rf\"$s = {s:.2f}$\")\n",
    "\n",
    "printmd(\"###### Intervalo de confianza del 90% para la media poblacional:\")\n",
    "printmd(rf\"$({lim_inf:.2f},\\ {lim_sup:.2f})$\")"
   ]
  },
  {
   "cell_type": "markdown",
   "id": "f889987f-1a0e-469b-bfa0-d9754d78e408",
   "metadata": {},
   "source": [
    "**Ejercicio** El toxafen es un insecticida que ha sido identificado como contaminante en el ecosistema de los Grandes Lagos.  \n",
    "Para investigar el efecto de la exposición al toxafen en animales, a grupos de ratas se les administró toxafen en su dieta.\n",
    "\n",
    "El artículo *\"Reproduction Study of Toxaphene in Rat\"* reporta **aumentos de peso (en gramos)** de ratas a las que se les administró una **dosis baja (4 ppm)** y de ratas de **control** cuya dieta no incluía el insecticida.\n",
    "\n",
    "- En el grupo **control**, una muestra de **23 ratas hembras** tuvo una media de **$\\bar{X_2} = 210$ g** y una desviación estándar de **32 g**.\n",
    "- En el grupo con **dosis baja**, una muestra de **20 ratas hembras** tuvo una media de **$\\bar{X_1} = 190$ g** y una desviación estándar de **54 g**.\n",
    "\n",
    "Encuentra un **intervalo de confianza del 90% para la diferencia de medias** poblacionales:  $\\mu_1 - \\mu_2$, donde:\n",
    "\n",
    "- $\\mu_1$ es la media poblacional de incremento de peso en el grupo con **dosis baja**.\n",
    "- $\\mu_2$ es la media poblacional de incremento de peso en el grupo **control**.\n",
    "\n",
    "¿Sugiere este intervalo que el toxafen **reduce** el incremento de peso en ratas?  \n",
    "¿Incluye el intervalo el valor 0? ¿Por qué es importante?"
   ]
  },
  {
   "cell_type": "code",
   "execution_count": null,
   "id": "5bf071ee-b7bc-48b8-876c-ee9827d7365c",
   "metadata": {},
   "outputs": [],
   "source": [
    "##### Grupo con dosis baja \n",
    "n1, x1_bar, s1 = 20, 190, 54\n",
    "##### Grupo control \n",
    "n2, x2_bar, s2 = 23, 210, 32\n",
    "\n",
    "confianza = 0.90\n",
    "\n",
    "diferencia = x1_bar - x2_bar\n",
    "\n",
    "se = np.sqrt((s1**2 / n1) + (s2**2 / n2))\n",
    "\n",
    "df = ((s1**2 / n1 + s2**2 / n2) ** 2) / (\n",
    "    ((s1**2 / n1) ** 2) / (n1 - 1) + ((s2**2 / n2) ** 2) / (n2 - 1)\n",
    ")\n",
    "\n",
    "t = st.t.ppf(1 - (1 - confianza) / 2, df=df)\n",
    "\n",
    "lim_inf = diferencia - t * se\n",
    "lim_sup = diferencia + t * se\n",
    "\n",
    "printmd(\"##### Intervalo de confianza del 90% para $\\\\mu_1 - \\\\mu_2$:\")\n",
    "printmd(rf\"$\\text{{IC}} = ({lim_inf:.2f},\\ {lim_sup:.2f})$\")\n",
    "\n",
    "##### Interpretación \n",
    "printmd(\"##### ¿El intervalo sugiere que el toxafen reduce el incremento de peso?\")\n",
    "printmd(\"El intervalo incluye el **0**, lo que indica que no hay evidencia suficiente para afirmar que el toxafen \"\n",
    "        \"reduce el incremento de peso en ratas. Es posible que la diferencia observada se deba al azar.\")"
   ]
  },
  {
   "cell_type": "markdown",
   "id": "ba5fb918-c235-498c-a4cd-054f7f4422fa",
   "metadata": {},
   "source": [
    "## 4.1 Pruebas de hipotesis"
   ]
  },
  {
   "attachments": {
    "83827130-75f8-47c9-8851-3e4f74571f84.png": {
     "image/png": "[encoded data removed]"
    },
    "9b8db456-7282-42fc-a63e-2dbfd705e895.png": {
     "image/png": "[encoded data removed]"
    }
   },
   "cell_type": "markdown",
   "id": "469eb80e-ab2b-4d44-872f-9fc2ba0f9bc8",
   "metadata": {},
   "source": [
    "Una hipótesis estadística,o simplemente hipótesis, es una afirmación o conjetura acerca de la distribución de una o más variables aleatorias.\n",
    "\n",
    "Establecer con precisió las hipótesis a contrastar depende fuertemente del estudio que se esté llevando a cabo, de la pregunta que se desee contestar, y de la información adicional que se tenga acerca del problema particular en estudio. Una hipótesis es simple si especifica por completo la distribución de probabilidad en cuesti´on, en caso contrario, la hipótesis se llama compuesta\n",
    "\n",
    "Ilustraremos las ideas básicas de una prueba de hipótesis mediante un ejem plo sencillo e interesante. Más adelante formalizaremos los conceptos para el caso de pruebas concernientes a los parámetros de las distribuciones de probabilidad.\n",
    "\n",
    "![image.png](attachment:9b8db456-7282-42fc-a63e-2dbfd705e895.png)\n",
    "\n",
    "Consideremos una situación en la que se efectúa sólo uno de los siguientes dos experimentos aleatorios: se lanza un dado equilibrado y se registra el número obtenido, o bien se lanza una moneda cinco veces y se registra el número de cruces totales que se obtienen. Supondremos que los lados de cada moneda se denominan cara y cruz. El problema radica en que únicamente conocemos el resultado reportado x y no conocemos el experimento aleatorio efectuado. Deseamos determinar cuál de los dos experimentos se realizó con base en el número x observado. Tenemos entonces una situación de dos hipótesis: H0 : “Se lanzó el dado” vs H1 : “Se lanzó la moneda”. Como única información sobre este experimento tenemos un número x den tro del conjunto t0,1,2,3,4,5,6, y con base en él debemos decidir si se llevó a cabo un experimento o el otro. La pregunta que nos planteamos es ¿qué decisión tomar para cada valor de x? Observemos que si el número reportado es 0, entonces con seguridad se realizó el experimento de la moneda. En cambio, si se reporta el número 6, entonces con seguridad el dado fue lanzado. Una forma de responder esta pregunta es usando máxima verosimilitud. \n",
    "\n",
    "![image.png](attachment:83827130-75f8-47c9-8851-3e4f74571f84.png)\n"
   ]
  },
  {
   "cell_type": "markdown",
   "id": "2f134fe1-993e-408d-b58c-62a1442da6f5",
   "metadata": {},
   "source": [
    " Llevar a cabo una prueba de hipótesis significa aplicar una regla para decidir si se acepta la hipótesis nula o se rechaza en favor de la hipótesis alternativa.\n",
    "La información para obtener una regla de decisión que nos lleve a rechazar o no rechazar una hipótesis estadística provendrá de una muestra aleatoria de la distribución en estudio. \n",
    "Por otro lado, al aceptar una hipótesis no se afirma que ésta sea absolutamente cierta, sino simplemente que es consistente con los datos de la muestra aleatoria y la regla de decisión adoptada. Si la\n",
    " información de la muestra o la regla de decisión cambia, muy posiblemente también cambie la decisión de rechazar o no rechazar"
   ]
  },
  {
   "cell_type": "markdown",
   "id": "ee0a4d14-9978-4e62-a08f-a17c46eaa939",
   "metadata": {},
   "source": [
    "### Ejemplos"
   ]
  },
  {
   "cell_type": "markdown",
   "id": "47258d07-3651-4ff8-979a-42542e3d9d6d",
   "metadata": {},
   "source": [
    "Supongamos que tenemos dos grupos de estudiantes que han tomado un curso y queremos saber si hay una diferencia significativa en sus puntuaciones finales en el examen. Queremos realizar una prueba de hipótesis para comparar si las medias de ambos grupos son diferentes.\n",
    "\n",
    "* Hipótesis nula 𝐻0 : Las medias de los dos grupos son iguales.\n",
    "* Hipótesis alternativa 𝐻𝑎: Las medias de los dos grupos no son iguales"
   ]
  },
  {
   "cell_type": "code",
   "execution_count": null,
   "id": "6f58ae33-59d8-4dcf-9000-6e03bcd3a365",
   "metadata": {},
   "outputs": [],
   "source": [
    "# Datos de ejemplo (notas de dos grupos de estudiantes)\n",
    "grupo_1 = [85, 90, 88, 92, 94, 89, 91, 93, 86, 88]\n",
    "grupo_2 = [80, 78, 82, 85, 84, 80, 79, 83, 81, 77]\n",
    "\n",
    "# 1. Calcular las medias y desviaciones estándar de ambos grupos\n",
    "media_1 = np.mean(grupo_1)\n",
    "media_2 = np.mean(grupo_2)\n",
    "desviacion_1 = np.std(grupo_1, ddof=1)  # Usando ddof=1 para varianza muestral\n",
    "desviacion_2 = np.std(grupo_2, ddof=1)\n",
    "\n",
    "# 2. Número de observaciones en cada grupo\n",
    "n1 = len(grupo_1)\n",
    "n2 = len(grupo_2)\n",
    "\n",
    "# 3. Realizar la prueba t de Student para muestras independientes\n",
    "t_stat, p_value = stats.ttest_ind(grupo_1, grupo_2)\n",
    "\n",
    "# 4. Imprimir resultados\n",
    "print(f\"Media Grupo 1: {media_1}\")\n",
    "print(f\"Media Grupo 2: {media_2}\")\n",
    "print(f\"Desviación estándar Grupo 1: {desviacion_1}\")\n",
    "print(f\"Desviación estándar Grupo 2: {desviacion_2}\")\n",
    "print(f\"Estadístico t: {t_stat}\")\n",
    "print(f\"Valor p: {p_value}\")\n",
    "\n",
    "# 5. Decisión sobre la hipótesis\n",
    "alpha = 0.05  # Nivel de significancia\n",
    "if p_value < alpha:\n",
    "    print(\"Rechazamos la hipótesis nula: Hay una diferencia significativa entre las medias.\")\n",
    "else:\n",
    "    print(\"No podemos rechazar la hipótesis nula: No hay evidencia suficiente para decir que las medias son diferentes.\")\n"
   ]
  },
  {
   "cell_type": "markdown",
   "id": "3384453b-c879-442a-b999-aa5ddb38e01f",
   "metadata": {},
   "source": [
    "** Ejemplo **\n",
    "\n",
    "Supongamos que estamos evaluando si el tiempo promedio que los empleados pasan en su puesto de trabajo es diferente a una cantidad esperada (por ejemplo, 8 horas).\n",
    "* Hipótesis nula 𝐻0: El tiempo promedio que los empleados pasan en el trabajo es igual a 8 horas.\n",
    "* Hipótesis alternativa 𝐻𝑎: El tiempo promedio que los empleados pasan en el trabajo no es igual a 8 horas."
   ]
  },
  {
   "cell_type": "code",
   "execution_count": null,
   "id": "5b4d40ea-afe7-42a4-bd4d-3c14f3ede0a7",
   "metadata": {},
   "outputs": [],
   "source": [
    "import numpy as np\n",
    "import scipy.stats as stats\n",
    "\n",
    "# Datos de ejemplo (tiempo en horas que los empleados pasan en el trabajo)\n",
    "empleados_tiempo = [8.1, 7.9, 8.3, 7.8, 8.2, 7.7, 8.0, 7.9, 8.1, 8.3]\n",
    "\n",
    "# 1. Calcular la media y desviación estándar de la muestra\n",
    "media_muestra = np.mean(empleados_tiempo)\n",
    "desviacion_muestra = np.std(empleados_tiempo, ddof=1)\n",
    "\n",
    "# 2. Número de observaciones\n",
    "n = len(empleados_tiempo)\n",
    "\n",
    "# 3. Tiempo esperado (hipótesis nula)\n",
    "tiempo_esperado = 8\n",
    "\n",
    "# 4. Realizar la prueba t de una sola muestra\n",
    "t_stat, p_value = stats.ttest_1samp(empleados_tiempo, tiempo_esperado)\n",
    "\n",
    "# 5. Imprimir resultados\n",
    "print(f\"Media de la muestra: {media_muestra}\")\n",
    "print(f\"Desviación estándar de la muestra: {desviacion_muestra}\")\n",
    "print(f\"Estadístico t: {t_stat}\")\n",
    "print(f\"Valor p: {p_value}\")\n",
    "\n",
    "# 6. Decisión sobre la hipótesis\n",
    "alpha = 0.05  # Nivel de significancia\n",
    "if p_value < alpha:\n",
    "    print(\"Rechazamos la hipótesis nula: El tiempo promedio es diferente de 8 horas.\")\n",
    "else:\n",
    "    print(\"No podemos rechazar la hipótesis nula: El tiempo promedio es igual a 8 horas.\")\n"
   ]
  },
  {
   "cell_type": "code",
   "execution_count": null,
   "id": "b2278230-9f89-4365-a87a-3ef5932e5b1d",
   "metadata": {},
   "outputs": [],
   "source": []
  }
 ],
 "metadata": {
  "kernelspec": {
   "display_name": "Python 3 (ipykernel)",
   "language": "python",
   "name": "python3"
  },
  "language_info": {
   "codemirror_mode": {
    "name": "ipython",
    "version": 3
   },
   "file_extension": ".py",
   "mimetype": "text/x-python",
   "name": "python",
   "nbconvert_exporter": "python",
   "pygments_lexer": "ipython3",
   "version": "3.13.2"
  }
 },
 "nbformat": 4,
 "nbformat_minor": 5
}
