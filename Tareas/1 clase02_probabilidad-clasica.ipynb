{
 "cells": [
  {
   "cell_type": "markdown",
   "id": "3bc9d1e8-a77c-4c92-8499-417940159f9d",
   "metadata": {},
   "source": [
    "# Módulo 02: Modelos estadísticos\n",
    "\n",
    "Clase 02. **08 de marzo de 2025**\n",
    "\n",
    "---"
   ]
  },
  {
   "cell_type": "markdown",
   "id": "8c285a77-1827-48d7-8759-4bec5b74da98",
   "metadata": {
    "jp-MarkdownHeadingCollapsed": true
   },
   "source": [
    "## Equipo 6.\n",
    "### Integrantes:\n",
    "\n",
    "* Arellano Juárez Yoshué Bernardino\n",
    "* Arellanos Balcázar Carlos Japhet\n",
    "* Chávez Gómez Sandra Fernanda\n",
    "* Gómez Alba Valeria\n",
    "* Rasgado Celaya Julio Martín\n",
    "\n",
    "---"
   ]
  },
  {
   "cell_type": "markdown",
   "id": "f9cae2eb-c425-48cb-bc7a-19cfc5112f84",
   "metadata": {},
   "source": [
    "## Probabilidad Laplaciana (clásica)\n",
    "\n",
    "Para un experimento aleatorio, se tiene que $\\Omega$ es el espacio muestral.\n",
    "\n",
    "Sea $A$ un evento, entonces:\n",
    "\n",
    "$$ \\mathbb{P}(A) = \\frac{\\#A}{\\#\\Omega} $$\n",
    "\n",
    "Ejemplo:\n",
    "\n",
    "Sea el experimento de lanzar una moneda 3 veces, de manera independiente (es decir, lanzamientos). El espacio muestral de este experimento es:\n",
    "\n",
    "$$\n",
    "\\Omega = \\{A, S\\} \\times \\{A, S\\} \\times \\{A, S\\} = \\{A, S\\}^{3}\n",
    "$$\n",
    "\n",
    "y tenemos que $\\#\\Omega = 2^{3}$\n",
    "\n",
    "---\n",
    "\n",
    "Sean los eventos:\n",
    "* $A$: todos los resultados son águila\n",
    "* $S$: todos los resultados son soles\n",
    "* $E$: por lo menos un resultado es sol\n",
    "\n",
    "Calcular las probabilidades de estos eventos:\n",
    "\n",
    "Se descompone el conjunto $A$ de la siguiente manera:\n",
    "\n",
    "$$\n",
    "A = A_1 \\cap A_2 \\cap A_3\n",
    "$$\n",
    "\n",
    "donde $A_i$: cae águila en el $i$-ésimo resultado"
   ]
  },
  {
   "cell_type": "code",
   "execution_count": 1,
   "id": "a1e8832a-ce1d-471c-b866-49f11a72acbc",
   "metadata": {},
   "outputs": [],
   "source": [
    "from IPython.display import Markdown\n",
    "\n",
    "def printmd(text):\n",
    "    display(Markdown(text))"
   ]
  },
  {
   "cell_type": "code",
   "execution_count": 2,
   "id": "13242dcd-81a0-4aa4-8b1f-6685ef0652db",
   "metadata": {},
   "outputs": [],
   "source": [
    "# Creando el espacio muestral\n",
    "from itertools import product"
   ]
  },
  {
   "cell_type": "code",
   "execution_count": 3,
   "id": "fcfb1e44-4de3-414e-b52d-fe7f3bb6a1ee",
   "metadata": {},
   "outputs": [
    {
     "data": {
      "text/plain": [
       "{('A', 'A', 'A'),\n",
       " ('A', 'A', 'S'),\n",
       " ('A', 'S', 'A'),\n",
       " ('A', 'S', 'S'),\n",
       " ('S', 'A', 'A'),\n",
       " ('S', 'A', 'S'),\n",
       " ('S', 'S', 'A'),\n",
       " ('S', 'S', 'S')}"
      ]
     },
     "execution_count": 3,
     "metadata": {},
     "output_type": "execute_result"
    }
   ],
   "source": [
    "Ω = set(product({'A', 'S'}, repeat=3))\n",
    "Ω"
   ]
  },
  {
   "cell_type": "code",
   "execution_count": 23,
   "id": "805b3d27-efc1-4c12-9729-010d1378e849",
   "metadata": {},
   "outputs": [],
   "source": [
    "def prob(A, Ω):\n",
    "    return len(A) / len(Ω)"
   ]
  },
  {
   "cell_type": "markdown",
   "id": "8516bb1d-65eb-4cce-9d21-505da64c563c",
   "metadata": {},
   "source": [
    "### Inciso a. Todos los resultados son águila"
   ]
  },
  {
   "cell_type": "code",
   "execution_count": 4,
   "id": "f4c3f313-d730-4ecd-86d5-de23c1ccb737",
   "metadata": {},
   "outputs": [
    {
     "data": {
      "text/plain": [
       "{('A', 'A', 'A'), ('A', 'A', 'S'), ('A', 'S', 'A'), ('A', 'S', 'S')}"
      ]
     },
     "execution_count": 4,
     "metadata": {},
     "output_type": "execute_result"
    }
   ],
   "source": [
    "# Se crea el evento A1\n",
    "# La primera coordenada es águila\n",
    "A_1 = {ω for ω in Ω if ω[0] == 'A'}\n",
    "A_1"
   ]
  },
  {
   "cell_type": "code",
   "execution_count": 5,
   "id": "8313a710-4261-4110-9679-d88af0c08378",
   "metadata": {},
   "outputs": [
    {
     "data": {
      "text/plain": [
       "{('A', 'A', 'A'), ('A', 'A', 'S'), ('S', 'A', 'A'), ('S', 'A', 'S')}"
      ]
     },
     "execution_count": 5,
     "metadata": {},
     "output_type": "execute_result"
    }
   ],
   "source": [
    "# Se crea el evento A2\n",
    "# La segunda coordenada es águila\n",
    "A_2 = {ω for ω in Ω if ω[1] == 'A'}\n",
    "A_2"
   ]
  },
  {
   "cell_type": "code",
   "execution_count": 6,
   "id": "6c1bf7cf-8858-4844-aae0-26e0a1f7ad14",
   "metadata": {},
   "outputs": [
    {
     "data": {
      "text/plain": [
       "{('A', 'A', 'A'), ('A', 'S', 'A'), ('S', 'A', 'A'), ('S', 'S', 'A')}"
      ]
     },
     "execution_count": 6,
     "metadata": {},
     "output_type": "execute_result"
    }
   ],
   "source": [
    "# Se crea el evento A3\n",
    "# La tercera coordenada es águila\n",
    "A_3 = {ω for ω in Ω if ω[2] == 'A'}\n",
    "A_3"
   ]
  },
  {
   "cell_type": "code",
   "execution_count": 7,
   "id": "2dea525b-ec0c-407a-b54a-91a11b9bc694",
   "metadata": {},
   "outputs": [
    {
     "data": {
      "text/plain": [
       "{('A', 'A', 'A')}"
      ]
     },
     "execution_count": 7,
     "metadata": {},
     "output_type": "execute_result"
    }
   ],
   "source": [
    "# Creando el evento A\n",
    "A = A_1.intersection(A_2.intersection(A_3))\n",
    "A"
   ]
  },
  {
   "cell_type": "code",
   "execution_count": 8,
   "id": "9d5ff733-e326-4431-95f1-0005121dfb1a",
   "metadata": {},
   "outputs": [
    {
     "data": {
      "text/markdown": [
       "$$P_A = \\frac{1}{8} = {0.125}$$"
      ],
      "text/plain": [
       "<IPython.core.display.Markdown object>"
      ]
     },
     "metadata": {},
     "output_type": "display_data"
    }
   ],
   "source": [
    "# Calculando la probabilidad de A\n",
    "P_A = len(A) / len(Ω)\n",
    "\n",
    "printmd(f'$$P_A = \\\\frac{{{len(A)}}}{{{len(Ω)}}} = {{{P_A}}}$$')"
   ]
  },
  {
   "cell_type": "markdown",
   "id": "6f050295-aa23-4ef2-9049-17d40d9e8f4f",
   "metadata": {},
   "source": [
    "### Inciso b. Todos los resultados son sol"
   ]
  },
  {
   "cell_type": "code",
   "execution_count": 9,
   "id": "ee5d258b-6e34-4f1a-be10-6bed0bad2397",
   "metadata": {},
   "outputs": [
    {
     "data": {
      "text/plain": [
       "{('S', 'A', 'A'), ('S', 'A', 'S'), ('S', 'S', 'A'), ('S', 'S', 'S')}"
      ]
     },
     "execution_count": 9,
     "metadata": {},
     "output_type": "execute_result"
    }
   ],
   "source": [
    "# Se crea el evento S1\n",
    "# La primera coordenada es sol\n",
    "S_1 = {ω for ω in Ω if ω[0] == 'S'}\n",
    "S_1"
   ]
  },
  {
   "cell_type": "code",
   "execution_count": 10,
   "id": "cc0ae313-2687-43a7-9352-552b5c9df379",
   "metadata": {},
   "outputs": [
    {
     "data": {
      "text/plain": [
       "{('A', 'S', 'A'), ('A', 'S', 'S'), ('S', 'S', 'A'), ('S', 'S', 'S')}"
      ]
     },
     "execution_count": 10,
     "metadata": {},
     "output_type": "execute_result"
    }
   ],
   "source": [
    "# Se crea el evento S2\n",
    "# La segunda coordenada es sol\n",
    "S_2 = {ω for ω in Ω if ω[1] == 'S'}\n",
    "S_2"
   ]
  },
  {
   "cell_type": "code",
   "execution_count": 11,
   "id": "18a20a65-7253-4005-8fd8-f621b95b52ba",
   "metadata": {},
   "outputs": [
    {
     "data": {
      "text/plain": [
       "{('A', 'A', 'S'), ('A', 'S', 'S'), ('S', 'A', 'S'), ('S', 'S', 'S')}"
      ]
     },
     "execution_count": 11,
     "metadata": {},
     "output_type": "execute_result"
    }
   ],
   "source": [
    "# Se crea el evento S3\n",
    "# La tercera coordenada es águila\n",
    "S_3 = {ω for ω in Ω if ω[2] == 'S'}\n",
    "S_3"
   ]
  },
  {
   "cell_type": "code",
   "execution_count": 12,
   "id": "ef10c97d-cbb3-411c-bf88-b2a3dc3202d7",
   "metadata": {},
   "outputs": [
    {
     "data": {
      "text/plain": [
       "{('S', 'S', 'S')}"
      ]
     },
     "execution_count": 12,
     "metadata": {},
     "output_type": "execute_result"
    }
   ],
   "source": [
    "# Creando el evento S\n",
    "S = S_1.intersection(S_2.intersection(S_3))\n",
    "S"
   ]
  },
  {
   "cell_type": "code",
   "execution_count": 13,
   "id": "903b3f88-143d-49d3-a02a-bcf4a4df415c",
   "metadata": {},
   "outputs": [
    {
     "data": {
      "text/markdown": [
       "$$P_S = \\frac{1}{8} = {0.125}$$"
      ],
      "text/plain": [
       "<IPython.core.display.Markdown object>"
      ]
     },
     "metadata": {},
     "output_type": "display_data"
    }
   ],
   "source": [
    "# Calculando la probabilidad de A\n",
    "P_S = len(S) / len(Ω)\n",
    "\n",
    "printmd(f'$$P_S = \\\\frac{{{len(S)}}}{{{len(Ω)}}} = {{{P_S}}}$$')"
   ]
  },
  {
   "cell_type": "markdown",
   "id": "00b8d3f3-5e9e-4728-8069-67db84adafc9",
   "metadata": {},
   "source": [
    "### Inciso c. Al menos un resultado es sol"
   ]
  },
  {
   "cell_type": "code",
   "execution_count": 15,
   "id": "10a01ea3-2648-4a52-9533-28486269a034",
   "metadata": {},
   "outputs": [
    {
     "data": {
      "text/plain": [
       "{('A', 'A', 'S'),\n",
       " ('A', 'S', 'A'),\n",
       " ('A', 'S', 'S'),\n",
       " ('S', 'A', 'A'),\n",
       " ('S', 'A', 'S'),\n",
       " ('S', 'S', 'A'),\n",
       " ('S', 'S', 'S')}"
      ]
     },
     "execution_count": 15,
     "metadata": {},
     "output_type": "execute_result"
    }
   ],
   "source": [
    "# Se crea el evento E\n",
    "E = {ω for ω in Ω if 'S' in ω}\n",
    "E"
   ]
  },
  {
   "cell_type": "code",
   "execution_count": 16,
   "id": "c6019f48-17bb-469b-8fa2-fb5583cf35e9",
   "metadata": {},
   "outputs": [
    {
     "data": {
      "text/markdown": [
       "$$P_S = \\frac{7}{8} = {0.875}$$"
      ],
      "text/plain": [
       "<IPython.core.display.Markdown object>"
      ]
     },
     "metadata": {},
     "output_type": "display_data"
    }
   ],
   "source": [
    "P_E = len(E) / len(Ω)\n",
    "\n",
    "printmd(f'$$P_S = \\\\frac{{{len(E)}}}{{{len(Ω)}}} = {{{P_E}}}$$')"
   ]
  },
  {
   "cell_type": "markdown",
   "id": "e0bf9974-133b-4d50-88b1-6e7da12f9f44",
   "metadata": {},
   "source": [
    "## Probabilidad condicional\n",
    "\n",
    "Definimos la probabilidad de que ocurra un evento $A$ sabiendo que ocurre el evento $B$\n",
    "\n",
    "$$\n",
    "\\mathbb{P}\\left(A \\mid B\\right) = \\frac{\\mathbb{P}\\left(A \\cap B\\right)}{\\mathbb{P}\\left(B\\right)} = \\frac{\\#A \\cap B}{\\#B}\n",
    "$$\n",
    "\n",
    "donde $\\mathbb{P}(B) > 0$"
   ]
  },
  {
   "cell_type": "code",
   "execution_count": 18,
   "id": "44e808d4-8f1c-407e-946c-b42945f935c8",
   "metadata": {},
   "outputs": [],
   "source": [
    "def probCondicional(A, B):\n",
    "    return len(A & B) / len(B)"
   ]
  },
  {
   "cell_type": "markdown",
   "id": "62d264c3-7d54-4c34-b2cd-e047af594b5c",
   "metadata": {},
   "source": [
    "Calcular la probabilidad condicional de los siguientes eventos:\n",
    "1. El primer lanzamiento es águila\n",
    "2. Dos de los resultados son águila"
   ]
  },
  {
   "cell_type": "markdown",
   "id": "8fa2ca41-9d3a-4730-a5a3-9dc6daa508e8",
   "metadata": {},
   "source": [
    "### El primer lanzamiento es águila"
   ]
  },
  {
   "cell_type": "code",
   "execution_count": 37,
   "id": "bec4634f-3926-4b20-be42-5ebe90ee1f81",
   "metadata": {},
   "outputs": [
    {
     "data": {
      "text/plain": [
       "{('A', 'A', 'A'), ('A', 'A', 'S'), ('A', 'S', 'A'), ('A', 'S', 'S')}"
      ]
     },
     "execution_count": 37,
     "metadata": {},
     "output_type": "execute_result"
    }
   ],
   "source": [
    "A = {ω for ω in Ω if ω[0] == 'A'}\n",
    "A"
   ]
  },
  {
   "cell_type": "code",
   "execution_count": 38,
   "id": "04200428-e09e-4dfb-b546-db70224b6208",
   "metadata": {},
   "outputs": [
    {
     "data": {
      "text/plain": [
       "0.5"
      ]
     },
     "execution_count": 38,
     "metadata": {},
     "output_type": "execute_result"
    }
   ],
   "source": [
    "prob(A, Ω)"
   ]
  },
  {
   "cell_type": "code",
   "execution_count": 39,
   "id": "d6aa1cd2-826e-49b5-9cdc-fbdb64300107",
   "metadata": {},
   "outputs": [
    {
     "data": {
      "text/plain": [
       "{('A', 'A', 'S'), ('A', 'S', 'A'), ('S', 'A', 'A')}"
      ]
     },
     "execution_count": 39,
     "metadata": {},
     "output_type": "execute_result"
    }
   ],
   "source": [
    "B = {ω for ω in Ω if ω.count('A') == 2}\n",
    "B"
   ]
  },
  {
   "cell_type": "code",
   "execution_count": 40,
   "id": "098b1cdb-d6d9-4c57-aaa0-aed1f36bb05f",
   "metadata": {},
   "outputs": [
    {
     "data": {
      "text/plain": [
       "0.375"
      ]
     },
     "execution_count": 40,
     "metadata": {},
     "output_type": "execute_result"
    }
   ],
   "source": [
    "prob(B, Ω)"
   ]
  },
  {
   "cell_type": "code",
   "execution_count": 41,
   "id": "cf233328-7a20-44be-932b-8fc23a4efeb8",
   "metadata": {},
   "outputs": [
    {
     "data": {
      "text/markdown": [
       "$$P_{AB} = \\frac{2}{3} = {0.667}$$"
      ],
      "text/plain": [
       "<IPython.core.display.Markdown object>"
      ]
     },
     "metadata": {},
     "output_type": "display_data"
    }
   ],
   "source": [
    "P_AB = probCondicional(A, B)\n",
    "\n",
    "printmd(f'$$P_{{AB}} = \\\\frac{{{len(A & B)}}}{{{len(B)}}} = {{{P_AB:.3f}}}$$')"
   ]
  },
  {
   "cell_type": "markdown",
   "id": "0d9bbf26-5065-4009-bac4-4c4671734cbb",
   "metadata": {},
   "source": [
    "## Independencia de eventos\n",
    "\n",
    "Decimos que dos eventos $A$ y $B$ son independientes si\n",
    "\n",
    "$$\n",
    "\\mathbb{P}(A \\cap B) = \\mathbb{P}(A) \\mathbb{P}(B)\n",
    "$$\n",
    "\n",
    "o de manera equivalente\n",
    "\n",
    "$$\n",
    "\\mathbb{P}(A \\mid B) = \\mathbb{P}(A)\n",
    "$$"
   ]
  },
  {
   "cell_type": "code",
   "execution_count": 44,
   "id": "a91e3b1e-8b82-4262-b23e-2c48f1ad88b3",
   "metadata": {},
   "outputs": [],
   "source": [
    "def independencia(A, B, Ω):\n",
    "    return prob(A & B, Ω) == (prob(A, Ω) * prob(B, Ω))"
   ]
  },
  {
   "cell_type": "code",
   "execution_count": 45,
   "id": "2bb93a7a-e7f5-488b-a034-94e791122f85",
   "metadata": {},
   "outputs": [
    {
     "data": {
      "text/plain": [
       "False"
      ]
     },
     "execution_count": 45,
     "metadata": {},
     "output_type": "execute_result"
    }
   ],
   "source": [
    "independencia(A, B, Ω)"
   ]
  },
  {
   "cell_type": "markdown",
   "id": "843ebad7-29a6-4a0b-93ba-6cd963eb77a4",
   "metadata": {},
   "source": [
    "Considerando el siguiente evento:\n",
    "* $C$: el segundo lanzamiento es sol"
   ]
  },
  {
   "cell_type": "code",
   "execution_count": 51,
   "id": "0f2a60c0-67c9-460e-9cb5-33bcef3901a7",
   "metadata": {},
   "outputs": [
    {
     "data": {
      "text/plain": [
       "{('A', 'S', 'A'), ('A', 'S', 'S'), ('S', 'S', 'A'), ('S', 'S', 'S')}"
      ]
     },
     "execution_count": 51,
     "metadata": {},
     "output_type": "execute_result"
    }
   ],
   "source": [
    "C = {ω for ω in Ω if ω[1] == 'S'}\n",
    "C"
   ]
  },
  {
   "cell_type": "code",
   "execution_count": 52,
   "id": "0326b2ec-e6c2-4ed0-9601-c227dcb67868",
   "metadata": {},
   "outputs": [
    {
     "data": {
      "text/plain": [
       "0.5"
      ]
     },
     "execution_count": 52,
     "metadata": {},
     "output_type": "execute_result"
    }
   ],
   "source": [
    "prob(C, Ω)"
   ]
  },
  {
   "cell_type": "code",
   "execution_count": 53,
   "id": "d08a4ddc-34f6-406e-9b4d-00356beba38c",
   "metadata": {},
   "outputs": [
    {
     "data": {
      "text/plain": [
       "0.5"
      ]
     },
     "execution_count": 53,
     "metadata": {},
     "output_type": "execute_result"
    }
   ],
   "source": [
    "probCondicional(A, C)"
   ]
  },
  {
   "cell_type": "code",
   "execution_count": 55,
   "id": "14b8494d-7d16-4c57-94b4-afcdc9370536",
   "metadata": {},
   "outputs": [
    {
     "data": {
      "text/plain": [
       "True"
      ]
     },
     "execution_count": 55,
     "metadata": {},
     "output_type": "execute_result"
    }
   ],
   "source": [
    "independencia(A, D, Ω)"
   ]
  },
  {
   "cell_type": "markdown",
   "id": "accb91cc-0508-4a67-944a-c24d839687a8",
   "metadata": {},
   "source": [
    "---\n",
    "\n",
    "Sea el experimento aleatorio de lanzar un dado dos veces. Sabemos que el espacio muestral se representa como:\n",
    "\n",
    "$$\n",
    "\\Omega = \\{(i, j) \\mid i, j \\in \\{1, 2, 3, 4, 5, 6\\}\\} = \\{1, 2, 3, 4, 5, 6\\} \\times \\{1, 2, 3, 4, 5, 6\\}\n",
    "$$\n",
    "\n",
    "y además $\\Omega = 6^{2} = 36$"
   ]
  },
  {
   "cell_type": "code",
   "execution_count": 72,
   "id": "1a689f50-759a-47b0-b4fa-9c068c811e53",
   "metadata": {},
   "outputs": [
    {
     "data": {
      "text/plain": [
       "{(1, 1),\n",
       " (1, 2),\n",
       " (1, 3),\n",
       " (1, 4),\n",
       " (1, 5),\n",
       " (1, 6),\n",
       " (2, 1),\n",
       " (2, 2),\n",
       " (2, 3),\n",
       " (2, 4),\n",
       " (2, 5),\n",
       " (2, 6),\n",
       " (3, 1),\n",
       " (3, 2),\n",
       " (3, 3),\n",
       " (3, 4),\n",
       " (3, 5),\n",
       " (3, 6),\n",
       " (4, 1),\n",
       " (4, 2),\n",
       " (4, 3),\n",
       " (4, 4),\n",
       " (4, 5),\n",
       " (4, 6),\n",
       " (5, 1),\n",
       " (5, 2),\n",
       " (5, 3),\n",
       " (5, 4),\n",
       " (5, 5),\n",
       " (5, 6),\n",
       " (6, 1),\n",
       " (6, 2),\n",
       " (6, 3),\n",
       " (6, 4),\n",
       " (6, 5),\n",
       " (6, 6)}"
      ]
     },
     "execution_count": 72,
     "metadata": {},
     "output_type": "execute_result"
    }
   ],
   "source": [
    "Ω = set(product((1, 2, 3, 4, 5, 6), repeat=2))\n",
    "Ω"
   ]
  },
  {
   "cell_type": "code",
   "execution_count": 64,
   "id": "1754011c-d09a-4ff2-95ad-81917f138ce7",
   "metadata": {},
   "outputs": [
    {
     "data": {
      "text/plain": [
       "36"
      ]
     },
     "execution_count": 64,
     "metadata": {},
     "output_type": "execute_result"
    }
   ],
   "source": [
    "cardΩ = len(Ω)\n",
    "cardΩ"
   ]
  },
  {
   "cell_type": "markdown",
   "id": "205e682e-36f9-4112-b3d0-b7ed78b538b5",
   "metadata": {},
   "source": [
    "Definimos el evento:\n",
    "* $S_n$: la suma de los dados en $n$\n",
    "\n",
    "y escrito en conjunto es\n",
    "\n",
    "$$\n",
    "S_n = \\left\\{ (i, j) \\in \\Omega \\mid i + j = n \\right\\}\n",
    "$$"
   ]
  },
  {
   "cell_type": "code",
   "execution_count": 73,
   "id": "5b4eba5c-be3d-4341-a683-6b674a030cbb",
   "metadata": {},
   "outputs": [],
   "source": [
    "def S_n(n):\n",
    "    Sn = {(i + 1, j + 1) for i in range(6) for j in range(6) if i + j + 2 == n}\n",
    "    return Sn"
   ]
  },
  {
   "cell_type": "code",
   "execution_count": 74,
   "id": "df1c9068-1c36-418a-a860-f291af0f90c5",
   "metadata": {},
   "outputs": [],
   "source": [
    "S_9 = S_n(9)"
   ]
  },
  {
   "cell_type": "code",
   "execution_count": 77,
   "id": "e4a19d22-9b3e-49da-9f73-06d6625903a5",
   "metadata": {},
   "outputs": [
    {
     "data": {
      "text/markdown": [
       "$$P_{S9} = \\frac{4}{36} = {0.111}$$"
      ],
      "text/plain": [
       "<IPython.core.display.Markdown object>"
      ]
     },
     "metadata": {},
     "output_type": "display_data"
    }
   ],
   "source": [
    "P_S9 = prob(S_9, Ω)\n",
    "printmd(f'$$P_{{S9}} = \\\\frac{{{len(S_9)}}}{{{len(Ω)}}} = {{{P_S9:.3f}}}$$')"
   ]
  }
 ],
 "metadata": {
  "kernelspec": {
   "display_name": "Python 3 (ipykernel)",
   "language": "python",
   "name": "python3"
  },
  "language_info": {
   "codemirror_mode": {
    "name": "ipython",
    "version": 3
   },
   "file_extension": ".py",
   "mimetype": "text/x-python",
   "name": "python",
   "nbconvert_exporter": "python",
   "pygments_lexer": "ipython3",
   "version": "3.13.2"
  }
 },
 "nbformat": 4,
 "nbformat_minor": 5
}
