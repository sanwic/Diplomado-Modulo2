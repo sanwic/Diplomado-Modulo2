{
 "cells": [
  {
   "cell_type": "markdown",
   "metadata": {},
   "source": [
    "# Módulo 02: Modelos estadísticos\n",
    "\n",
    "Clase 06. **22 de marzo de 2025**\n",
    "\n",
    "---"
   ]
  },
  {
   "cell_type": "markdown",
   "metadata": {},
   "source": [
    "## Equipo 6.\n",
    "### Integrantes:\n",
    "\n",
    "* Arellano Juárez Yoshué Bernardino\n",
    "* Arellanos Balcázar Carlos Japhet\n",
    "* Chávez Gómez Sandra Fernanda\n",
    "* Gómez Alba Valeria\n",
    "* Rasgado Celaya Julio Martín\n",
    "\n",
    "---"
   ]
  },
  {
   "cell_type": "markdown",
   "metadata": {},
   "source": [
    "$\\mathbf{Ejemplo}$ (Variable aleatoria Cauchy) Simulemos la variable aleatoria de Cauchy de parámetro $1$ que tiene por función de densidad \n",
    "$$\\frac{1}{\\pi}\\frac{1}{1+x^{2}}.$$\n",
    "\n",
    "## Ejercicio: \n",
    "- Corroborar que la función así definida es una función de densidad de probabilidad.\n",
    "\n",
    "    \\begin{align*}\n",
    "        \\int_{-\\infty}^{\\infty}\\frac{1}{\\pi}\\frac{1}{1+x^2}&= \\frac{1}{\\pi}\\left(\\arctan(\\infty)-\\arctan(-\\infty)\\right)\\\\\n",
    "        &=\\frac{1}{\\pi}\\left(\\frac{\\pi}{2}-(-\\frac{\\pi}{2}) \\right)\\\\\n",
    "        &=1\n",
    "\n",
    "    \\end{align*}"
   ]
  },
  {
   "cell_type": "markdown",
   "metadata": {},
   "source": [
    "- Encontrar F_X\n",
    "\n",
    "    \\begin{align*}\n",
    "    F_X(x)&=\\int_{-\\infty}^{x}\\frac{1}{\\pi}\\frac{1}{1+u^2}du\\\\\n",
    "    &=\\frac{1}{\\pi}\\left(\\arctan(x)-\\arctan(-\\infty)\\right)\\\\\n",
    "    &=\\frac{1}{\\pi}\\left(\\arctan(x)+\\frac{\\pi}{2}\\right)\\\\\n",
    "    &=\\frac{1}{\\pi}\\arctan(x)+\\frac{1}{2}\n",
    "  \\end{align*}"
   ]
  },
  {
   "cell_type": "markdown",
   "metadata": {},
   "source": [
    "- Crear una gráfica en Python que muestre su forma."
   ]
  },
  {
   "cell_type": "code",
   "execution_count": null,
   "metadata": {},
   "outputs": [
    {
     "data": {
      "application/vnd.plotly.v1+json": {
       "config": {
        "plotlyServerURL": "https://plot.ly"
       },
       "data": [
        {
         "line": {
          "color": "red"
         },
         "mode": "lines",
         "name": "Densidad teórica",
         "type": "scatter",
         "x": {
          "bdata": "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",
          "dtype": "f8"
         },
         "y": {
          "bdata": "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",
          "dtype": "f8"
         }
        }
       ],
       "layout": {
        "template": {
         "data": {
          "bar": [
           {
            "error_x": {
             "color": "#2a3f5f"
            },
            "error_y": {
             "color": "#2a3f5f"
            },
            "marker": {
             "line": {
              "color": "#E5ECF6",
              "width": 0.5
             },
             "pattern": {
              "fillmode": "overlay",
              "size": 10,
              "solidity": 0.2
             }
            },
            "type": "bar"
           }
          ],
          "barpolar": [
           {
            "marker": {
             "line": {
              "color": "#E5ECF6",
              "width": 0.5
             },
             "pattern": {
              "fillmode": "overlay",
              "size": 10,
              "solidity": 0.2
             }
            },
            "type": "barpolar"
           }
          ],
          "carpet": [
           {
            "aaxis": {
             "endlinecolor": "#2a3f5f",
             "gridcolor": "white",
             "linecolor": "white",
             "minorgridcolor": "white",
             "startlinecolor": "#2a3f5f"
            },
            "baxis": {
             "endlinecolor": "#2a3f5f",
             "gridcolor": "white",
             "linecolor": "white",
             "minorgridcolor": "white",
             "startlinecolor": "#2a3f5f"
            },
            "type": "carpet"
           }
          ],
          "choropleth": [
           {
            "colorbar": {
             "outlinewidth": 0,
             "ticks": ""
            },
            "type": "choropleth"
           }
          ],
          "contour": [
           {
            "colorbar": {
             "outlinewidth": 0,
             "ticks": ""
            },
            "colorscale": [
             [
              0,
              "#0d0887"
             ],
             [
              0.1111111111111111,
              "#46039f"
             ],
             [
              0.2222222222222222,
              "#7201a8"
             ],
             [
              0.3333333333333333,
              "#9c179e"
             ],
             [
              0.4444444444444444,
              "#bd3786"
             ],
             [
              0.5555555555555556,
              "#d8576b"
             ],
             [
              0.6666666666666666,
              "#ed7953"
             ],
             [
              0.7777777777777778,
              "#fb9f3a"
             ],
             [
              0.8888888888888888,
              "#fdca26"
             ],
             [
              1,
              "#f0f921"
             ]
            ],
            "type": "contour"
           }
          ],
          "contourcarpet": [
           {
            "colorbar": {
             "outlinewidth": 0,
             "ticks": ""
            },
            "type": "contourcarpet"
           }
          ],
          "heatmap": [
           {
            "colorbar": {
             "outlinewidth": 0,
             "ticks": ""
            },
            "colorscale": [
             [
              0,
              "#0d0887"
             ],
             [
              0.1111111111111111,
              "#46039f"
             ],
             [
              0.2222222222222222,
              "#7201a8"
             ],
             [
              0.3333333333333333,
              "#9c179e"
             ],
             [
              0.4444444444444444,
              "#bd3786"
             ],
             [
              0.5555555555555556,
              "#d8576b"
             ],
             [
              0.6666666666666666,
              "#ed7953"
             ],
             [
              0.7777777777777778,
              "#fb9f3a"
             ],
             [
              0.8888888888888888,
              "#fdca26"
             ],
             [
              1,
              "#f0f921"
             ]
            ],
            "type": "heatmap"
           }
          ],
          "histogram": [
           {
            "marker": {
             "pattern": {
              "fillmode": "overlay",
              "size": 10,
              "solidity": 0.2
             }
            },
            "type": "histogram"
           }
          ],
          "histogram2d": [
           {
            "colorbar": {
             "outlinewidth": 0,
             "ticks": ""
            },
            "colorscale": [
             [
              0,
              "#0d0887"
             ],
             [
              0.1111111111111111,
              "#46039f"
             ],
             [
              0.2222222222222222,
              "#7201a8"
             ],
             [
              0.3333333333333333,
              "#9c179e"
             ],
             [
              0.4444444444444444,
              "#bd3786"
             ],
             [
              0.5555555555555556,
              "#d8576b"
             ],
             [
              0.6666666666666666,
              "#ed7953"
             ],
             [
              0.7777777777777778,
              "#fb9f3a"
             ],
             [
              0.8888888888888888,
              "#fdca26"
             ],
             [
              1,
              "#f0f921"
             ]
            ],
            "type": "histogram2d"
           }
          ],
          "histogram2dcontour": [
           {
            "colorbar": {
             "outlinewidth": 0,
             "ticks": ""
            },
            "colorscale": [
             [
              0,
              "#0d0887"
             ],
             [
              0.1111111111111111,
              "#46039f"
             ],
             [
              0.2222222222222222,
              "#7201a8"
             ],
             [
              0.3333333333333333,
              "#9c179e"
             ],
             [
              0.4444444444444444,
              "#bd3786"
             ],
             [
              0.5555555555555556,
              "#d8576b"
             ],
             [
              0.6666666666666666,
              "#ed7953"
             ],
             [
              0.7777777777777778,
              "#fb9f3a"
             ],
             [
              0.8888888888888888,
              "#fdca26"
             ],
             [
              1,
              "#f0f921"
             ]
            ],
            "type": "histogram2dcontour"
           }
          ],
          "mesh3d": [
           {
            "colorbar": {
             "outlinewidth": 0,
             "ticks": ""
            },
            "type": "mesh3d"
           }
          ],
          "parcoords": [
           {
            "line": {
             "colorbar": {
              "outlinewidth": 0,
              "ticks": ""
             }
            },
            "type": "parcoords"
           }
          ],
          "pie": [
           {
            "automargin": true,
            "type": "pie"
           }
          ],
          "scatter": [
           {
            "fillpattern": {
             "fillmode": "overlay",
             "size": 10,
             "solidity": 0.2
            },
            "type": "scatter"
           }
          ],
          "scatter3d": [
           {
            "line": {
             "colorbar": {
              "outlinewidth": 0,
              "ticks": ""
             }
            },
            "marker": {
             "colorbar": {
              "outlinewidth": 0,
              "ticks": ""
             }
            },
            "type": "scatter3d"
           }
          ],
          "scattercarpet": [
           {
            "marker": {
             "colorbar": {
              "outlinewidth": 0,
              "ticks": ""
             }
            },
            "type": "scattercarpet"
           }
          ],
          "scattergeo": [
           {
            "marker": {
             "colorbar": {
              "outlinewidth": 0,
              "ticks": ""
             }
            },
            "type": "scattergeo"
           }
          ],
          "scattergl": [
           {
            "marker": {
             "colorbar": {
              "outlinewidth": 0,
              "ticks": ""
             }
            },
            "type": "scattergl"
           }
          ],
          "scattermap": [
           {
            "marker": {
             "colorbar": {
              "outlinewidth": 0,
              "ticks": ""
             }
            },
            "type": "scattermap"
           }
          ],
          "scattermapbox": [
           {
            "marker": {
             "colorbar": {
              "outlinewidth": 0,
              "ticks": ""
             }
            },
            "type": "scattermapbox"
           }
          ],
          "scatterpolar": [
           {
            "marker": {
             "colorbar": {
              "outlinewidth": 0,
              "ticks": ""
             }
            },
            "type": "scatterpolar"
           }
          ],
          "scatterpolargl": [
           {
            "marker": {
             "colorbar": {
              "outlinewidth": 0,
              "ticks": ""
             }
            },
            "type": "scatterpolargl"
           }
          ],
          "scatterternary": [
           {
            "marker": {
             "colorbar": {
              "outlinewidth": 0,
              "ticks": ""
             }
            },
            "type": "scatterternary"
           }
          ],
          "surface": [
           {
            "colorbar": {
             "outlinewidth": 0,
             "ticks": ""
            },
            "colorscale": [
             [
              0,
              "#0d0887"
             ],
             [
              0.1111111111111111,
              "#46039f"
             ],
             [
              0.2222222222222222,
              "#7201a8"
             ],
             [
              0.3333333333333333,
              "#9c179e"
             ],
             [
              0.4444444444444444,
              "#bd3786"
             ],
             [
              0.5555555555555556,
              "#d8576b"
             ],
             [
              0.6666666666666666,
              "#ed7953"
             ],
             [
              0.7777777777777778,
              "#fb9f3a"
             ],
             [
              0.8888888888888888,
              "#fdca26"
             ],
             [
              1,
              "#f0f921"
             ]
            ],
            "type": "surface"
           }
          ],
          "table": [
           {
            "cells": {
             "fill": {
              "color": "#EBF0F8"
             },
             "line": {
              "color": "white"
             }
            },
            "header": {
             "fill": {
              "color": "#C8D4E3"
             },
             "line": {
              "color": "white"
             }
            },
            "type": "table"
           }
          ]
         },
         "layout": {
          "annotationdefaults": {
           "arrowcolor": "#2a3f5f",
           "arrowhead": 0,
           "arrowwidth": 1
          },
          "autotypenumbers": "strict",
          "coloraxis": {
           "colorbar": {
            "outlinewidth": 0,
            "ticks": ""
           }
          },
          "colorscale": {
           "diverging": [
            [
             0,
             "#8e0152"
            ],
            [
             0.1,
             "#c51b7d"
            ],
            [
             0.2,
             "#de77ae"
            ],
            [
             0.3,
             "#f1b6da"
            ],
            [
             0.4,
             "#fde0ef"
            ],
            [
             0.5,
             "#f7f7f7"
            ],
            [
             0.6,
             "#e6f5d0"
            ],
            [
             0.7,
             "#b8e186"
            ],
            [
             0.8,
             "#7fbc41"
            ],
            [
             0.9,
             "#4d9221"
            ],
            [
             1,
             "#276419"
            ]
           ],
           "sequential": [
            [
             0,
             "#0d0887"
            ],
            [
             0.1111111111111111,
             "#46039f"
            ],
            [
             0.2222222222222222,
             "#7201a8"
            ],
            [
             0.3333333333333333,
             "#9c179e"
            ],
            [
             0.4444444444444444,
             "#bd3786"
            ],
            [
             0.5555555555555556,
             "#d8576b"
            ],
            [
             0.6666666666666666,
             "#ed7953"
            ],
            [
             0.7777777777777778,
             "#fb9f3a"
            ],
            [
             0.8888888888888888,
             "#fdca26"
            ],
            [
             1,
             "#f0f921"
            ]
           ],
           "sequentialminus": [
            [
             0,
             "#0d0887"
            ],
            [
             0.1111111111111111,
             "#46039f"
            ],
            [
             0.2222222222222222,
             "#7201a8"
            ],
            [
             0.3333333333333333,
             "#9c179e"
            ],
            [
             0.4444444444444444,
             "#bd3786"
            ],
            [
             0.5555555555555556,
             "#d8576b"
            ],
            [
             0.6666666666666666,
             "#ed7953"
            ],
            [
             0.7777777777777778,
             "#fb9f3a"
            ],
            [
             0.8888888888888888,
             "#fdca26"
            ],
            [
             1,
             "#f0f921"
            ]
           ]
          },
          "colorway": [
           "#636efa",
           "#EF553B",
           "#00cc96",
           "#ab63fa",
           "#FFA15A",
           "#19d3f3",
           "#FF6692",
           "#B6E880",
           "#FF97FF",
           "#FECB52"
          ],
          "font": {
           "color": "#2a3f5f"
          },
          "geo": {
           "bgcolor": "white",
           "lakecolor": "white",
           "landcolor": "#E5ECF6",
           "showlakes": true,
           "showland": true,
           "subunitcolor": "white"
          },
          "hoverlabel": {
           "align": "left"
          },
          "hovermode": "closest",
          "mapbox": {
           "style": "light"
          },
          "paper_bgcolor": "white",
          "plot_bgcolor": "#E5ECF6",
          "polar": {
           "angularaxis": {
            "gridcolor": "white",
            "linecolor": "white",
            "ticks": ""
           },
           "bgcolor": "#E5ECF6",
           "radialaxis": {
            "gridcolor": "white",
            "linecolor": "white",
            "ticks": ""
           }
          },
          "scene": {
           "xaxis": {
            "backgroundcolor": "#E5ECF6",
            "gridcolor": "white",
            "gridwidth": 2,
            "linecolor": "white",
            "showbackground": true,
            "ticks": "",
            "zerolinecolor": "white"
           },
           "yaxis": {
            "backgroundcolor": "#E5ECF6",
            "gridcolor": "white",
            "gridwidth": 2,
            "linecolor": "white",
            "showbackground": true,
            "ticks": "",
            "zerolinecolor": "white"
           },
           "zaxis": {
            "backgroundcolor": "#E5ECF6",
            "gridcolor": "white",
            "gridwidth": 2,
            "linecolor": "white",
            "showbackground": true,
            "ticks": "",
            "zerolinecolor": "white"
           }
          },
          "shapedefaults": {
           "line": {
            "color": "#2a3f5f"
           }
          },
          "ternary": {
           "aaxis": {
            "gridcolor": "white",
            "linecolor": "white",
            "ticks": ""
           },
           "baxis": {
            "gridcolor": "white",
            "linecolor": "white",
            "ticks": ""
           },
           "bgcolor": "#E5ECF6",
           "caxis": {
            "gridcolor": "white",
            "linecolor": "white",
            "ticks": ""
           }
          },
          "title": {
           "x": 0.05
          },
          "xaxis": {
           "automargin": true,
           "gridcolor": "white",
           "linecolor": "white",
           "ticks": "",
           "title": {
            "standoff": 15
           },
           "zerolinecolor": "white",
           "zerolinewidth": 2
          },
          "yaxis": {
           "automargin": true,
           "gridcolor": "white",
           "linecolor": "white",
           "ticks": "",
           "title": {
            "standoff": 15
           },
           "zerolinecolor": "white",
           "zerolinewidth": 2
          }
         }
        }
       }
      }
     },
     "metadata": {},
     "output_type": "display_data"
    }
   ],
   "source": [
    "\n",
    "import numpy as np\n",
    "import plotly.graph_objects as go\n",
    "from numpy import arctan\n",
    "from math import pi\n",
    "x_vals = np.linspace(-50,100,500)\n",
    "y_vals = arctan(x_vals)/pi + 0.5\n",
    "\n",
    "# Gráfico\n",
    "fig = go.Figure()\n",
    "\n",
    "fig.add_trace(go.Scatter(\n",
    "    x=x_vals,\n",
    "    y=y_vals,\n",
    "    mode='lines',\n",
    "    name='Densidad teórica',\n",
    "    line=dict(color='red')\n",
    "))\n",
    "\n",
    "fig.show()"
   ]
  }
 ],
 "metadata": {
  "kernelspec": {
   "display_name": "Python 3 (ipykernel)",
   "language": "python",
   "name": "python3"
  },
  "language_info": {
   "codemirror_mode": {
    "name": "ipython",
    "version": 3
   },
   "file_extension": ".py",
   "mimetype": "text/x-python",
   "name": "python",
   "nbconvert_exporter": "python",
   "pygments_lexer": "ipython3",
   "version": "3.13.2"
  }
 },
 "nbformat": 4,
 "nbformat_minor": 4
}
