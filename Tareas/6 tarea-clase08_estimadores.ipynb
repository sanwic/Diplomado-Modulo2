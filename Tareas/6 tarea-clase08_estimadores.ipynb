{
 "cells": [
  {
   "cell_type": "markdown",
   "id": "c269c73c-2d9b-4360-8cf0-ea269a47de53",
   "metadata": {},
   "source": [
    "# Tarea. Clase 08\n",
    "\n",
    "## Estimadores de máxima verosimilitud\n",
    "\n",
    "Equipo 6.\n",
    "\n",
    "* Arellano Juárez Yoshué Bernardino\n",
    "* Arellanos Balcázar Carlos Japhet\n",
    "* Chávez Gómez Sandra Fernanda\n",
    "* Gómez Alba Valeria\n",
    "* Rasgado Celaya Julio Martín\n",
    "\n",
    "---"
   ]
  },
  {
   "cell_type": "code",
   "execution_count": 40,
   "id": "6dea6d7e-47ca-4a23-8e8c-5c8db3d01fcf",
   "metadata": {},
   "outputs": [],
   "source": [
    "import sympy\n",
    "from IPython.display import display, Markdown\n",
    "\n",
    "def printmd(string):\n",
    "    display(Markdown(string))"
   ]
  },
  {
   "cell_type": "markdown",
   "id": "3106be87-a62e-496b-9c29-fe17ef5e5b54",
   "metadata": {},
   "source": [
    "## Ejercicio 1.\n",
    "\n",
    "El tiempo de retardo para pacientes con enfermedad coronaria potencial se define como la duración entre el comienzo de un síntoma agudo cardiovascular y la llegada a la unidad de emergencia.\n",
    "\n",
    "Se supone que el tiempo de retardo sigue una distribución exponencial con parámetro $\\theta $.\n",
    "\n",
    "Se registraron los tiempos de retardo (en minutos) en la clínica para los primeros 20 pacientes:\n",
    "\n",
    "$$ 525, \\ 719, \\ 2880, \\ 150, \\ 30, \\ 251, \\ 45, \\ 858, \\ 15, \\ 47, \\ 90, \\ 56, \\ 68, \\ 6, \\ 189, \\ 180, \\ 60, \\ 60, \\ 294, \\ 747 $$\n",
    "\n",
    "- Encuentra un estimador por el método de momentos para la media de la distribución.\n",
    "- Encuentra el valor del estimador con los datos dados."
   ]
  },
  {
   "cell_type": "code",
   "execution_count": 46,
   "id": "3e909377-20f0-4c49-97e7-9556fd0dc14f",
   "metadata": {},
   "outputs": [
    {
     "data": {
      "text/markdown": [
       "\n",
       "### Estimador de máxima verosimilitud\n",
       "El estimador de máxima verosimilitud para $\\theta$ es:\n",
       "$$\\hat{\\theta}_{MLE} = \\frac{727}{2} = 363.5$$\n"
      ],
      "text/plain": [
       "<IPython.core.display.Markdown object>"
      ]
     },
     "metadata": {},
     "output_type": "display_data"
    }
   ],
   "source": [
    "theta = sympy.Symbol('theta', positive=True, real=True)\n",
    "x = sympy.Symbol('x', positive=True, real=True)\n",
    "\n",
    "f_tiempo = (1/theta) * sympy.exp(-x/theta)\n",
    "\n",
    "datos = [\n",
    "    525, 719, 2880, 150, 30, 251, 45, 858, 15, 47,\n",
    "    90, 56, 68, 6, 189, 180, 60, 60, 294, 747\n",
    "]\n",
    "\n",
    "L = sympy.prod([f_tiempo.subs(x, i) for i in datos])\n",
    "\n",
    "logL = sympy.expand_log(sympy.log(L))\n",
    "\n",
    "dlogL = sympy.diff(logL, theta)\n",
    "\n",
    "theta_mle = sympy.solve(dlogL, theta)[0]\n",
    "\n",
    "printmd(r\"\"\"\n",
    "### Estimador de máxima verosimilitud\n",
    "El estimador de máxima verosimilitud para $\\theta$ es:\n",
    "$$\\hat{\\theta}_{MLE} = \\frac{727}{2} = %.1f$$\n",
    "\"\"\" % theta_mle.evalf())"
   ]
  },
  {
   "cell_type": "markdown",
   "id": "6d2462c7-f178-4412-a336-84a8913170a3",
   "metadata": {},
   "source": [
    "---\n",
    "\n",
    "## Ejercicio 2.\n",
    "\n",
    "Sea una muestra aleatoria $X_1, \\ldots, X_n \\overset{iid}{\\sim} \\mathcal{N}(\\mu, \\sigma^2) $.\n",
    "Queremos encontrar el estimador de máxima verosimilitud para $\\mu$ y $\\sigma^2$.\n",
    "\n",
    "La función de densidad es:\n",
    "$$ f(x; \\mu, \\sigma^2) = \\frac{1}{\\sqrt{2\\pi \\sigma^2}} \\exp\\left(-\\frac{(x - \\mu)^2}{2\\sigma^2}\\right) \\cdot \\mathbf{1}_{(-\\infty, \\infty)}(x)$$"
   ]
  },
  {
   "cell_type": "code",
   "execution_count": 38,
   "id": "2f5beeef-97c0-4523-b170-26b10502c450",
   "metadata": {},
   "outputs": [
    {
     "data": {
      "text/markdown": [
       "\n",
       "### Estimadores de máxima verosimilitud\n",
       "Para una muestra $X_1, \\dots, X_n \\sim \\mathcal{N}(\\mu, \\sigma^2)$, los estimadores son:\n",
       "$$ \\hat{\\mu}_{MLE} = \\frac{1}{n} \\sum x_i \\quad \\text{y} \\quad \\hat{\\sigma}^2_{MLE} = \\frac{1}{n} \\sum (x_i - \\hat{\\mu})^2 $$\n"
      ],
      "text/plain": [
       "<IPython.core.display.Markdown object>"
      ]
     },
     "metadata": {},
     "output_type": "display_data"
    }
   ],
   "source": [
    "mu, sigma2 = sympy.symbols('mu sigma2', positive=True, real=True)\n",
    "x = sympy.Symbol('x', real=True)\n",
    "\n",
    "f_normal = (1/sympy.sqrt(2 * sympy.pi * sigma2)) * sympy.exp(-((x - mu)**2) / (2 * sigma2))\n",
    "\n",
    "datos_normal = sympy.symbols('x1:6')  # x1, x2, x3, x4, x5 como ejemplo\n",
    "\n",
    "logL_normal = sympy.Add(*[sympy.expand_log(sympy.log(f_normal.subs(x, xi))) for xi in datos_normal])\n",
    "\n",
    "dlogL_mu = sympy.diff(logL_normal, mu)\n",
    "dlogL_sigma2 = sympy.diff(logL_normal, sigma2)\n",
    "\n",
    "sol_normal = sympy.solve([dlogL_mu, dlogL_sigma2], (mu, sigma2), dict=True)[0]\n",
    "\n",
    "printmd(r\"\"\"\n",
    "### Estimadores de máxima verosimilitud\n",
    "Para una muestra $X_1, \\dots, X_n \\sim \\mathcal{N}(\\mu, \\sigma^2)$, los estimadores son:\n",
    "$$ \\hat{\\mu}_{MLE} = \\frac{1}{n} \\sum x_i \\quad \\text{y} \\quad \\hat{\\sigma}^2_{MLE} = \\frac{1}{n} \\sum (x_i - \\hat{\\mu})^2 $$\n",
    "\"\"\")"
   ]
  },
  {
   "cell_type": "markdown",
   "id": "d7542c33-8588-40c6-a3cc-4e8ca6a654ba",
   "metadata": {},
   "source": [
    "---\n",
    "\n",
    "## Ejercicio 3.\n",
    "\n",
    "Suponga que la vida util de los focos de cierta marca, se modela mediante una distribución expoencial de parametro $\\theta$ (desconocido). Probamos 5 focos y encontramos que tienen una vida útil de $2,3,1,3$ y $5$ años, respectivamente. ¿Cuál es el MLE para $\\theta$?"
   ]
  },
  {
   "cell_type": "code",
   "execution_count": 45,
   "id": "aac3c8d4-dd7f-400c-8a9e-5a333630b040",
   "metadata": {},
   "outputs": [
    {
     "data": {
      "text/markdown": [
       "\n",
       "### Estimador de máxima verosimilitud\n",
       "Dada una muestra de vidas útiles $[2, 3, 1, 3, 5]$, el estimador MLE es:\n",
       "$$ \\hat{\\theta}_{MLE} = 2.80 $$\n"
      ],
      "text/plain": [
       "<IPython.core.display.Markdown object>"
      ]
     },
     "metadata": {},
     "output_type": "display_data"
    }
   ],
   "source": [
    "theta = sympy.Symbol('theta', positive=True, real=True)\n",
    "x = sympy.Symbol('x', positive=True, real=True)\n",
    "\n",
    "f_focos = (1/theta) * sympy.exp(-x/theta)\n",
    "\n",
    "datos_focos = [2, 3, 1, 3, 5]\n",
    "\n",
    "L_focos = sympy.prod([f_focos.subs(x, i) for i in datos_focos])\n",
    "\n",
    "logL_focos = sympy.expand_log(sympy.log(L_focos))\n",
    "\n",
    "dlogL_focos = sympy.diff(logL_focos, theta)\n",
    "theta_mle_focos = sympy.solve(dlogL_focos, theta)[0]\n",
    "\n",
    "printmd(r\"\"\"\n",
    "### Estimador de máxima verosimilitud\n",
    "Dada una muestra de vidas útiles $[2, 3, 1, 3, 5]$, el estimador MLE es:\n",
    "$$ \\hat{\\theta}_{MLE} = %.2f $$\n",
    "\"\"\" % theta_mle_focos.evalf())"
   ]
  },
  {
   "cell_type": "markdown",
   "id": "4c9c5276-ce30-4032-bef8-95820c69962d",
   "metadata": {},
   "source": [
    "---\n",
    "\n",
    "## Ejercicio 4.\n",
    "\n",
    "Sea $ (X_1, \\ldots, X_n) $ una m.a:\n",
    "\n",
    "$$\n",
    "f(x; \\theta) = \\theta (1 + x)^{-(1 + \\theta)} \\cdot \\mathbf{1}_{(0, \\infty)}(x), \\quad \\theta > 0\n",
    "$$\n",
    "\n",
    "Estimar $\\theta$ por momentos, asumiendo que $\\theta > 1$."
   ]
  },
  {
   "cell_type": "code",
   "execution_count": 44,
   "id": "010c6a05-96cf-473d-8a63-627a12646207",
   "metadata": {},
   "outputs": [
    {
     "data": {
      "text/markdown": [
       "\n",
       "### Estimador por el método de momentos\n",
       "Para la distribución con densidad $f(x;\\theta) = \\theta(1+x)^{-(1+\\theta)}$, el estimador por momentos es:\n",
       "$$ \\hat{\\theta}_{MLE} = \\frac{\\bar{x} + 1}{\\bar{x}} $$\n"
      ],
      "text/plain": [
       "<IPython.core.display.Markdown object>"
      ]
     },
     "metadata": {},
     "output_type": "display_data"
    }
   ],
   "source": [
    "x, theta = sympy.symbols('x theta', real=True)\n",
    "theta = sympy.Symbol('theta', positive=True, real=True)\n",
    "\n",
    "f_densidad = theta * (1 + x)**(-(1 + theta))\n",
    "\n",
    "E_X = sympy.integrate(x * f_densidad, (x, 0, sympy.oo), conds='none')\n",
    "\n",
    "x_bar = sympy.Symbol(r'\\bar{x}', positive=True, real=True)\n",
    "eq_momentos = sympy.Eq(E_X, x_bar)\n",
    "eq_momentos = sympy.Eq(sympy.simplify(eq_momentos.lhs), eq_momentos.rhs)\n",
    "\n",
    "theta_mm = sympy.solve(eq_momentos, theta)\n",
    "\n",
    "printmd(r\"\"\"\n",
    "### Estimador por el método de momentos\n",
    "Para la distribución con densidad $f(x;\\theta) = \\theta(1+x)^{-(1+\\theta)}$, el estimador por momentos es:\n",
    "$$ \\hat{\\theta}_{MLE} = %s $$\n",
    "\"\"\" % sympy.latex(theta_mm[0]))"
   ]
  }
 ],
 "metadata": {
  "kernelspec": {
   "display_name": "Python 3 (ipykernel)",
   "language": "python",
   "name": "python3"
  },
  "language_info": {
   "codemirror_mode": {
    "name": "ipython",
    "version": 3
   },
   "file_extension": ".py",
   "mimetype": "text/x-python",
   "name": "python",
   "nbconvert_exporter": "python",
   "pygments_lexer": "ipython3",
   "version": "3.13.2"
  }
 },
 "nbformat": 4,
 "nbformat_minor": 5
}
