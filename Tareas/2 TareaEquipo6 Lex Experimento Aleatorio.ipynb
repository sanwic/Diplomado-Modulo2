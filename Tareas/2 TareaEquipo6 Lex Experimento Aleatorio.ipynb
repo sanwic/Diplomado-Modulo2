{
 "cells": [
  {
   "cell_type": "markdown",
   "id": "e5944719-7f1a-44c2-b44c-9ba0988e165d",
   "metadata": {},
   "source": [
    "# Módulo 02: Tarea Ley del experimento aleatorio\n",
    "\n",
    "Clase 03. **14 de marzo de 2025**\n",
    "\n",
    "---"
   ]
  },
  {
   "cell_type": "markdown",
   "id": "07dfbed2-ac8c-4e6d-8075-ca5b7dd69d7b",
   "metadata": {},
   "source": [
    "## Equipo 6.\n",
    "### Integrantes:\n",
    "\n",
    "* Arellano Juárez Yoshué Bernardino\n",
    "* Arellanos Balcázar Carlos Japhet\n",
    "* Chávez Gómez Sandra Fernanda\n",
    "* Gómez Alba Valeria\n",
    "* Rasgado Celaya Julio Martín\n",
    "\n",
    "---    "
   ]
  },
  {
   "cell_type": "code",
   "execution_count": 1,
   "id": "25535bdb-cd95-478a-827a-6485553b6482",
   "metadata": {},
   "outputs": [],
   "source": [
    "from itertools import product # product es el producto carteciano"
   ]
  },
  {
   "cell_type": "markdown",
   "id": "26468df5-d875-4dfd-9e2f-18789de69635",
   "metadata": {},
   "source": [
    "## 1.- Define $\\Omega$"
   ]
  },
  {
   "cell_type": "code",
   "execution_count": 2,
   "id": "0e4daa70-1bd2-4663-bba6-9853a4f57f14",
   "metadata": {},
   "outputs": [
    {
     "data": {
      "text/plain": [
       "{(1, 1),\n",
       " (1, 2),\n",
       " (1, 3),\n",
       " (1, 4),\n",
       " (1, 5),\n",
       " (1, 6),\n",
       " (1, 7),\n",
       " (1, 8),\n",
       " (1, 9),\n",
       " (1, 10),\n",
       " (2, 1),\n",
       " (2, 2),\n",
       " (2, 3),\n",
       " (2, 4),\n",
       " (2, 5),\n",
       " (2, 6),\n",
       " (2, 7),\n",
       " (2, 8),\n",
       " (2, 9),\n",
       " (2, 10),\n",
       " (3, 1),\n",
       " (3, 2),\n",
       " (3, 3),\n",
       " (3, 4),\n",
       " (3, 5),\n",
       " (3, 6),\n",
       " (3, 7),\n",
       " (3, 8),\n",
       " (3, 9),\n",
       " (3, 10),\n",
       " (4, 1),\n",
       " (4, 2),\n",
       " (4, 3),\n",
       " (4, 4),\n",
       " (4, 5),\n",
       " (4, 6),\n",
       " (4, 7),\n",
       " (4, 8),\n",
       " (4, 9),\n",
       " (4, 10),\n",
       " (5, 1),\n",
       " (5, 2),\n",
       " (5, 3),\n",
       " (5, 4),\n",
       " (5, 5),\n",
       " (5, 6),\n",
       " (5, 7),\n",
       " (5, 8),\n",
       " (5, 9),\n",
       " (5, 10),\n",
       " (6, 1),\n",
       " (6, 2),\n",
       " (6, 3),\n",
       " (6, 4),\n",
       " (6, 5),\n",
       " (6, 6),\n",
       " (6, 7),\n",
       " (6, 8),\n",
       " (6, 9),\n",
       " (6, 10),\n",
       " (7, 1),\n",
       " (7, 2),\n",
       " (7, 3),\n",
       " (7, 4),\n",
       " (7, 5),\n",
       " (7, 6),\n",
       " (7, 7),\n",
       " (7, 8),\n",
       " (7, 9),\n",
       " (7, 10),\n",
       " (8, 1),\n",
       " (8, 2),\n",
       " (8, 3),\n",
       " (8, 4),\n",
       " (8, 5),\n",
       " (8, 6),\n",
       " (8, 7),\n",
       " (8, 8),\n",
       " (8, 9),\n",
       " (8, 10),\n",
       " (9, 1),\n",
       " (9, 2),\n",
       " (9, 3),\n",
       " (9, 4),\n",
       " (9, 5),\n",
       " (9, 6),\n",
       " (9, 7),\n",
       " (9, 8),\n",
       " (9, 9),\n",
       " (9, 10),\n",
       " (10, 1),\n",
       " (10, 2),\n",
       " (10, 3),\n",
       " (10, 4),\n",
       " (10, 5),\n",
       " (10, 6),\n",
       " (10, 7),\n",
       " (10, 8),\n",
       " (10, 9),\n",
       " (10, 10)}"
      ]
     },
     "execution_count": 2,
     "metadata": {},
     "output_type": "execute_result"
    }
   ],
   "source": [
    "Omega = set(product(range(1,11), repeat = 2))\n",
    "Omega"
   ]
  },
  {
   "cell_type": "code",
   "execution_count": 3,
   "id": "eeefdc62-3cb2-448e-84d0-ef1a0b1720b2",
   "metadata": {},
   "outputs": [
    {
     "data": {
      "text/plain": [
       "100"
      ]
     },
     "execution_count": 3,
     "metadata": {},
     "output_type": "execute_result"
    }
   ],
   "source": [
    "card_omega = len(Omega)\n",
    "card_omega"
   ]
  },
  {
   "cell_type": "markdown",
   "id": "ae4c4b9d-8f0c-4fc9-85ef-4699135d266b",
   "metadata": {},
   "source": [
    "## 2.- Calcula las probabilidades asociadas"
   ]
  },
  {
   "cell_type": "code",
   "execution_count": 4,
   "id": "56192ffb-4804-4265-8143-d60cb77cb6e3",
   "metadata": {},
   "outputs": [],
   "source": [
    "def S(n):\n",
    "    Sn = {(i,j) for i in range(1,11) for j in range(1,11) if abs(i-j)==n}\n",
    "    return Sn"
   ]
  },
  {
   "cell_type": "code",
   "execution_count": 5,
   "id": "a90e02f2-0be7-41cd-8d96-8e6ce89a09f5",
   "metadata": {},
   "outputs": [
    {
     "name": "stdout",
     "output_type": "stream",
     "text": [
      "{(8, 1), (1, 8), (9, 2), (3, 10), (2, 9), (10, 3)}\n"
     ]
    }
   ],
   "source": [
    "print(S(7))"
   ]
  },
  {
   "cell_type": "code",
   "execution_count": 6,
   "id": "9cf40f37-d835-4902-82bb-b93df0f1aa08",
   "metadata": {},
   "outputs": [],
   "source": [
    "from fractions import Fraction"
   ]
  },
  {
   "cell_type": "code",
   "execution_count": 7,
   "id": "4fbd9ae8-b3f6-4e9e-911e-3228bf7397b9",
   "metadata": {},
   "outputs": [],
   "source": [
    "def P(A):\n",
    "    P = Fraction(len(A), len(Omega))\n",
    "    return P"
   ]
  },
  {
   "cell_type": "code",
   "execution_count": 8,
   "id": "c5a1f4cc-32fc-47dd-88a5-02ec8f3a95b5",
   "metadata": {},
   "outputs": [],
   "source": [
    "S = {(i,j) : abs(i-j) for i,j in Omega}"
   ]
  },
  {
   "cell_type": "code",
   "execution_count": 9,
   "id": "f216f924-11a4-4634-97ec-b8bc5ebaaeac",
   "metadata": {},
   "outputs": [],
   "source": [
    "from collections import defaultdict\n",
    "\n",
    "ds = defaultdict(set)"
   ]
  },
  {
   "cell_type": "code",
   "execution_count": 10,
   "id": "bc999bc1-3ede-451a-8693-548137e7060a",
   "metadata": {},
   "outputs": [],
   "source": [
    "for i,j in S.items():\n",
    "    ds[j].add(i)"
   ]
  },
  {
   "cell_type": "code",
   "execution_count": 11,
   "id": "09ac38c1-cbc4-426b-916a-ef57f433dd3b",
   "metadata": {},
   "outputs": [
    {
     "data": {
      "text/plain": [
       "[(5,\n",
       "  {(1, 6),\n",
       "   (2, 7),\n",
       "   (3, 8),\n",
       "   (4, 9),\n",
       "   (5, 10),\n",
       "   (6, 1),\n",
       "   (7, 2),\n",
       "   (8, 3),\n",
       "   (9, 4),\n",
       "   (10, 5)}),\n",
       " (4,\n",
       "  {(1, 5),\n",
       "   (2, 6),\n",
       "   (3, 7),\n",
       "   (4, 8),\n",
       "   (5, 1),\n",
       "   (5, 9),\n",
       "   (6, 2),\n",
       "   (6, 10),\n",
       "   (7, 3),\n",
       "   (8, 4),\n",
       "   (9, 5),\n",
       "   (10, 6)}),\n",
       " (1,\n",
       "  {(1, 2),\n",
       "   (2, 1),\n",
       "   (2, 3),\n",
       "   (3, 2),\n",
       "   (3, 4),\n",
       "   (4, 3),\n",
       "   (4, 5),\n",
       "   (5, 4),\n",
       "   (5, 6),\n",
       "   (6, 5),\n",
       "   (6, 7),\n",
       "   (7, 6),\n",
       "   (7, 8),\n",
       "   (8, 7),\n",
       "   (8, 9),\n",
       "   (9, 8),\n",
       "   (9, 10),\n",
       "   (10, 9)}),\n",
       " (0,\n",
       "  {(1, 1),\n",
       "   (2, 2),\n",
       "   (3, 3),\n",
       "   (4, 4),\n",
       "   (5, 5),\n",
       "   (6, 6),\n",
       "   (7, 7),\n",
       "   (8, 8),\n",
       "   (9, 9),\n",
       "   (10, 10)}),\n",
       " (6, {(1, 7), (2, 8), (3, 9), (4, 10), (7, 1), (8, 2), (9, 3), (10, 4)}),\n",
       " (3,\n",
       "  {(1, 4),\n",
       "   (2, 5),\n",
       "   (3, 6),\n",
       "   (4, 1),\n",
       "   (4, 7),\n",
       "   (5, 2),\n",
       "   (5, 8),\n",
       "   (6, 3),\n",
       "   (6, 9),\n",
       "   (7, 4),\n",
       "   (7, 10),\n",
       "   (8, 5),\n",
       "   (9, 6),\n",
       "   (10, 7)}),\n",
       " (2,\n",
       "  {(1, 3),\n",
       "   (2, 4),\n",
       "   (3, 1),\n",
       "   (3, 5),\n",
       "   (4, 2),\n",
       "   (4, 6),\n",
       "   (5, 3),\n",
       "   (5, 7),\n",
       "   (6, 4),\n",
       "   (6, 8),\n",
       "   (7, 5),\n",
       "   (7, 9),\n",
       "   (8, 6),\n",
       "   (8, 10),\n",
       "   (9, 7),\n",
       "   (10, 8)}),\n",
       " (8, {(1, 9), (2, 10), (9, 1), (10, 2)}),\n",
       " (7, {(1, 8), (2, 9), (3, 10), (8, 1), (9, 2), (10, 3)}),\n",
       " (9, {(1, 10), (10, 1)})]"
      ]
     },
     "execution_count": 11,
     "metadata": {},
     "output_type": "execute_result"
    }
   ],
   "source": [
    "list(ds.items())"
   ]
  },
  {
   "cell_type": "markdown",
   "id": "f6d9b2fc-761c-455a-a27d-e21e8bf9d8e2",
   "metadata": {},
   "source": [
    "## 3.-Define la función de densidad"
   ]
  },
  {
   "cell_type": "code",
   "execution_count": 12,
   "id": "915d4fc3-ec07-4167-a372-2fb6eef43973",
   "metadata": {},
   "outputs": [
    {
     "data": {
      "text/plain": [
       "{5: Fraction(1, 10),\n",
       " 4: Fraction(3, 25),\n",
       " 1: Fraction(9, 50),\n",
       " 0: Fraction(1, 10),\n",
       " 6: Fraction(2, 25),\n",
       " 3: Fraction(7, 50),\n",
       " 2: Fraction(4, 25),\n",
       " 8: Fraction(1, 25),\n",
       " 7: Fraction(3, 50),\n",
       " 9: Fraction(1, 50)}"
      ]
     },
     "execution_count": 12,
     "metadata": {},
     "output_type": "execute_result"
    }
   ],
   "source": [
    "leyS = {i : P(A) for i, A in ds.items()}\n",
    "leyS"
   ]
  },
  {
   "cell_type": "code",
   "execution_count": 13,
   "id": "e6b5e4c2-8e0e-4a61-b8ba-363ace373c5e",
   "metadata": {},
   "outputs": [],
   "source": [
    "import pandas as pd"
   ]
  },
  {
   "cell_type": "code",
   "execution_count": 14,
   "id": "c0169e5a-8ba8-483a-b7ec-de52a9027b0f",
   "metadata": {},
   "outputs": [
    {
     "data": {
      "text/plain": [
       "0    1/10\n",
       "1    9/50\n",
       "2    4/25\n",
       "3    7/50\n",
       "4    3/25\n",
       "5    1/10\n",
       "6    2/25\n",
       "7    3/50\n",
       "8    1/25\n",
       "9    1/50\n",
       "dtype: object"
      ]
     },
     "execution_count": 14,
     "metadata": {},
     "output_type": "execute_result"
    }
   ],
   "source": [
    "ley_S = pd.Series(leyS)\n",
    "ley_S.sort_index() "
   ]
  },
  {
   "cell_type": "markdown",
   "id": "56f0db2e-5676-4baa-9042-80d721f46503",
   "metadata": {},
   "source": [
    "## 4.- Verifica que:\n",
    "\n",
    "$$\\sum_{k\\in R_{X}}\\mathbb{P}(X=k) = 1$$"
   ]
  },
  {
   "cell_type": "code",
   "execution_count": 15,
   "id": "d521de60-3d4b-47f0-acb1-a2d6c78870df",
   "metadata": {},
   "outputs": [],
   "source": [
    "def leyS(i):\n",
    "    if i in range(10):\n",
    "        x = ley_S[i]\n",
    "    else:\n",
    "        x = 0 # si no esta en el rango me devuelve 0\n",
    "    return x"
   ]
  },
  {
   "cell_type": "code",
   "execution_count": 16,
   "id": "e8c9a8f7-bc40-444e-b38e-bfef8e8e638f",
   "metadata": {},
   "outputs": [],
   "source": [
    "rango_S = [k for k in range(10)]"
   ]
  },
  {
   "cell_type": "code",
   "execution_count": 17,
   "id": "a815459e-91b2-4bbd-92bd-408ab0647e73",
   "metadata": {},
   "outputs": [],
   "source": [
    "p_k = [float(leyS(k)) for k in rango_S]"
   ]
  },
  {
   "cell_type": "code",
   "execution_count": 18,
   "id": "539bcd79-0403-487f-a9fc-bbab2a09eca9",
   "metadata": {},
   "outputs": [
    {
     "data": {
      "text/html": [
       "<div>\n",
       "<style scoped>\n",
       "    .dataframe tbody tr th:only-of-type {\n",
       "        vertical-align: middle;\n",
       "    }\n",
       "\n",
       "    .dataframe tbody tr th {\n",
       "        vertical-align: top;\n",
       "    }\n",
       "\n",
       "    .dataframe thead th {\n",
       "        text-align: right;\n",
       "    }\n",
       "</style>\n",
       "<table border=\"1\" class=\"dataframe\">\n",
       "  <thead>\n",
       "    <tr style=\"text-align: right;\">\n",
       "      <th></th>\n",
       "      <th>rango</th>\n",
       "      <th>densidad</th>\n",
       "    </tr>\n",
       "  </thead>\n",
       "  <tbody>\n",
       "    <tr>\n",
       "      <th>S_0</th>\n",
       "      <td>0</td>\n",
       "      <td>0.10</td>\n",
       "    </tr>\n",
       "    <tr>\n",
       "      <th>S_1</th>\n",
       "      <td>1</td>\n",
       "      <td>0.18</td>\n",
       "    </tr>\n",
       "    <tr>\n",
       "      <th>S_2</th>\n",
       "      <td>2</td>\n",
       "      <td>0.16</td>\n",
       "    </tr>\n",
       "    <tr>\n",
       "      <th>S_3</th>\n",
       "      <td>3</td>\n",
       "      <td>0.14</td>\n",
       "    </tr>\n",
       "    <tr>\n",
       "      <th>S_4</th>\n",
       "      <td>4</td>\n",
       "      <td>0.12</td>\n",
       "    </tr>\n",
       "    <tr>\n",
       "      <th>S_5</th>\n",
       "      <td>5</td>\n",
       "      <td>0.10</td>\n",
       "    </tr>\n",
       "    <tr>\n",
       "      <th>S_6</th>\n",
       "      <td>6</td>\n",
       "      <td>0.08</td>\n",
       "    </tr>\n",
       "    <tr>\n",
       "      <th>S_7</th>\n",
       "      <td>7</td>\n",
       "      <td>0.06</td>\n",
       "    </tr>\n",
       "    <tr>\n",
       "      <th>S_8</th>\n",
       "      <td>8</td>\n",
       "      <td>0.04</td>\n",
       "    </tr>\n",
       "    <tr>\n",
       "      <th>S_9</th>\n",
       "      <td>9</td>\n",
       "      <td>0.02</td>\n",
       "    </tr>\n",
       "  </tbody>\n",
       "</table>\n",
       "</div>"
      ],
      "text/plain": [
       "     rango  densidad\n",
       "S_0      0      0.10\n",
       "S_1      1      0.18\n",
       "S_2      2      0.16\n",
       "S_3      3      0.14\n",
       "S_4      4      0.12\n",
       "S_5      5      0.10\n",
       "S_6      6      0.08\n",
       "S_7      7      0.06\n",
       "S_8      8      0.04\n",
       "S_9      9      0.02"
      ]
     },
     "execution_count": 18,
     "metadata": {},
     "output_type": "execute_result"
    }
   ],
   "source": [
    "lS = pd.DataFrame(list(zip(rango_S, p_k)), index=[f\"S_{i}\" for i in range(10)], columns = ['rango','densidad'])\n",
    "lS"
   ]
  },
  {
   "cell_type": "code",
   "execution_count": 19,
   "id": "de77fe79-a939-4c6e-9e03-553747a9cfdb",
   "metadata": {},
   "outputs": [
    {
     "data": {
      "text/html": [
       "<div>\n",
       "<style scoped>\n",
       "    .dataframe tbody tr th:only-of-type {\n",
       "        vertical-align: middle;\n",
       "    }\n",
       "\n",
       "    .dataframe tbody tr th {\n",
       "        vertical-align: top;\n",
       "    }\n",
       "\n",
       "    .dataframe thead th {\n",
       "        text-align: right;\n",
       "    }\n",
       "</style>\n",
       "<table border=\"1\" class=\"dataframe\">\n",
       "  <thead>\n",
       "    <tr style=\"text-align: right;\">\n",
       "      <th></th>\n",
       "      <th>rango</th>\n",
       "      <th>densidad</th>\n",
       "      <th>acum</th>\n",
       "    </tr>\n",
       "  </thead>\n",
       "  <tbody>\n",
       "    <tr>\n",
       "      <th>S_0</th>\n",
       "      <td>0</td>\n",
       "      <td>0.10</td>\n",
       "      <td>0.10</td>\n",
       "    </tr>\n",
       "    <tr>\n",
       "      <th>S_1</th>\n",
       "      <td>1</td>\n",
       "      <td>0.18</td>\n",
       "      <td>0.28</td>\n",
       "    </tr>\n",
       "    <tr>\n",
       "      <th>S_2</th>\n",
       "      <td>2</td>\n",
       "      <td>0.16</td>\n",
       "      <td>0.44</td>\n",
       "    </tr>\n",
       "    <tr>\n",
       "      <th>S_3</th>\n",
       "      <td>3</td>\n",
       "      <td>0.14</td>\n",
       "      <td>0.58</td>\n",
       "    </tr>\n",
       "    <tr>\n",
       "      <th>S_4</th>\n",
       "      <td>4</td>\n",
       "      <td>0.12</td>\n",
       "      <td>0.70</td>\n",
       "    </tr>\n",
       "    <tr>\n",
       "      <th>S_5</th>\n",
       "      <td>5</td>\n",
       "      <td>0.10</td>\n",
       "      <td>0.80</td>\n",
       "    </tr>\n",
       "    <tr>\n",
       "      <th>S_6</th>\n",
       "      <td>6</td>\n",
       "      <td>0.08</td>\n",
       "      <td>0.88</td>\n",
       "    </tr>\n",
       "    <tr>\n",
       "      <th>S_7</th>\n",
       "      <td>7</td>\n",
       "      <td>0.06</td>\n",
       "      <td>0.94</td>\n",
       "    </tr>\n",
       "    <tr>\n",
       "      <th>S_8</th>\n",
       "      <td>8</td>\n",
       "      <td>0.04</td>\n",
       "      <td>0.98</td>\n",
       "    </tr>\n",
       "    <tr>\n",
       "      <th>S_9</th>\n",
       "      <td>9</td>\n",
       "      <td>0.02</td>\n",
       "      <td>1.00</td>\n",
       "    </tr>\n",
       "  </tbody>\n",
       "</table>\n",
       "</div>"
      ],
      "text/plain": [
       "     rango  densidad  acum\n",
       "S_0      0      0.10  0.10\n",
       "S_1      1      0.18  0.28\n",
       "S_2      2      0.16  0.44\n",
       "S_3      3      0.14  0.58\n",
       "S_4      4      0.12  0.70\n",
       "S_5      5      0.10  0.80\n",
       "S_6      6      0.08  0.88\n",
       "S_7      7      0.06  0.94\n",
       "S_8      8      0.04  0.98\n",
       "S_9      9      0.02  1.00"
      ]
     },
     "execution_count": 19,
     "metadata": {},
     "output_type": "execute_result"
    }
   ],
   "source": [
    "lS['acum'] = lS['densidad'].cumsum()\n",
    "lS"
   ]
  },
  {
   "cell_type": "markdown",
   "id": "2df30781-d5d8-45fd-9e1c-82e0d9a7ba08",
   "metadata": {},
   "source": [
    "## 5.- Gráfica la función de densidad"
   ]
  },
  {
   "cell_type": "code",
   "execution_count": 20,
   "id": "277f4de7-b36a-42c6-af00-7661f81d9310",
   "metadata": {},
   "outputs": [
    {
     "data": {
      "text/plain": [
       "<Axes: xlabel='rango'>"
      ]
     },
     "execution_count": 20,
     "metadata": {},
     "output_type": "execute_result"
    },
    {
     "data": {
      "image/png": "[encoded data removed]",
      "text/plain": [
       "<Figure size 640x480 with 1 Axes>"
      ]
     },
     "metadata": {},
     "output_type": "display_data"
    }
   ],
   "source": [
    "lS.plot.bar (x = 'rango', y = 'densidad')"
   ]
  },
  {
   "cell_type": "markdown",
   "id": "9b8f370c-602e-4ef0-bec2-2d990ba70970",
   "metadata": {},
   "source": [
    "## Además, calcula la probabilidad de que los números de las dos bolas seleccionadas difieran por $2$ o más."
   ]
  },
  {
   "cell_type": "code",
   "execution_count": 21,
   "id": "5f9b8f63-744f-43c0-9aa5-1b7ca612a68b",
   "metadata": {},
   "outputs": [
    {
     "data": {
      "text/plain": [
       "Fraction(18, 25)"
      ]
     },
     "execution_count": 21,
     "metadata": {},
     "output_type": "execute_result"
    }
   ],
   "source": [
    "p2 = [leyS(i) for i in range(2,10)]\n",
    "sum(p2)"
   ]
  }
 ],
 "metadata": {
  "kernelspec": {
   "display_name": "Python 3 (ipykernel)",
   "language": "python",
   "name": "python3"
  },
  "language_info": {
   "codemirror_mode": {
    "name": "ipython",
    "version": 3
   },
   "file_extension": ".py",
   "mimetype": "text/x-python",
   "name": "python",
   "nbconvert_exporter": "python",
   "pygments_lexer": "ipython3",
   "version": "3.13.2"
  }
 },
 "nbformat": 4,
 "nbformat_minor": 5
}
