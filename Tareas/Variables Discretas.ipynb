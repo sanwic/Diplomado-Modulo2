{
 "cells": [
  {
   "cell_type": "markdown",
   "id": "8d5a083a-ca70-4135-91be-f0a6288a52b5",
   "metadata": {},
   "source": [
    "# Tarea Variables aleatorias discretas"
   ]
  },
  {
   "cell_type": "code",
   "execution_count": 1,
   "id": "78aa98d3-8d3c-48b6-8e06-9b94d3d8ea49",
   "metadata": {},
   "outputs": [],
   "source": [
    "import numpy as np # Importamos Numpy\n",
    "import numpy.random as npr # para generar numeros aleatorios\n",
    "\n",
    "import scipy.stats as sps # Importamos el modulo SciPy\n",
    "from scipy.stats import randint # para trabajar una uniforme discreta en un rango de enteros\n",
    "\n",
    "import matplotlib.pyplot as plt #Visualizar datos \n",
    "\n",
    "import random # para generar numeros aleatorios"
   ]
  },
  {
   "cell_type": "markdown",
   "id": "65355bf5-c133-4d8b-82a7-18996b72c2bd",
   "metadata": {},
   "source": [
    "## Variable aleatoria uniforme discreta"
   ]
  },
  {
   "cell_type": "markdown",
   "id": "b7969eed-408e-424a-b734-5db0203eb4fe",
   "metadata": {},
   "source": [
    "Una variable aleatoria $X$ tiene distribución uniforme discreta en el conjunto $\\{x_1,...,x_n\\}$ si su función de densidad está dada por\n",
    "$$ f_X(x) = \\mathbb{P}(X=x) = \\begin{cases} \\frac{1}{n}, \\quad \\text{si } x\\in \\{x_1,...,x_n\\} \\\\\n",
    "0, \\quad \\text{e.o.c} \\end{cases}$$\n",
    "\n",
    "Se llama uniforme porque cada uno de sus posibles resultados de $X$ tienene la misma probabilidad.\n",
    "\n",
    "**Notación:** $X\\sim Unif(x_1,...,x_n)$\n",
    "\n",
    "La esperanza y varianza de $X$, están dadas por:\n",
    "\n",
    "$$ \\mathbb{E}[X] = \\sum_{x} xf_X(x) = \\frac{x_n + x_1}{2} $$\n",
    "y \n",
    "$$ \\text{Var}(X) = \\mathbb{E}\\left[ (X-\\mathbb{E}[X])^2\\right] = \\frac{(x_n - x_1 + 1)^2 -1}{12}$$"
   ]
  },
  {
   "cell_type": "markdown",
   "id": "5b298581-1587-45e3-8294-f764950e69ec",
   "metadata": {},
   "source": [
    "La función de distribución de una v.a. uniforme es:\n",
    "$$ F_X(x) = \\mathbb{P}(X\\le x) = \\begin{cases} 0, \\quad \\text{si } x < x_1 \\\\ \\frac{x}{n}, \\quad \\text{si } x\\in \\{x_1,...,x_n\\} \\\\\n",
    "1, \\quad \\text{si } x > x_n \\end{cases}$$"
   ]
  },
  {
   "cell_type": "markdown",
   "id": "c6219c03-0ede-4c2e-8715-85dfccc22726",
   "metadata": {},
   "source": [
    "**Ejemplo** Se lleva a cabo una rifa donde los boletos están enumerados del $00$ al $99$. Si $Y$ es la variable aleatoria definida como el número del boleto ganador, entonces:  \n",
    "$$\\mathbb{P}(Y=k)=\\begin{cases}\n",
    "\t\\frac{1}{100} &\\quad \\text{si } k=00,01,\\dots,99 \\\\\n",
    "\t0 &\\quad \\text{en otro caso}\n",
    "\\end{cases}$$\n",
    "Consideremos que el premio de la rifa se determina a partir del número premiado de la siguiente forma: $X=Y+1$, donde $X$ es el monto del premio en pesos y $Y$ es el número premiado, entonces $X$ es una variable aleatoria, pues es una función de $Y$, y además se tiene\n",
    "\t$$f_{X}(k)=\\begin{cases}\n",
    "\t\t\\frac{1}{100} &\\quad \\text{si } x=1,2,\\dots,100 \\\\\n",
    "\t\t0 &\\quad \\text{en otro caso}\n",
    "\t\\end{cases}$$"
   ]
  },
  {
   "cell_type": "markdown",
   "id": "0b28cda5-829c-47d0-b012-91fb76d6a699",
   "metadata": {},
   "source": [
    "Supongamos que nos interesa calcular la probabilidad de que el premio sea mayor a $\\$80$, entonces\n",
    "$$ \\mathbb{P}(X>80) = \\sum_{k=81}^{100} \\frac{1}{100} = \\frac{20}{100} = 0.2 $$"
   ]
  },
  {
   "cell_type": "markdown",
   "id": "2cf733c3-e107-4f0d-9436-090ebbeaa049",
   "metadata": {},
   "source": [
    "Para más información, ver [Matplotlib colores](https://matplotlib.org/stable/gallery/color/named_colors.html)"
   ]
  },
  {
   "cell_type": "markdown",
   "id": "33de95d1-b6ab-44da-8c2d-7884b6dee81b",
   "metadata": {},
   "source": [
    "### Gráfica de la distribución Uniforme Discreta"
   ]
  },
  {
   "cell_type": "code",
   "execution_count": 2,
   "id": "02f23090-b60f-4953-9daf-0535c3c14ed1",
   "metadata": {},
   "outputs": [
    {
     "data": {
      "image/png": "[encoded data removed]",
      "text/plain": [
       "<Figure size 1000x500 with 1 Axes>"
      ]
     },
     "metadata": {},
     "output_type": "display_data"
    }
   ],
   "source": [
    "# Definir el rango de la distribución uniforme discreta [low, high)\n",
    "low = 1 #límite inferior\n",
    "high = 100 #límite superior\n",
    "\n",
    "#Crear los valores posibles dentro del rango\n",
    "x = np.arange(low, high+1)\n",
    "\n",
    "#Calcular la función de masa de probabilidad\n",
    "pmf = np.full_like(x, 1/ (high+1-low) , dtype = float ) \n",
    "\n",
    "#Para crear una figura más grande\n",
    "plt.figure(figsize=(10, 5))\n",
    "\n",
    "#Graficar pmf\n",
    "plt.bar(x, pmf, width=0.2, color='b', edgecolor='black')\n",
    "plt.xlabel('Valores')\n",
    "plt.ylabel('Probabilidad')\n",
    "plt.title('Función de densidad de una uniforme discreta')\n",
    "plt.grid(True)\n",
    "plt.show() #mostrar el gráfica\n"
   ]
  },
  {
   "cell_type": "markdown",
   "id": "77fabb18-5503-4345-981f-78811a1475e0",
   "metadata": {},
   "source": [
    "$\\color{red}{\\text{Ejercicio 1.}}$ Verifica que, en efecto, la esperanza y varianza de una variable aleatoria uniforme."
   ]
  },
  {
   "cell_type": "markdown",
   "id": "f4acf7de-b28b-4114-ac52-d53e2540fec6",
   "metadata": {},
   "source": [
    "$$ \\mathbb{E}[X] = \\sum_{x} xf_X(x) = \\frac{x_n + x_1}{2} $$\n"
   ]
  },
  {
   "cell_type": "code",
   "execution_count": 3,
   "id": "94f9e7d5-5583-40ce-ba9c-225fd54e38f6",
   "metadata": {},
   "outputs": [
    {
     "data": {
      "text/plain": [
       "np.float64(50.5)"
      ]
     },
     "execution_count": 3,
     "metadata": {},
     "output_type": "execute_result"
    }
   ],
   "source": [
    "(x[-1] + x[0]) / 2"
   ]
  },
  {
   "cell_type": "code",
   "execution_count": 4,
   "id": "f29e3d59-9e58-40d1-acef-59c555641fd4",
   "metadata": {
    "scrolled": true
   },
   "outputs": [
    {
     "data": {
      "text/plain": [
       "np.float64(50.5)"
      ]
     },
     "execution_count": 4,
     "metadata": {},
     "output_type": "execute_result"
    }
   ],
   "source": [
    "sum(x * pmf)"
   ]
  },
  {
   "cell_type": "markdown",
   "id": "cc22bef9-2e6d-4e9b-89b1-11ca73f91f8b",
   "metadata": {},
   "source": [
    "$$ \\text{Var}(X) = \\mathbb{E}\\left[ (X-\\mathbb{E}[X])^2\\right] = \\frac{(x_n - x_1 + 1)^2 -1}{12}$$"
   ]
  },
  {
   "cell_type": "code",
   "execution_count": 5,
   "id": "2ab55974-e1fc-4cc1-9c6a-4f1ac3262f3e",
   "metadata": {},
   "outputs": [
    {
     "data": {
      "text/plain": [
       "np.float64(833.2499999999999)"
      ]
     },
     "execution_count": 5,
     "metadata": {},
     "output_type": "execute_result"
    }
   ],
   "source": [
    "sum(((x-sum(x * pmf)) ** 2) * pmf)"
   ]
  },
  {
   "cell_type": "code",
   "execution_count": 6,
   "id": "8717c200-90b4-4098-bd8e-afaf77041ac1",
   "metadata": {},
   "outputs": [
    {
     "data": {
      "text/plain": [
       "np.float64(833.25)"
      ]
     },
     "execution_count": 6,
     "metadata": {},
     "output_type": "execute_result"
    }
   ],
   "source": [
    "(((x[-1] - x[0] + 1) ** 2) - 1) / 12"
   ]
  },
  {
   "cell_type": "markdown",
   "id": "e6cd8d60-e777-4ded-980f-f76c34bd08e1",
   "metadata": {},
   "source": [
    "$\\color{red}{\\text{Ejercicio 2.}}$ Calcular la esperanza y varianza.    "
   ]
  },
  {
   "cell_type": "markdown",
   "id": "685c6163-bd98-4bae-a685-c41fe74111ee",
   "metadata": {},
   "source": [
    "$$ \\mathbb{P}(X>80) = \\sum_{k=81}^{100} \\frac{1}{100} = \\frac{20}{100} = 0.2 $$"
   ]
  },
  {
   "cell_type": "code",
   "execution_count": 7,
   "id": "f4a533c7-f4fa-46b5-a41b-8d3a774adbef",
   "metadata": {},
   "outputs": [
    {
     "data": {
      "text/plain": [
       "np.float64(0.20000000000000004)"
      ]
     },
     "execution_count": 7,
     "metadata": {},
     "output_type": "execute_result"
    }
   ],
   "source": [
    "sum([px for x,px in zip(x,pmf) if x > 80])"
   ]
  },
  {
   "cell_type": "markdown",
   "id": "87d58180-99cb-40b2-9f50-55cb8c3bed72",
   "metadata": {},
   "source": [
    "## Variable aleatoria Bernoulli con parámetro $p\\in (0,1)$"
   ]
  },
  {
   "cell_type": "markdown",
   "id": "0f4dc41f-51e7-4401-a0dd-688e92afbc22",
   "metadata": {},
   "source": [
    "Este modelo se aplica a un experiemento cuyo espacio muestral tiene dos resultados\n",
    "$$ \\Omega = \\{\\text{éxito} , \\text{fracaso}\\}$$\n",
    "y definimos \n",
    "- $X(\\{\\text{éxito}\\}) =1$\n",
    "- $X(\\{\\text{fracaso}\\}) =0$\n",
    "\n",
    "Las probabilidades asociadas a este modelo son\n",
    "- $\\mathbb{P}(\\{\\text{éxito}\\}) = p$\n",
    "- $\\mathbb{P}(\\{\\text{fracaso}\\}) = 1-p$\n",
    "donde $0<p<1$.\n",
    "\n",
    "La función de densidad, está definida de la siguiente manera\n",
    "$$ f_X(x) = \\mathbb{P}(X=x) = \\begin{cases} p^x(1-p)^{1-x}, \\quad \\text{si } x\\in \\{0,1\\} \\\\\n",
    "0, \\quad \\text{e.o.c} \\end{cases}$$\n",
    "\n",
    "**Notación:** $X\\sim Ber(p)$\n",
    "\n",
    "Mediante la combinación de v.a. Bernoulli es posible construir otras v.a.\n",
    "\n",
    "La esperanza y varianza de $X\\sim Ber(p)$, esá dada por:\n",
    "\n",
    "$$ \\mathbb{E}[X] =\\sum_{x=0}^{1} x f_{X}(x) = 0\\cdot (1-p) + 1 \\cdot p = p $$\n",
    "y\n",
    "$$ \\mathbb{E}[X^2] =\\sum_{x=0}^{1} x^2 f_{X}(x) = 0^2 \\cdot (1-p) + 1^2 \\cdot p = p $$\n",
    "entonces\n",
    "$$ \\text{Var}(X) = \\mathbb{E}[X^2] - (\\mathbb{E}[X])^2  = p - p^2 = p(1-p)$$"
   ]
  },
  {
   "cell_type": "markdown",
   "id": "99a3bb81-dd47-4da9-98cc-5ea4bac36835",
   "metadata": {},
   "source": [
    "Para más información, ver [Bernoulli](https://docs.scipy.org/doc/scipy/reference/generated/scipy.stats.bernoulli.html)"
   ]
  },
  {
   "cell_type": "markdown",
   "id": "327552ab-217d-4483-87f0-114049604993",
   "metadata": {},
   "source": [
    "### Gráfica de la distribución Bernoulli"
   ]
  },
  {
   "cell_type": "code",
   "execution_count": null,
   "id": "a6abb3c2-8b45-448c-9eb7-6bd50fc6b9c7",
   "metadata": {},
   "outputs": [],
   "source": []
  },
  {
   "cell_type": "code",
   "execution_count": 8,
   "id": "98f093f0-1cfe-42f8-8c05-f599a3a5cf0d",
   "metadata": {},
   "outputs": [
    {
     "name": "stdout",
     "output_type": "stream",
     "text": [
      "La función de densidad =  [0.7 0.3]\n"
     ]
    },
    {
     "data": {
      "image/png": "[encoded data removed]",
      "text/plain": [
       "<Figure size 640x480 with 1 Axes>"
      ]
     },
     "metadata": {},
     "output_type": "display_data"
    },
    {
     "name": "stdout",
     "output_type": "stream",
     "text": [
      "La esperanza es =  0.3\n",
      "La varianza es =  0.21\n"
     ]
    }
   ],
   "source": [
    "from scipy.stats import bernoulli\n",
    "\n",
    "#Definimos nuestra probabilidad de éxito\n",
    "p=0.3\n",
    "\n",
    "#Defino los posibles valores \n",
    "x=[0,1]\n",
    "\n",
    "#Calculamos la función de densidad\n",
    "pmf = bernoulli.pmf(x, p)\n",
    "\n",
    "print(\"La función de densidad = \", pmf)\n",
    "\n",
    "#Graficamos la función de densidad\n",
    "plt.bar(x,pmf,width=0.2)\n",
    "plt.xlabel('Valores')\n",
    "plt.ylabel('Probabilidad')\n",
    "plt.title('Función de densidad de una bernoulli con p=0.3')\n",
    "#plt.grid(True)\n",
    "plt.show() #mostrar el gráfica\n",
    "\n",
    "#Calculo de la esperanza \n",
    "print(\"La esperanza es = \", bernoulli.mean(p))\n",
    "\n",
    "#Calculo de la varianza \n",
    "print(\"La varianza es = \", bernoulli.var(p))"
   ]
  },
  {
   "cell_type": "markdown",
   "id": "4ddf7170-0801-470a-87e6-24d032c7eff4",
   "metadata": {},
   "source": [
    "## Variable aleatoria Binomial con parámetros $n$ y $p\\in(0,1)$"
   ]
  },
  {
   "cell_type": "markdown",
   "id": "5ca6e237-ca40-48fa-8144-ee5d986ee39a",
   "metadata": {},
   "source": [
    "Decimos que una v.a. $X$ tiene distribución binomial con parámetros $n$ y $p$, si su función de densidad está dada por\n",
    "$$ f_X(x) = \\mathbb{P}(X=x) = \\begin{cases} \\binom{n}{x}p^x (1-p)^{n-x}, \\quad \\text{si } x\\in \\{0,1,...,n\\} \\\\\n",
    "0, \\quad \\text{e.o.c} \\end{cases}$$\n",
    "donde $n\\in\\mathbb{Z}_{+}$ y $0<p<1$.\n",
    "\n",
    "**Obs:** Los ensayos deben ser independientes. \n",
    "\n",
    "La esperanza de $X$ es\n",
    "$$\\begin{align*}\n",
    "\\mathbb{E}[X]&= \\sum_{x \\mathop = 0}^n x \\binom n x p^x (1-p)^{n - x}\\\\\n",
    "&=\\sum_{x \\mathop = 1}^n x \\binom n x p^x (1-p)^{n - x}\\\\\n",
    "&= \\sum_{x \\mathop = 1}^n n \\binom {n - 1} {x - 1} p^x (1-p)^{n - x}\\\\\n",
    "&= n p \\sum_{x \\mathop = 1}^n \\binom {n - 1} {x - 1} p^{x - 1} (1-p)^{( {n - 1}) - ( {x - 1}) }\\\\\n",
    "&=n p \\sum_{j \\mathop = 0}^m \\binom m j p^j (1-p)^{m - j}\\\\\n",
    "&=np.\n",
    "\\end{align*}$$\n",
    "y \n",
    "$$ \\begin{align*}\n",
    "\\mathbb{E}[X^2]&= \\sum_{x \\mathop = 0}^n x^2 \\binom n x p^x (1-p)^{n - x}\\\\\n",
    "&=\\sum_{x \\mathop = 0}^n x n \\binom {n - 1} {x - 1} p^x (1-p)^{n - x}\\\\\n",
    "&= n p \\sum_{x \\mathop = 1}^n x \\binom {n - 1} {x - 1} p^{x - 1} (1-p)^{({n - 1}) - ({x - 1}) }\\\\\n",
    "&= n p \\sum_{j \\mathop = 0}^m ({j + 1}) \\binom m j p^j (1-p)^{m - j}\\\\\n",
    "&=n p \\left( {\\sum_{j \\mathop = 0}^m j \\binom m j p^j (1-p)^{m - j} + \\sum_{j \\mathop = 0}^m \\binom m j p^j (1-p)^{m - j} }\\right)\\\\\n",
    "&=n p \\left( {\\sum_{j \\mathop = 0}^m m \\binom {m - 1} {j - 1} p^j (1-p)^{m - j} + \\sum_{j \\mathop = 0}^m \\binom m j p^j (1-p)^{m - j} }\\right)\\\\\n",
    "&= n p \\left( (n - 1) p \\sum_{j \\mathop = 1}^m \\binom {m - 1}{j - 1} p^{j - 1} (1-p)^{( {m - 1}) - ({j - 1}) } + \\sum_{j \\mathop = 0}^m \\binom m j p^j (1-p)^{m - j}\\right) \\\\\n",
    "&= n p \\left( (n - 1) p (p + (1-p))^{m - 1} + (p + (1-p))^m\\right)\\\\\n",
    "&= n p ((n - 1) p + 1)\\\\\n",
    "&= (np)^2 +np(1-p),\n",
    "\\end{align*} $$\n",
    "\n",
    "Por lo que la varianza de $X$ es\n",
    "$$\\text{Var}(X) = np(1-p) $$"
   ]
  },
  {
   "cell_type": "markdown",
   "id": "0f325500-fd10-4074-aeb6-ee71739c19fb",
   "metadata": {},
   "source": [
    "**Ejemplo** Una moneda justa se tira seis veces, donde la probabilidad de obtener sol es de $0.3$. Sea $X$ el número de veces que cae sol, entonces dabemos que $X$ tiene una distribución binomial con parámetros $n=6$ y $p=0.3$. Calcular:\n",
    "\n",
    "- $\\mathbb{P}(X=2) = \\binom{6}{2}(0.3)^2 (1-p)^{6-2} = 0.3241$\n",
    "- $\\mathbb{P}(X=3) = \\binom{6}{3}(0.3)^3 (1-p)^{6-3} = 0.1852$\n",
    "- $$ \\begin{align*} \\mathbb{P}(1<X \\le 5) &= \\mathbb{P}(X=2) + \\mathbb{P}(X=3) \\mathbb{P}(X=4) + \\mathbb{P}(X=5) \\\\\n",
    "    &= 0.3241 + 0.1852 + \\binom{6}{4}(0.3)^4 (1-p)^{6-4} + \\binom{6}{5}(0.3)^5 (1-p)^{6-5}  \\\\\n",
    "    &= 0.579 \\end{align*} $$"
   ]
  },
  {
   "cell_type": "markdown",
   "id": "d2bae93e-71dc-4f59-b4a7-71d39ba9bf3a",
   "metadata": {},
   "source": [
    "Para más información, ver [Binomial](https://docs.scipy.org/doc/scipy/reference/generated/scipy.stats.binom.html)"
   ]
  },
  {
   "cell_type": "markdown",
   "id": "0094baaf-5849-4c50-9a35-1e21a90faf26",
   "metadata": {},
   "source": [
    "Notemos que $\\mathbb{P}(1<X\\le 5) = F_X(5) - F_X(1) $"
   ]
  },
  {
   "cell_type": "markdown",
   "id": "f11b2098-7c47-4587-a5ef-8123d5448fd9",
   "metadata": {},
   "source": [
    "Usamos el atributo `.cdf ` para calcular estas probabilidades"
   ]
  },
  {
   "cell_type": "code",
   "execution_count": 9,
   "id": "d28fdc9e-b3b7-4c56-9d33-673ea9b2b280",
   "metadata": {},
   "outputs": [
    {
     "name": "stdout",
     "output_type": "stream",
     "text": [
      "0.999271\n",
      "0.4201749999999998\n",
      "0.5790960000000003\n"
     ]
    }
   ],
   "source": [
    "from scipy.stats import binom\n",
    "print(binom.cdf(5,6,0.3)) # calcula la probabilidad acumulada de que haya 5 o menos éxitos en 6 ensayos\n",
    "print(binom.cdf(1,6,0.3)) # calcula la probabilidad acumulada de que haya 1 o menos éxitos en 6 ensayos\n",
    "print(binom.cdf(5,6,0.3)-binom.cdf(1,6,0.3)) # calcula la probabilidad deseada"
   ]
  },
  {
   "cell_type": "markdown",
   "id": "85bb831a-f939-45be-a043-5db32d40ba49",
   "metadata": {},
   "source": [
    "### Gráfica de la distribución Binomial"
   ]
  },
  {
   "cell_type": "code",
   "execution_count": 10,
   "id": "1c2bea3b-67df-442a-bc43-3106d87d3315",
   "metadata": {},
   "outputs": [
    {
     "data": {
      "image/png": "[encoded data removed]",
      "text/plain": [
       "<Figure size 1000x600 with 1 Axes>"
      ]
     },
     "metadata": {},
     "output_type": "display_data"
    }
   ],
   "source": [
    "n = 25 # número de ensayos bernoulli\n",
    "p = 0.8 # probabilidad de éxito\n",
    "s= 100000 # número de muestras\n",
    "\n",
    "#Vamos a generar numeros aleatorios que siguen una distribución binomial\n",
    "binom_numeros = sps.binom.rvs(n,p,size=s) \n",
    "\n",
    "#Creamos un histograma\n",
    "plt.figure(figsize=(10,6))\n",
    "plt.hist(\n",
    "    binom_numeros,\n",
    "    density=True, # Normaliza el area para que sea 1\n",
    "    bins=len(np.unique(binom_numeros)), # número de barras del histograma\n",
    "    color = \"blue\",\n",
    "    edgecolor=\"grey\" \n",
    ")\n",
    "\n",
    "plt.xlabel('Valores')\n",
    "plt.ylabel('Probabilidad')\n",
    "plt.title('Función de densidad de una binomial')\n",
    "#plt.grid(True)\n",
    "plt.show() #mostrar el gráfica"
   ]
  },
  {
   "cell_type": "markdown",
   "id": "2e46f7fc-1388-4e60-966f-bb914c59c6d0",
   "metadata": {},
   "source": [
    "## Variable aleatoria Poisson"
   ]
  },
  {
   "cell_type": "markdown",
   "id": "9256aaad-4607-4705-bf2d-19c8a6f83776",
   "metadata": {},
   "source": [
    "Es una distribución de probabilidad discreta que sirve para calcular la probabilidad de que ocurra un determinado número de eventos raros durante un intervalo dado (puede ser tiempo, lingitud, área, etc).\n",
    "\n",
    "Esta v.a. tomavalores sobre el conjunto $\\{0,1,2,...\\}$ y tiene un parámetro $\\lambda>0$, el cual representa el número de veces que se **espera** que ocurra un evento durante un intervalo dado.\n",
    "\n",
    "Su función de densidad, está dado como sigue:\n",
    "$$ f_X(x) = \\mathbb{P}(X=x) = \\begin{cases} e^{-\\lambda}\\frac{\\lambda^x}{x!}, \\quad \\text{si } x\\in \\{0,1,...\\} \\\\\n",
    "0, \\quad \\text{e.o.c} \\end{cases}$$\n",
    "\n",
    "Notemos que $\\mathbb{E}[X]=\\lambda$ y que $\\text{Var}(X)=\\lambda$. \n",
    "\n",
    "**Ejemplo** Supongamos que el número de accidentes que ocurre en un punto en un día tiene distribución Poisson con parámetro $\\lambda=2$, \n",
    "\n",
    "- ¿cuál es la probabilidad de que en un día ocurran más de dos accidentes?\n",
    "  $$ \\begin{align*} \\mathbb{P}(X>2) &= 1- \\mathbb{P}(X\\le 2) \\\\\n",
    "    &= 1- [\\mathbb{P}(X=0) + \\mathbb{P}(X=1) + \\mathbb{P}(X=2)] \\\\\n",
    "    &= 1- \\left[ e^{-2}\\frac{2^0}{0!} + e^{-2}\\frac{2^1}{1!} + e^{-2}\\frac{2^2}{2!} \\right] \\\\\n",
    "    &= 1 - e^{-2}[1+2+2] = 1-5e^{-2} = 0.3233\n",
    "    \\end{align*} $$\n",
    "- ¿cuál es la probabilidad de que ocurran más de dos accidentes sabiendo que por lo menos ocurre uno?\n",
    "  $$ \\begin{align*} \\mathbb{P}(X>2 \\mid X \\ge 1) &= \\frac{\\mathbb{P}(\\{X>2\\} \\cap \\{X \\ge 1\\} )}{\\mathbb{P}\\{X \\ge 1)\\}} \\\\\n",
    "       &= \\frac{\\mathbb{P}(\\{X>2\\})}{\\mathbb{P}\\{X \\ge 1)\\}} \\\\\n",
    "       & = \\frac{.3233}{1-\\mathbb{P}(X<1)} = \\frac{0.3233}{1-e^{-2}} \\frac{0.3233}{.8646} = 0.3739\n",
    "       \\end{align*} $$\n",
    "\n",
    "$\\color{red}{\\text{Ejercicio 3.}}$ Usando el atributo `.cdf` [Poisson](https://docs.scipy.org/doc/scipy/reference/generated/scipy.stats.poisson.html) calcula las probabilidades anteriores.\n"
   ]
  },
  {
   "cell_type": "code",
   "execution_count": 11,
   "id": "bcee7878-fa8b-40fd-8273-6eab23e9b979",
   "metadata": {},
   "outputs": [],
   "source": [
    "from scipy.stats import poisson\n",
    "lamb = 2"
   ]
  },
  {
   "cell_type": "markdown",
   "id": "210ca5b0-d1d8-4d89-b83c-61fde5b9e983",
   "metadata": {},
   "source": [
    "$$ \\mathbb{P}(X>2) $$"
   ]
  },
  {
   "cell_type": "code",
   "execution_count": 12,
   "id": "a306486d-b3ae-4ba2-b2d0-5906a1f15c6b",
   "metadata": {},
   "outputs": [
    {
     "data": {
      "text/plain": [
       "np.float64(0.3233235838169366)"
      ]
     },
     "execution_count": 12,
     "metadata": {},
     "output_type": "execute_result"
    }
   ],
   "source": [
    "1-poisson.cdf(2,lamb)"
   ]
  },
  {
   "cell_type": "markdown",
   "id": "d82d23f0-24c5-45f9-a0e5-75568e6be57e",
   "metadata": {},
   "source": [
    "$$ \\mathbb{P}(X>2 \\mid X \\ge 1) $$"
   ]
  },
  {
   "cell_type": "code",
   "execution_count": 13,
   "id": "ff3002e9-5722-42e7-abab-347f99c2034e",
   "metadata": {},
   "outputs": [
    {
     "data": {
      "text/plain": [
       "np.float64(0.37392942900133747)"
      ]
     },
     "execution_count": 13,
     "metadata": {},
     "output_type": "execute_result"
    }
   ],
   "source": [
    "(1-poisson.cdf(2,lamb))/(1-poisson.cdf(.99,lamb))"
   ]
  },
  {
   "cell_type": "markdown",
   "id": "05f4c193-bac9-46a5-a71c-1ffd9cff1da6",
   "metadata": {
    "jp-MarkdownHeadingCollapsed": true
   },
   "source": [
    "### Aproximación de Poisson a la Binomial\n",
    "La distribución de Poisson es una forma límite de la distribución binomial, es decir, es una buena aproximación cuando $n$ es suficientemente grande y $p$ suficientemente pequeña.\n",
    "\n",
    "$\\textbf{Teorema (Poisson).-}$ Sean $S_{n}\\sim Bin(n,p_{n})$ bajo el regimen $$\\lim_{n\\to \\infty}np_{n}=\\lambda>0.$$\n",
    "Consideremos la siguiente sucesión de números reales:\n",
    "$$a_{j}(n,p_n)=\\begin{cases}\\binom{n}{j}(p_n)^{j}(1-p_{n})^{n-j} & j\\leq n\\\\\n",
    "0 & j\\geq n+1\\end{cases}$$\n",
    "\n",
    " Entonces,\n",
    " $$\\lim_{n\\to \\infty}a_{j}(n,p_n)=a_{j}=e^{-\\lambda}\\frac{\\lambda^{j}}{j!} \\ \\ \\forall j\\in \\mathbb{N}.$$\n",
    "\n",
    " El teorema anterior implica que la distribución de Poisson ofrece un modelo probabilístico adecuado para todos aquellos experimentos aleatorios \ten los que las repeticiones son independientes unas de otras y en los \tque sólo hay dos posibles resultados: éxito o fracaso, con probabilidad de \téxito pequeña, y en los que el interés se centra en conocer el número de éxitos obtenidos al realizar el experimento un número suficientemente grande de veces.\n",
    "\n",
    "Empíricamente se ha establecido, que la aproximación se puede aplicar con seguridad si $n\\ge100$, $p\\le 0.01$ y $np \\le20$.\n",
    "\n",
    "**Ejemplo** Supongamos que la probabilidad de que un producto producido por cierta máquina es defectuoso es de $0.1$. ¿Cuál es la probabilidad de que un lote de 10 productos contenga a lo más un producto defectuoso?\n",
    "\n",
    "Sea $X$ el número de productos defectuosos, y sabemos que $X$ tiene una distribución binomial con parámetros $n=10$ y $p=0.1$, entonces\n",
    "\\begin{align*}\n",
    "\\mathbb{P}(X\\le 1) &= \\mathbb{P}(X=0)+\\mathbb{P}(X=1) \\\\ &= \\binom{10}{0}(0.1)^{0}(0.9)^{10-0}+\\binom{10}{1}(0.1)^{1}(0.9)^{10-1} \\\\ &= 0.7361\n",
    "\t\\end{align*}\n",
    "\n",
    "Ahora, con la distribución Poisson, tenemos que $\\lambda=10(0.1)=1$, por lo que\n",
    "$$\\mathbb{P}(X\\le 1) = \\mathbb{P}(X=0)+\\mathbb{P}(X=1) = \\frac{e^{-1}1^{0}}{0!}+\\frac{e^{-1}1^{1}}{1!} = e^{-1}+e^{-1} =0.7358$$"
   ]
  },
  {
   "cell_type": "markdown",
   "id": "b352608d-3279-49bc-b058-d417d40804ba",
   "metadata": {},
   "source": [
    "### Gráfica de la aproximación de la binomial a la Poisson"
   ]
  },
  {
   "cell_type": "code",
   "execution_count": 14,
   "id": "e0bddda6-0270-45ea-bafd-ecfa7cf2744e",
   "metadata": {},
   "outputs": [
    {
     "data": {
      "image/png": "[encoded data removed]",
      "text/plain": [
       "<Figure size 640x480 with 1 Axes>"
      ]
     },
     "metadata": {},
     "output_type": "display_data"
    }
   ],
   "source": [
    "# Simulación de la aproximación de la Bonomial a la Poisson\n",
    "param=3 # Parametro de la Poisson que queremos aproximar\n",
    "n=1000 # Este es el número de ensayos en la distribución binomial\n",
    "N=5000 # Este es el número de simulaciones que realizaremos.\n",
    "\n",
    "# Genera una muestra de N valores aleatorios de una distribución binomial con parámetros:\n",
    "# n = 1000 (número de ensayos), p = param/n = 3/1000\n",
    "X=npr.binomial(n,param/n,N)\n",
    "\n",
    "# Calcular la frecuencia relativa de los valores simulados\n",
    "counts = np.bincount(X) / float(N)\n",
    "\n",
    "# Crear un array de valores posibles\n",
    "x = np.arange(len(counts))\n",
    "\n",
    "# Calcular la función de masa de probabilidad (FMP) de la distribución Poisson teórica\n",
    "f_x = sps.poisson.pmf(x, param)\n",
    "\n",
    "plt.close()\n",
    "plt.bar(x - 0.5, counts, width=1., label=\"ley empírica\")\n",
    "p2 = plt.stem(x, f_x, \"r\", label=\"ley teórica\")\n",
    "plt.legend()\n",
    "plt.show()\n"
   ]
  },
  {
   "cell_type": "markdown",
   "id": "c0ace876-148d-4fa8-9fc7-d6bd6b337340",
   "metadata": {},
   "source": [
    "## Variable aleatoria Geométrica con parámetro $p\\in (0,1)$."
   ]
  },
  {
   "cell_type": "markdown",
   "id": "dc3a6079-1196-42a2-a67d-318b731a762b",
   "metadata": {},
   "source": [
    "Esta variable aleatoria cuenta el número de fracasos antes del primer éxito en ensayos bernoulli independientes con parámetro $0<p<1$, y su función de masa de probabilidades está dada por:\n",
    "$$f_{X}(x)=\\begin{cases}\n",
    "\tp(1-p)^{x-1} &\\quad \\text{si } x=1,2,\\dots \\\\\n",
    "\t\\qquad 0 &\\quad \\text{en otro caso}  \n",
    "\\end{cases}$$\n",
    "\n",
    "\n",
    "**Notación:** $X\\sim Geo(p)$\n",
    "\n",
    "La cual es una función de densidad ya que:\n",
    "* $0\\le f_{X}(x)\\le 1$ para toda $x$.\n",
    "* $$\\begin{align*}\n",
    "\t\\sum_{x\\in R_{X}}f_{X}(x) &= \\sum_{x=1}^{\\infty}(1-p)^{x-1}p \\\\\n",
    "\t&= p\\sum_{y=0}^{\\infty}(1-p)^{y} \\\\\n",
    "\t&= p\\left(\\frac{1}{1-(1-p)}\\right) = 1\n",
    "    \\end{align*}$$\n",
    "\n",
    "Si por el contrario queremos contar el número de éxitos antes del primer fracaso, tenemos que la función de está dada por:\n",
    "$$f_{X}(x)=\\begin{cases}\n",
    "\tp^{x}(1-p) &\\quad \\text{si } x=0,1,2,\\dots \\\\\n",
    "\t\\qquad 0 &\\quad \\text{en otro caso}  \n",
    "\\end{cases}$$\n",
    "\n",
    "Para calcular la esperanza y varianza de $X$, necesitamos del siguiente lema:\n",
    "\n",
    "**Lema 1.** Sea $x$ un número real tal que $│x│<1$. Entonces,\n",
    "$$\\sum_{k=1}^{\\infty}kx^{k-1}=\\frac{1}{(1-x)^2}.$$\n",
    "**Demostración.** Se tiene que\n",
    "$$\\frac{d}{dx}\\sum_{k=1}^{\\infty}x^{k}=\\sum_{k=1}^{\\infty}kx^{k-1}.$$\n",
    "Además,\n",
    "$$\\sum_{k=1}^{\\infty}x^{k}=\\frac{x}{1-x}.$$\n",
    "Por lo tanto,\n",
    "$$\\frac{d}{dx}\\frac{x}{1-x}=\\frac{1}{(1-x)^2}.$$\n",
    "\n",
    "Como corolario,\n",
    "$$\\sum_{k=1}^{\\infty}k(k+1)x^{k-1}=\\frac{2}{(1-x)^2}.$$\n",
    "En efecto,\n",
    "$$\\frac{d}{dx}\\sum_{k=1}^{\\infty}(k+1)x^{k}=\\sum_{k=1}^{\\infty}k(k+1)x^{k-1}.$$\n",
    "Ahora,\n",
    "$$\\sum_{k=1}^{\\infty}(k+1)x^{k}=\\sum_{m=2}^{\\infty}mx^{m-1}=\\frac{1}{(1-x)^2}-1.$$\n",
    "\n",
    "Usando estos resultados, se tiene que la esperanza de $X$ es:\n",
    "$$\\begin{align*}\n",
    "\\mathbb{E}[X]&= \\sum_{x=1}^{\\infty} x p(1-p)^{x - 1}\\\\\n",
    "&= p \\frac 1 {(1 - (1-p))^2}\\\\\n",
    "&=  \\frac p {p^2}\\\\\n",
    "&=\\frac{1}{p}\n",
    "\\end{align*}$$\n",
    "y calculamos,\n",
    "$$ \\begin{align*}\n",
    "\\mathbb{E}[X^2]&= \\sum_{x=1}^{\\infty} x^{2}p(1-p)^{x-1}\\\\\n",
    "&=\\sum_{x=1}^{\\infty}x(x+1)(1-p)^{x-1}p-\\sum_{x=1}^{\\infty}p(1-p)^{x-1}\n",
    "\\end{align*}$$\n",
    "\n",
    "Por el Lema 1, se tiene\n",
    "$$\\mathbb{E}[X^2]=p\\frac{2}{p^3}-\\frac{1}{p}=\\frac{2}{p^2}-\\frac{1}{p}.$$\n",
    "\n",
    "Por lo tanto,\n",
    "$$\\text{Var}(X)=\\frac{2}{p^2}-\\frac{1}{p}-\\frac{1}{p^2}=\\frac{1-p}{p^2}.$$"
   ]
  },
  {
   "cell_type": "markdown",
   "id": "8aaa1e27-63e1-44c7-bf27-4ea6fcee8d01",
   "metadata": {},
   "source": [
    "### Gráfica de la distribución geométrica"
   ]
  },
  {
   "cell_type": "code",
   "execution_count": 15,
   "id": "f6ca6728-f2c5-4404-8cad-5b478dec7ecc",
   "metadata": {},
   "outputs": [
    {
     "data": {
      "image/png": "[encoded data removed]",
      "text/plain": [
       "<Figure size 1000x600 with 1 Axes>"
      ]
     },
     "metadata": {},
     "output_type": "display_data"
    }
   ],
   "source": [
    "p = 0.6 # probabilidad de éxito\n",
    "s= 100000 # número de muestras\n",
    "\n",
    "random.seed(3) #fijar una semilla\n",
    "#Vamos a generar numeros aleatorios que siguen una distribución geométrica\n",
    "geom_numeros = sps.geom.rvs(p,size=s) \n",
    "\n",
    "#Creamos un histograma\n",
    "plt.figure(figsize=(10,6))\n",
    "plt.hist(\n",
    "    geom_numeros,\n",
    "    density=True, # Normaliza el area para que sea 1\n",
    "    bins=len(np.unique(geom_numeros)), # número de barras del histograma\n",
    "    color = \"blue\",\n",
    "    edgecolor=\"grey\" \n",
    ")\n",
    "\n",
    "plt.xlabel('Valores')\n",
    "plt.ylabel('Probabilidad')\n",
    "plt.title('Función de densidad de una geométrica')\n",
    "plt.show() #mostrar el gráfica"
   ]
  },
  {
   "cell_type": "markdown",
   "id": "ec527425-8fdd-4f48-a269-5c84d90b43bc",
   "metadata": {},
   "source": [
    "## Variable aleatoria Binomial Negativa con parámetros $r\\geq 1$ y $p\\in (0,1)$."
   ]
  },
  {
   "cell_type": "markdown",
   "id": "054bc781-2f37-49b5-9080-b593ee7a3b8b",
   "metadata": {},
   "source": [
    "Supongamos que se realizan ensayos independientes, cada uno con probabilidad $0<p<1$ de ser un éxito, hasta obtener un total de $r$ éxitos acumulados. Sea $X$ el número de ensayos que se requieren, entonces su función de masa de probabilidades está dada por:\n",
    "$$ f_{X}(x)=\\begin{cases}\n",
    "\t\\binom{x-1}{r-1}p^{r}(1-p)^{x-r} &\\quad \\text{si } x=r,r+1,\\dots \\\\\n",
    "\t\\qquad 0 &\\quad \\text{en otro caso}  \n",
    "\\end{cases}$$\n",
    "\n",
    "**Notación.** $X\\sim \\text{BN}(r,p)$.\n",
    "\n",
    "Se tiene que\n",
    "$$ \\mathbb{E}[X]=\\frac{r}{p}$$\n",
    "y\n",
    "$$ \\text{Var}[X]=\\frac{r(1-p)}{p^2}.$$"
   ]
  },
  {
   "cell_type": "markdown",
   "id": "74646def-632a-4e6d-b8a4-06ac0d85a0d3",
   "metadata": {},
   "source": [
    "### Gráfica de la distribución Binomial Negativa"
   ]
  },
  {
   "cell_type": "code",
   "execution_count": 16,
   "id": "93f940db-2aa3-432a-8876-73e23ee38ed4",
   "metadata": {},
   "outputs": [
    {
     "data": {
      "image/png": "[encoded data removed]",
      "text/plain": [
       "<Figure size 1000x600 with 1 Axes>"
      ]
     },
     "metadata": {},
     "output_type": "display_data"
    }
   ],
   "source": [
    "r = 10  \n",
    "p = 0.4 # probabilidad de éxito\n",
    "s= 100000 # número de muestras\n",
    "\n",
    "random.seed(3) #fijar una semilla\n",
    "#Vamos a generar numeros aleatorios que siguen una distribución geométrica\n",
    "nbinom_numeros = sps.nbinom.rvs(r,p,size=s) \n",
    "\n",
    "#Creamos un histograma\n",
    "plt.figure(figsize=(10,6))\n",
    "plt.hist(\n",
    "    nbinom_numeros,\n",
    "    density=True, # Normaliza el area para que sea 1\n",
    "    bins=len(np.unique(nbinom_numeros)), # número de barras del histograma\n",
    "    color = \"blue\",\n",
    "    edgecolor=\"grey\" \n",
    ")\n",
    "\n",
    "plt.xlabel('Valores')\n",
    "plt.ylabel('Probabilidad')\n",
    "plt.title('Función de densidad de una BN con r=10 y p=0.4')\n",
    "plt.show() #mostrar el gráfica"
   ]
  },
  {
   "cell_type": "markdown",
   "id": "f947d8f1-f166-4886-930b-2dac2381440c",
   "metadata": {},
   "source": [
    "$\\color{red}{\\text{Ejercicio 4.}}$ Un examen de Estadística consta de 20 preguntas tipo test y se conoce de experiencias\n",
    "anteriores que un alumno tiene probabilidad 0.7 de contestar bien cada pregunta. Obtener:\n",
    "\n",
    "a) La probabilidad de que la primera pregunta que contesta bien sea la cuarta.\n",
    "\n",
    "b) Sabiendo que para aprobar el examen es necesario contestar bien a 10 preguntas, ¿cuál es la probabilidad de que apruebe al contestar la pregunta duodécima?"
   ]
  },
  {
   "cell_type": "code",
   "execution_count": 17,
   "id": "fa43b55b-f4ff-4111-b9d5-f64719116d84",
   "metadata": {},
   "outputs": [
    {
     "data": {
      "text/plain": [
       "np.float64(0.018900000000000004)"
      ]
     },
     "execution_count": 17,
     "metadata": {},
     "output_type": "execute_result"
    }
   ],
   "source": [
    "from scipy.stats import nbinom\n",
    "nbinom.pmf(4-1,1,0.7)"
   ]
  },
  {
   "cell_type": "code",
   "execution_count": 18,
   "id": "a185e3ec-efff-4435-a89f-4fcb70c08fd6",
   "metadata": {},
   "outputs": [
    {
     "data": {
      "text/plain": [
       "np.float64(0.21891831797499986)"
      ]
     },
     "execution_count": 18,
     "metadata": {},
     "output_type": "execute_result"
    }
   ],
   "source": [
    "nbinom.pmf(12-10,10,0.7) + nbinom.pmf(12-11,11,0.7) + nbinom.pmf(12-12,12,0.7)"
   ]
  },
  {
   "cell_type": "markdown",
   "id": "7a39d514-5683-4ada-9f8a-3dc0334da248",
   "metadata": {},
   "source": [
    "\n",
    "$\\color{red}{\\text{Ejercicio 5.}}$ Investigue sobre el problema de la caja de cerillos de Banach y explique su solución."
   ]
  },
  {
   "cell_type": "markdown",
   "id": "db2f353c-c821-4ff9-9e53-d51ec6c753a6",
   "metadata": {},
   "source": [
    "Problema de las Cajas de Fósforos de Banach: Supongamos que un matemático lleva siempre consigo dos cajas de fósforos: una en su bolsillo \n",
    "\n",
    "izquierdo y otra en el derecho. Cada vez que necesita un fósforo, tiene la misma probabilidad de tomarlo de cada bolsillo. Supongamos que \n",
    "\n",
    "mete la mano en su bolsillo y descubre por primera vez que la caja elegida está vacía. \n",
    "\n",
    "Si se asume que cada una de las cajas de fósforos originalmente contenía __N__ fósforos, ¿cuál es la probabilidad de que haya exactamente\n",
    "\n",
    "__k__ fósforos en la otra caja?"
   ]
  },
  {
   "cell_type": "code",
   "execution_count": 19,
   "id": "0babe435-61e5-45e1-86f1-8780494f9d24",
   "metadata": {},
   "outputs": [
    {
     "data": {
      "image/png": "[encoded data removed]",
      "text/plain": [
       "<Figure size 640x480 with 1 Axes>"
      ]
     },
     "metadata": {},
     "output_type": "display_data"
    }
   ],
   "source": [
    "from scipy.stats import nbinom\n",
    "import matplotlib.pyplot as plt\n",
    "import numpy as np\n",
    "\n",
    "N = 20  # Número de fósforos en cada caja inicialmente\n",
    "p = 0.5  # Probabilidad de tomar un fósforo de una caja en cada intento\n",
    "\n",
    "# número total de fósforos usados antes de vaciar una caja\n",
    "k = np.arange(N, 2 * N)\n",
    "\n",
    "probs = nbinom.pmf(k - N, N, p)\n",
    "\n",
    "plt.bar(2*N-k, probs, label='Distribución Binomial Negativa')\n",
    "plt.xlabel('Total de fósforos restantes')\n",
    "plt.ylabel('Probabilidad')\n",
    "plt.legend()\n",
    "plt.show()"
   ]
  },
  {
   "cell_type": "markdown",
   "id": "6e851e52-7eca-432f-bf75-b5e985ea7cfb",
   "metadata": {},
   "source": [
    "## Variable aleatoria Hipergeométrica con parámetros $n,N,m$."
   ]
  },
  {
   "cell_type": "markdown",
   "id": "54617707-1158-4f6d-9d14-4db1f4167588",
   "metadata": {},
   "source": [
    "Supongamos que se elige, sin reemplazo, una muestra de tamaño $n$ de una urna que contiene $N$ bolas, de las cuales $m$ son rojas y $N-m$ son verdes. Sea $X$ el número de bolas rojas seleccionadas, entonces su función de masa de probabilidades está dada por:\n",
    "$$ f_{X}(x)=\n",
    "\t\\frac{\\binom{m}{x}\\binom{N-m}{n-x}}{\\binom{N}{n}} \\quad \\text{si } x=0,1,\\dots, n $$\n",
    "\n",
    "**Notación.** $X\\sim \\text{Hiper}(n,N,m)$.\n",
    "\n",
    "Se tiene que\n",
    "$$ \\mathbb{E}[X]=\\frac{nm}{N}$$\n",
    "y\n",
    "$$ \\text{Var}[X]=\\frac{nm}{N}\\left[\\frac{(n-1)(m-1)}{N-1}+1-\\frac{nm}{N} \\right].$$\n",
    "\n",
    "**Nota.** Si $x\\leq n$ y $X\\sim \\text{Hiper}(n,N,m)$, cuando $p=\\frac{m}{N}$ y $m,N$ son muy grandes con respecto a $n$ y $x$:\n",
    "$$\\mathbb{P}(X=x)\\approx \\binom{n}{x}p^{x}(1-p)^{n-x}.$$"
   ]
  },
  {
   "cell_type": "markdown",
   "id": "4bf42501-b420-406e-9a08-2fbc84079188",
   "metadata": {},
   "source": [
    "$\\color{red}{\\text{Ejercicio 6.}}$ Replicar la grafica de la función de densidad"
   ]
  },
  {
   "cell_type": "code",
   "execution_count": 20,
   "id": "ffb0aa73-ebd0-49f7-8b0e-43a42787b7ea",
   "metadata": {},
   "outputs": [
    {
     "data": {
      "image/png": "[encoded data removed]",
      "text/plain": [
       "<Figure size 1000x600 with 1 Axes>"
      ]
     },
     "metadata": {},
     "output_type": "display_data"
    }
   ],
   "source": [
    "n = 7  \n",
    "N = 20 # probabilidad de éxito\n",
    "m = 12\n",
    "s= 100000 # número de muestras\n",
    "\n",
    "random.seed(3) #fijar una semilla\n",
    "#Vamos a generar numeros aleatorios que siguen una distribución geométrica\n",
    "nbinom_numeros = sps.hypergeom.rvs(N, n, m,size=s) \n",
    "\n",
    "#Creamos un histograma\n",
    "plt.figure(figsize=(10,6))\n",
    "plt.hist(\n",
    "    nbinom_numeros,\n",
    "    density=True, # Normaliza el area para que sea 1\n",
    "    bins=len(np.unique(nbinom_numeros)), # número de barras del histograma\n",
    "    color = \"blue\",\n",
    "    edgecolor=\"grey\" \n",
    ")\n",
    "\n",
    "plt.xlabel('Valores')\n",
    "plt.ylabel('Probabilidad')\n",
    "plt.title(f'Función de densidad de una Hiper con N={N}, n={n} y m={m}')\n",
    "plt.show() #mostrar el gráfica"
   ]
  },
  {
   "cell_type": "markdown",
   "id": "95b5b718-63c9-460b-9d32-312b1346bb9a",
   "metadata": {},
   "source": [
    "$\\color{red}{\\text{Ejercicio 7.}}$ Una compañía petrolera realiza un estudio geológico que indica que un pozo petrolero exploratorio debería tener un 20% de posibilidades de encontrar petróleo.\n",
    "\n",
    "- ¿Cuál es la probabilidad de que el primer pozo se produzca en el tercer pozo perforado?\n",
    "\n",
    "- ¿Cuál es la probabilidad de que el tercer pozo se produzca en el séptimo pozo perforado?\n",
    "\n",
    "- ¿Cuál es la media y la varianza del número de pozos que se deben perforar si la compañía petrolera quiere establecer tres pozos productores?"
   ]
  },
  {
   "cell_type": "code",
   "execution_count": null,
   "id": "d4d281d5-14b3-44e5-bfec-0d3ed669ba87",
   "metadata": {},
   "outputs": [],
   "source": []
  }
 ],
 "metadata": {
  "kernelspec": {
   "display_name": "Python 3 (ipykernel)",
   "language": "python",
   "name": "python3"
  },
  "language_info": {
   "codemirror_mode": {
    "name": "ipython",
    "version": 3
   },
   "file_extension": ".py",
   "mimetype": "text/x-python",
   "name": "python",
   "nbconvert_exporter": "python",
   "pygments_lexer": "ipython3",
   "version": "3.13.2"
  }
 },
 "nbformat": 4,
 "nbformat_minor": 5
}
