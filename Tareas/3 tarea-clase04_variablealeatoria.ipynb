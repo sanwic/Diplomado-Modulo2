{
 "cells": [
  {
   "cell_type": "markdown",
   "id": "cfb2b213-891f-4f5d-be26-560d6483cb91",
   "metadata": {},
   "source": [
    "# Tarea. Clase 04\n",
    "\n",
    "## Variables aleatorias\n",
    "\n",
    "---"
   ]
  },
  {
   "cell_type": "markdown",
   "id": "6ef7784d-d315-40bc-aa2c-d34692b38e4f",
   "metadata": {},
   "source": [
    "## Equipo 6.\n",
    "### Integrantes:\n",
    "\n",
    "* Arellano Juárez Yoshué Bernardino\n",
    "* Arellanos Balcázar Carlos Japhet\n",
    "* Chávez Gómez Sandra Fernanda\n",
    "* Gómez Alba Valeria\n",
    "* Rasgado Celaya Julio Martín\n",
    "\n",
    "---"
   ]
  },
  {
   "cell_type": "code",
   "execution_count": 1,
   "id": "2f740e76-ac0e-4048-bd9d-9a682c4f17a3",
   "metadata": {},
   "outputs": [],
   "source": [
    "import numpy\n",
    "import random\n",
    "\n",
    "import sympy as sp\n",
    "import numpy.random as npr\n",
    "import scipy.stats as stats\n",
    "import matplotlib.pyplot as plt\n",
    "\n",
    "from IPython.display import Markdown"
   ]
  },
  {
   "cell_type": "code",
   "execution_count": 2,
   "id": "8ef4d1f7-fb83-46a3-a957-e5847dae5fe5",
   "metadata": {},
   "outputs": [],
   "source": [
    "def printmd(text):\n",
    "    display(Markdown(text))"
   ]
  },
  {
   "cell_type": "markdown",
   "id": "49ed6a83-815a-4a4d-a5cf-4b766419fbbe",
   "metadata": {},
   "source": [
    "$\\color{red}{\\text{Ejercicio 1.}}$ Verifica que, en efecto, la esperanza y varianza de una variable aleatoria uniforme."
   ]
  },
  {
   "cell_type": "markdown",
   "id": "1fc6069b-75fd-4f1e-9183-446e3eb26d43",
   "metadata": {},
   "source": [
    "Una variable aleatoria $X$ tiene distribución uniforme discreta en el conjunto $\\{x_1,...,x_n\\}$ si su función de densidad está dada por\n",
    "$$ f_X(x) = \\mathbb{P}(X=x) = \\begin{cases} \\frac{1}{n}, \\quad \\text{si } x\\in \\{x_1,...,x_n\\} \\\\\n",
    "0, \\quad \\text{e.o.c} \\end{cases}$$\n",
    "\n",
    "Se llama uniforme porque cada uno de sus posibles resultados de $X$ tienene la misma probabilidad.\n",
    "\n",
    "**Notación:** $X\\sim Unif(x_1,...,x_n)$\n",
    "\n",
    "La esperanza y varianza de $X$, están dadas por:\n",
    "\n",
    "$$ \\mathbb{E}[X] = \\sum_{x} xf_X(x) = \\frac{x_n + x_1}{2} $$\n",
    "y \n",
    "$$ \\text{Var}(X) = \\mathbb{E}\\left[ (X-\\mathbb{E}[X])^2\\right] = \\frac{(x_n - x_1 + 1)^2 -1}{12}$$"
   ]
  },
  {
   "cell_type": "code",
   "execution_count": 3,
   "id": "863a11b7-06f3-45d4-9d30-d8a51f7c10f2",
   "metadata": {},
   "outputs": [
    {
     "data": {
      "text/markdown": [
       "### Demostración de la esperanza de una distribución uniforme"
      ],
      "text/plain": [
       "<IPython.core.display.Markdown object>"
      ]
     },
     "metadata": {},
     "output_type": "display_data"
    },
    {
     "data": {
      "text/markdown": [
       "Función de densidad:"
      ],
      "text/plain": [
       "<IPython.core.display.Markdown object>"
      ]
     },
     "metadata": {},
     "output_type": "display_data"
    },
    {
     "data": {
      "text/latex": [
       "$\\displaystyle f_{X}{\\left(x \\right)} = \\begin{cases} \\frac{1}{n} & \\text{for}\\: x \\geq x_{1} \\wedge x \\leq x_{n} \\\\0 & \\text{otherwise} \\end{cases}$"
      ],
      "text/plain": [
       "Eq(f_X(x), Piecewise((1/n, (x >= x1) & (x <= x_n)), (0, True)))"
      ]
     },
     "metadata": {},
     "output_type": "display_data"
    },
    {
     "data": {
      "text/markdown": [
       "Esperanza de la función:"
      ],
      "text/plain": [
       "<IPython.core.display.Markdown object>"
      ]
     },
     "metadata": {},
     "output_type": "display_data"
    },
    {
     "data": {
      "text/latex": [
       "$\\displaystyle E{\\left(X \\right)} = \\sum_{x=x_{1}}^{x_{n}} \\frac{x}{n}$"
      ],
      "text/plain": [
       "Eq(E(X), Sum(x/n, (x, x1, x_n)))"
      ]
     },
     "metadata": {},
     "output_type": "display_data"
    },
    {
     "data": {
      "text/latex": [
       "$\\displaystyle E{\\left(X \\right)} = \\frac{- \\frac{x_{1}^{2}}{2} + \\frac{x_{1}}{2} + \\frac{x_{n}^{2}}{2} + \\frac{x_{n}}{2}}{n}$"
      ],
      "text/plain": [
       "Eq(E(X), (-x1**2/2 + x1/2 + x_n**2/2 + x_n/2)/n)"
      ]
     },
     "metadata": {},
     "output_type": "display_data"
    },
    {
     "data": {
      "text/latex": [
       "$\\displaystyle E{\\left(X \\right)} = \\frac{- x_{1}^{2} + x_{1} + x_{n}^{2} + x_{n}}{2 n}$"
      ],
      "text/plain": [
       "Eq(E(X), (-x1**2 + x1 + x_n**2 + x_n)/(2*n))"
      ]
     },
     "metadata": {},
     "output_type": "display_data"
    },
    {
     "data": {
      "text/latex": [
       "$\\displaystyle E{\\left(X \\right)} = - \\frac{\\left(x_{1} + x_{n}\\right) \\left(x_{1} - x_{n} - 1\\right)}{2 n}$"
      ],
      "text/plain": [
       "Eq(E(X), -(x1 + x_n)*(x1 - x_n - 1)/(2*n))"
      ]
     },
     "metadata": {},
     "output_type": "display_data"
    },
    {
     "data": {
      "text/markdown": [
       "Usando $n = x_n - x_1 + 1$"
      ],
      "text/plain": [
       "<IPython.core.display.Markdown object>"
      ]
     },
     "metadata": {},
     "output_type": "display_data"
    },
    {
     "data": {
      "text/latex": [
       "$\\displaystyle E{\\left(X \\right)} = \\frac{x_{1} + x_{n}}{2}$"
      ],
      "text/plain": [
       "Eq(E(X), (x1 + x_n)/2)"
      ]
     },
     "metadata": {},
     "output_type": "display_data"
    }
   ],
   "source": [
    "printmd('### Demostración de la esperanza de una distribución uniforme')\n",
    "\n",
    "x, X = sp.symbols('x X', integer=True)\n",
    "f = sp.Function('f_X')(x)\n",
    "\n",
    "x1, xn, n = sp.symbols('x1 x_n n', integer=True)\n",
    "# nx = xn - x1 + 1\n",
    "\n",
    "printmd('Función de densidad:')\n",
    "fX_x = sp.Eq(\n",
    "    f,\n",
    "    sp.Piecewise(\n",
    "        (1 / n, (x >= x1) & (x <= xn)), \n",
    "        (0, True)\n",
    "    )\n",
    ")\n",
    "display(fX_x)\n",
    "\n",
    "fx = 1 / n\n",
    "\n",
    "printmd('Esperanza de la función:')\n",
    "E = sp.Function('E')\n",
    "var_E_X = sp.summation(x * fx, (x, x1, xn))\n",
    "sym_E_X = sp.Sum(x * fx, (x, x1, xn))\n",
    "Eq_E_X = sp.Eq(\n",
    "    E(X), \n",
    "    sym_E_X\n",
    ")\n",
    "display(Eq_E_X)\n",
    "\n",
    "Eq_E_X = sp.Eq(\n",
    "    E(X),\n",
    "    var_E_X\n",
    ")\n",
    "display(Eq_E_X)\n",
    "\n",
    "var_E_X = sp.simplify(var_E_X)\n",
    "Eq_E_X = sp.Eq(\n",
    "    E(X),\n",
    "    var_E_X\n",
    ")\n",
    "display(Eq_E_X)\n",
    "\n",
    "var_E_X = sp.factor(var_E_X, deep=True)\n",
    "Eq_E_X = sp.Eq(\n",
    "    E(X),\n",
    "    var_E_X\n",
    ")\n",
    "display(Eq_E_X)\n",
    "\n",
    "printmd('Usando $n = x_n - x_1 + 1$')\n",
    "var_E_X = sp.factor(var_E_X.subs(xn - x1 + 1, n))\n",
    "Eq_E_X = sp.Eq(\n",
    "    E(X),\n",
    "    var_E_X\n",
    ")\n",
    "display(Eq_E_X)"
   ]
  },
  {
   "cell_type": "code",
   "execution_count": 4,
   "id": "5787b49c-8c1e-4346-b66a-569477fb78e5",
   "metadata": {},
   "outputs": [
    {
     "data": {
      "text/markdown": [
       "### Demostración de la varianza de una distribución uniforme"
      ],
      "text/plain": [
       "<IPython.core.display.Markdown object>"
      ]
     },
     "metadata": {},
     "output_type": "display_data"
    },
    {
     "data": {
      "text/markdown": [
       "Función de densidad:"
      ],
      "text/plain": [
       "<IPython.core.display.Markdown object>"
      ]
     },
     "metadata": {},
     "output_type": "display_data"
    },
    {
     "data": {
      "text/latex": [
       "$\\displaystyle f_{X}{\\left(x \\right)} = \\begin{cases} \\frac{1}{n} & \\text{for}\\: x \\geq x_{1} \\wedge x \\leq x_{n} \\\\0 & \\text{otherwise} \\end{cases}$"
      ],
      "text/plain": [
       "Eq(f_X(x), Piecewise((1/n, (x >= x1) & (x <= x_n)), (0, True)))"
      ]
     },
     "metadata": {},
     "output_type": "display_data"
    },
    {
     "data": {
      "text/markdown": [
       "Varianza de la función:"
      ],
      "text/plain": [
       "<IPython.core.display.Markdown object>"
      ]
     },
     "metadata": {},
     "output_type": "display_data"
    },
    {
     "data": {
      "text/latex": [
       "$\\displaystyle V{\\left(X \\right)} = E^{2}{\\left(X - E{\\left(X \\right)} \\right)}$"
      ],
      "text/plain": [
       "Eq(V(X), E(X - E(X))**2)"
      ]
     },
     "metadata": {},
     "output_type": "display_data"
    },
    {
     "data": {
      "text/latex": [
       "$\\displaystyle V{\\left(X \\right)} = - E^{2}{\\left(X \\right)} + E{\\left(X^{2} \\right)}$"
      ],
      "text/plain": [
       "Eq(V(X), -E(X)**2 + E(X**2))"
      ]
     },
     "metadata": {},
     "output_type": "display_data"
    },
    {
     "data": {
      "text/markdown": [
       "Calculando $E(X^{{2}})$"
      ],
      "text/plain": [
       "<IPython.core.display.Markdown object>"
      ]
     },
     "metadata": {},
     "output_type": "display_data"
    },
    {
     "data": {
      "text/latex": [
       "$\\displaystyle E{\\left(X^{2} \\right)} = \\sum_{x=x_{1}}^{x_{n}} \\frac{x^{2}}{n}$"
      ],
      "text/plain": [
       "Eq(E(X**2), Sum(x**2/n, (x, x1, x_n)))"
      ]
     },
     "metadata": {},
     "output_type": "display_data"
    },
    {
     "data": {
      "text/latex": [
       "$\\displaystyle E{\\left(X^{2} \\right)} = \\frac{x_{1}^{2}}{3} + \\frac{x_{1} x_{n}}{3} - \\frac{x_{1}}{6} + \\frac{x_{n}^{2}}{3} + \\frac{x_{n}}{6}$"
      ],
      "text/plain": [
       "Eq(E(X**2), x1**2/3 + x1*x_n/3 - x1/6 + x_n**2/3 + x_n/6)"
      ]
     },
     "metadata": {},
     "output_type": "display_data"
    },
    {
     "data": {
      "text/markdown": [
       "Calculando $E(X)^{{2}}$"
      ],
      "text/plain": [
       "<IPython.core.display.Markdown object>"
      ]
     },
     "metadata": {},
     "output_type": "display_data"
    },
    {
     "data": {
      "text/latex": [
       "$\\displaystyle E^{2}{\\left(X \\right)} = \\frac{x_{1}^{2}}{4} + \\frac{x_{1} x_{n}}{2} + \\frac{x_{n}^{2}}{4}$"
      ],
      "text/plain": [
       "Eq(E(X)**2, x1**2/4 + x1*x_n/2 + x_n**2/4)"
      ]
     },
     "metadata": {},
     "output_type": "display_data"
    },
    {
     "data": {
      "text/markdown": [
       "Retomando la varianza:"
      ],
      "text/plain": [
       "<IPython.core.display.Markdown object>"
      ]
     },
     "metadata": {},
     "output_type": "display_data"
    },
    {
     "data": {
      "text/latex": [
       "$\\displaystyle V{\\left(X \\right)} = \\frac{x_{1}^{2}}{12} - \\frac{x_{1} x_{n}}{6} - \\frac{x_{1}}{6} + \\frac{x_{n}^{2}}{12} + \\frac{x_{n}}{6}$"
      ],
      "text/plain": [
       "Eq(V(X), x1**2/12 - x1*x_n/6 - x1/6 + x_n**2/12 + x_n/6)"
      ]
     },
     "metadata": {},
     "output_type": "display_data"
    },
    {
     "data": {
      "text/latex": [
       "$\\displaystyle V{\\left(X \\right)} = \\frac{\\left(x_{1} - x_{n}\\right) \\left(x_{1} - x_{n} - 2\\right)}{12}$"
      ],
      "text/plain": [
       "Eq(V(X), (x1 - x_n)*(x1 - x_n - 2)/12)"
      ]
     },
     "metadata": {},
     "output_type": "display_data"
    },
    {
     "data": {
      "text/latex": [
       "$\\displaystyle V{\\left(X \\right)} = \\frac{\\left(x_{1} - x_{n}\\right) \\left(x_{1} - x_{n} - 2\\right)}{12}$"
      ],
      "text/plain": [
       "Eq(V(X), (x1 - x_n)*(x1 - x_n - 2)/12)"
      ]
     },
     "metadata": {},
     "output_type": "display_data"
    },
    {
     "data": {
      "text/markdown": [
       "Usando $n = x_n - x_1 + 1$"
      ],
      "text/plain": [
       "<IPython.core.display.Markdown object>"
      ]
     },
     "metadata": {},
     "output_type": "display_data"
    },
    {
     "data": {
      "text/latex": [
       "$\\displaystyle V{\\left(X \\right)} = \\frac{n^{2}}{12} - \\frac{1}{12}$"
      ],
      "text/plain": [
       "Eq(V(X), n**2/12 - 1/12)"
      ]
     },
     "metadata": {},
     "output_type": "display_data"
    }
   ],
   "source": [
    "printmd('### Demostración de la varianza de una distribución uniforme')\n",
    "# nx = xn - x1 + 1\n",
    "\n",
    "printmd('Función de densidad:')\n",
    "fX_x = sp.Eq(\n",
    "    f,\n",
    "    sp.Piecewise(\n",
    "        (1 / n, (x >= x1) & (x <= xn)), \n",
    "        (0, True)\n",
    "    )\n",
    ")\n",
    "display(fX_x)\n",
    "\n",
    "fx = 1 / n\n",
    "\n",
    "printmd('Varianza de la función:')\n",
    "V = sp.Function('V')\n",
    "Eq_V_X = sp.Eq(\n",
    "    V(X), \n",
    "    E(X - E(X))**2\n",
    ")\n",
    "display(Eq_V_X)\n",
    "\n",
    "Eq_V_X = sp.Eq(\n",
    "    V(X), \n",
    "    E(X**2) - E(X)**2\n",
    ")\n",
    "display(Eq_V_X)\n",
    "\n",
    "# ---------------------------------------------------\n",
    "printmd('Calculando $E(X^{{2}})$')\n",
    "E_X2 = sp.Sum(x**2 * fx, (x, x1, xn))\n",
    "Eq_E_X2 = sp.Eq(\n",
    "    E(X**2),\n",
    "    E_X2\n",
    ")\n",
    "display(Eq_E_X2)\n",
    "\n",
    "E_X2 = sp.simplify(E_X2.subs(n, xn - x1 + 1).doit())\n",
    "Eq_E_X2 = sp.Eq(\n",
    "    E(X**2),\n",
    "    E_X2\n",
    ")\n",
    "display(Eq_E_X2)\n",
    "\n",
    "# -----------------------------------------------------\n",
    "printmd('Calculando $E(X)^{{2}}$')\n",
    "E2_X = sp.expand(var_E_X**2)\n",
    "Eq_E2_X = sp.Eq(\n",
    "    E(X)**2,\n",
    "    E2_X\n",
    ")\n",
    "display(Eq_E2_X)\n",
    "\n",
    "# -----------------------------------------------------\n",
    "printmd('Retomando la varianza:')\n",
    "V_X = E_X2 - E2_X\n",
    "Eq_V_X = sp.Eq(\n",
    "    V(X),\n",
    "    V_X\n",
    ")\n",
    "display(Eq_V_X)\n",
    "\n",
    "V_X = sp.factor(V_X)\n",
    "Eq_V_X = sp.Eq(\n",
    "    V(X),\n",
    "    V_X\n",
    ")\n",
    "display(Eq_V_X)\n",
    "\n",
    "V_X = sp.collect(V_X, x1)\n",
    "Eq_V_X = sp.Eq(\n",
    "    V(X),\n",
    "    V_X\n",
    ")\n",
    "display(Eq_V_X)\n",
    "\n",
    "printmd('Usando $n = x_n - x_1 + 1$')\n",
    "V_X = sp.ratsimp(V_X.subs(xn - x1 + 1, n))\n",
    "Eq_V_X = sp.Eq(\n",
    "    V(X),\n",
    "    V_X\n",
    ")\n",
    "display(Eq_V_X)"
   ]
  },
  {
   "cell_type": "markdown",
   "id": "63afb760-d914-40cb-80e1-c9f75b1621b9",
   "metadata": {},
   "source": [
    "$\\color{red}{\\text{Ejercicio 2.}}$ Calcular la esperanza y varianza.    "
   ]
  },
  {
   "cell_type": "markdown",
   "id": "308d35e1-4e78-41c2-bf66-5ec2eeeb9853",
   "metadata": {},
   "source": [
    "**Ejemplo** Se lleva a cabo una rifa donde los boletos están enumerados del $00$ al $99$. Si $Y$ es la variable aleatoria definida como el número del boleto ganador, entonces:  \n",
    "$$\\mathbb{P}(Y=k)=\\begin{cases}\n",
    "\t\\frac{1}{100} &\\quad \\text{si } k=00,01,\\dots,99 \\\\\n",
    "\t0 &\\quad \\text{en otro caso}\n",
    "\\end{cases}$$\n",
    "Consideremos que el premio de la rifa se determina a partir del número premiado de la siguiente forma: $X=Y+1$, donde $X$ es el monto del premio en pesos y $Y$ es el número premiado, entonces $X$ es una variable aleatoria, pues es una función de $Y$, y además se tiene\n",
    "\t$$f_{X}(k)=\\begin{cases}\n",
    "\t\t\\frac{1}{100} &\\quad \\text{si } x=1,2,\\dots,100 \\\\\n",
    "\t\t0 &\\quad \\text{en otro caso}\n",
    "\t\\end{cases}$$"
   ]
  },
  {
   "cell_type": "code",
   "execution_count": 5,
   "id": "bee2c1b2-f05b-46b4-9846-7fa983b3b590",
   "metadata": {},
   "outputs": [],
   "source": [
    "def UnifE(x1, xn):\n",
    "    n = xn - x1 + 1\n",
    "    return (x1 + xn) / n\n",
    "\n",
    "def UnifV(x1, xn):\n",
    "    n = xn - x1 + 1\n",
    "    return (n**2 - 1) / 12"
   ]
  },
  {
   "cell_type": "code",
   "execution_count": 6,
   "id": "a311a35e-fac9-4a9e-9790-cdfe0ba51bf3",
   "metadata": {},
   "outputs": [
    {
     "name": "stdout",
     "output_type": "stream",
     "text": [
      "Esperanza: 1.010\n",
      "Varianza: 833.250\n"
     ]
    }
   ],
   "source": [
    "x1, xn = 1, 100\n",
    "\n",
    "Ex = UnifE(x1, xn)\n",
    "Vx = UnifV(x1, xn)\n",
    "\n",
    "print(f'Esperanza: {Ex:.3f}')\n",
    "print(f'Varianza: {Vx:.3f}')"
   ]
  },
  {
   "cell_type": "markdown",
   "id": "61c5e2bd-c797-4f4c-83ef-589f4986fd7a",
   "metadata": {},
   "source": [
    "Es una distribución de probabilidad discreta que sirve para calcular la probabilidad de que ocurra un determinado número de eventos raros durante un intervalo dado (puede ser tiempo, lingitud, área, etc).\n",
    "\n",
    "Esta v.a. tomavalores sobre el conjunto $\\{0,1,2,...\\}$ y tiene un parámetro $\\lambda>0$, el cual representa el número de veces que se **espera** que ocurra un evento durante un intervalo dado.\n",
    "\n",
    "Su función de densidad, está dado como sigue:\n",
    "$$ f_X(x) = \\mathbb{P}(X=x) = \\begin{cases} e^{-\\lambda}\\frac{\\lambda^x}{x!}, \\quad \\text{si } x\\in \\{0,1,...\\} \\\\\n",
    "0, \\quad \\text{e.o.c} \\end{cases}$$\n",
    "\n",
    "Notemos que $\\mathbb{E}[X]=\\lambda$ y que $\\text{Var}(X)=\\lambda$. \n",
    "\n",
    "**Ejemplo** Supongamos que el número de accidentes que ocurre en un punto en un día tiene distribución Poisson con parámetro $\\lambda=2$, \n",
    "\n",
    "- ¿cuál es la probabilidad de que en un día ocurran más de dos accidentes?\n",
    "  $$ \\begin{align*} \\mathbb{P}(X>2) &= 1- \\mathbb{P}(X\\le 2) \\\\\n",
    "    &= 1- [\\mathbb{P}(X=0) + \\mathbb{P}(X=1) + \\mathbb{P}(X=2)] \\\\\n",
    "    &= 1- \\left[ e^{-2}\\frac{2^0}{0!} + e^{-2}\\frac{2^1}{1!} + e^{-2}\\frac{2^2}{2!} \\right] \\\\\n",
    "    &= 1 - e^{-2}[1+2+2] = 1-5e^{-2} = 0.3233\n",
    "    \\end{align*} $$\n",
    "- ¿cuál es la probabilidad de que ocurran más de dos accidentes sabiendo que por lo menos ocurre uno?\n",
    "  $$ \\begin{align*} \\mathbb{P}(X>2 \\mid X \\ge 1) &= \\frac{\\mathbb{P}(\\{X>2\\} \\cap \\{X \\ge 1\\} )}{\\mathbb{P}\\{X \\ge 1)\\}} \\\\\n",
    "       &= \\frac{\\mathbb{P}(\\{X>2\\})}{\\mathbb{P}\\{X \\ge 1)\\}} \\\\\n",
    "       & = \\frac{.3233}{1-\\mathbb{P}(X<1)} = \\frac{0.3233}{1-e^{-2}} \\frac{0.3233}{.8646} = 0.3739\n",
    "       \\end{align*} $$\n",
    "\n",
    "$\\color{red}{\\text{Ejercicio 3.}}$ Usando el atributo `.cdf` [Poisson](https://docs.scipy.org/doc/scipy/reference/generated/scipy.stats.poisson.html) calcula las probabilidades anteriores."
   ]
  },
  {
   "cell_type": "code",
   "execution_count": 7,
   "id": "a40618a6-d6f8-4f33-9528-aff1ddb777b5",
   "metadata": {},
   "outputs": [
    {
     "data": {
      "text/markdown": [
       "$P(X > 2) = 0.323$"
      ],
      "text/plain": [
       "<IPython.core.display.Markdown object>"
      ]
     },
     "metadata": {},
     "output_type": "display_data"
    },
    {
     "data": {
      "text/markdown": [
       "$P(X > 2 \\mid X\\geq 1) = 0.374$"
      ],
      "text/plain": [
       "<IPython.core.display.Markdown object>"
      ]
     },
     "metadata": {},
     "output_type": "display_data"
    }
   ],
   "source": [
    "lam = 2\n",
    "P_2 = stats.poisson.cdf(2, lam)\n",
    "P_may2 = 1 - P_2\n",
    "\n",
    "printmd(f'$P(X > 2) = {P_may2:.3f}$')\n",
    "\n",
    "P_1 = stats.poisson.cdf(0, lam)\n",
    "P_may1 = 1 - P_1\n",
    "P_2_1 = P_may2 / P_may1\n",
    "\n",
    "printmd(f'$P(X > 2 \\\\mid X\\\\geq 1) = {P_2_1:.3f}$')"
   ]
  },
  {
   "cell_type": "markdown",
   "id": "d3928dea-7e44-424e-8e03-c67dbcc6bd15",
   "metadata": {},
   "source": [
    "$\\color{red}{\\text{Ejercicio 4.}}$ Un examen de Estadística consta de 20 preguntas tipo test y se conoce de experiencias\n",
    "anteriores que un alumno tiene probabilidad 0.7 de contestar bien cada pregunta. Obtener:\n",
    "\n",
    "a) La probabilidad de que la primera pregunta que contesta bien sea la cuarta.\n",
    "\n",
    "b) Sabiendo que para aprobar el examen es necesario contestar bien a 10 preguntas, ¿cuál es la probabilidad de que apruebe al contestar la pregunta duodécima?"
   ]
  },
  {
   "cell_type": "code",
   "execution_count": 8,
   "id": "1c044214-0f40-4960-b79d-eb2f49932f81",
   "metadata": {},
   "outputs": [
    {
     "data": {
      "text/markdown": [
       "Inciso a (dist. geom.):"
      ],
      "text/plain": [
       "<IPython.core.display.Markdown object>"
      ]
     },
     "metadata": {},
     "output_type": "display_data"
    },
    {
     "data": {
      "text/markdown": [
       "$P(X = 4) = 0.019$"
      ],
      "text/plain": [
       "<IPython.core.display.Markdown object>"
      ]
     },
     "metadata": {},
     "output_type": "display_data"
    },
    {
     "data": {
      "text/markdown": [
       "Inciso b (dist. neg-binom.):"
      ],
      "text/plain": [
       "<IPython.core.display.Markdown object>"
      ]
     },
     "metadata": {},
     "output_type": "display_data"
    },
    {
     "data": {
      "text/markdown": [
       "$P(X = 12) = 0.140$"
      ],
      "text/plain": [
       "<IPython.core.display.Markdown object>"
      ]
     },
     "metadata": {},
     "output_type": "display_data"
    }
   ],
   "source": [
    "p = 0.7\n",
    "\n",
    "printmd('Inciso a (dist. geom.):')\n",
    "\n",
    "P_4 = stats.geom.pmf(4, p)\n",
    "\n",
    "printmd(f'$P(X = 4) = {P_4:.3f}$')\n",
    "\n",
    "printmd('Inciso b (dist. neg-binom.):')\n",
    "\n",
    "r = 10\n",
    "\n",
    "P_12 = stats.nbinom.pmf(2, r, p)\n",
    "printmd(f'$P(X = 12) = {P_12:.3f}$')"
   ]
  },
  {
   "cell_type": "markdown",
   "id": "714a8ec4-64fe-4f7a-a881-3bcb7817f9fb",
   "metadata": {},
   "source": [
    "$\\color{red}{\\text{Ejercicio 5.}}$ Investigue sobre el problema de la caja de cerillos de Banach y explique su solución."
   ]
  },
  {
   "cell_type": "markdown",
   "id": "8df6d45f-a2c1-40a1-9d5b-3943af64a59e",
   "metadata": {},
   "source": [
    "---\n",
    "\n",
    "El problema de Banach establece que un fumador compra 2 cajas de cerillos con $N$ cantidad de cerillos cada una. Después de un tiempo, al sacar abrir de las cajas, la encuentra vacía. Por ende, se plantea cuál sería la probabilidad de que en la otra caja de cerillos aún queden $k$ cantidad de cerillos.\n",
    "\n",
    "La solución de este problema viene de establecer la solución considerando que, para que queden $k$ cantidad de cerillos en una caja, la otra debió ser escogida $N - k$ veces. Esto se condensa en una distribución binomial $X \\sim NB(N - k, 1/2)$, donde el $1/2$ resulta de saber que la probabilidad de cualquiera de las dos cajas para ser escogidas es del $50\\%$. Dicho esto, la función de probabilidad resulta en:\n",
    "\n",
    "$$\n",
    "P(X = N - k) = {2N - k \\choose N - k}\\left(\\frac{1}{2}\\right)^{2N - k + 1}\n",
    "$$\n",
    "\n",
    "Pero, considerando que esto aplica tanto para la primera caja como para la segunda, se duplica esta función de probabilidad, resultando en:\n",
    "\n",
    "$$\n",
    "P(X = N - k) = {2N - k \\choose N - k}\\left(\\frac{1}{2}\\right)^{2N - k}\n",
    "$$"
   ]
  },
  {
   "cell_type": "markdown",
   "id": "5409237e-ecb3-478f-a5f8-17875db0d1ce",
   "metadata": {},
   "source": [
    "$\\color{red}{\\text{Ejercicio 6.}}$ Replicar la grafica de la función de densidad"
   ]
  },
  {
   "cell_type": "code",
   "execution_count": 9,
   "id": "2e4cdb52-f42d-49c7-b13e-4bd345924e70",
   "metadata": {},
   "outputs": [
    {
     "data": {
      "image/png": "[encoded data removed]",
      "text/plain": [
       "<Figure size 1000x700 with 1 Axes>"
      ]
     },
     "metadata": {},
     "output_type": "display_data"
    }
   ],
   "source": [
    "n = 85\n",
    "N = 1000\n",
    "m = 97\n",
    "size = 10000\n",
    "\n",
    "random.seed(10)\n",
    "rand_hyper = stats.hypergeom.rvs(N, n, m, size=size)\n",
    "\n",
    "plt.figure(figsize=(10, 7))\n",
    "plt.hist(rand_hyper, density=True, bins=len(numpy.unique(rand_hyper)), \n",
    "         color='tab:blue', edgecolor='white')\n",
    "\n",
    "plt.xlabel('Valores')\n",
    "plt.ylabel('Probabilidad')\n",
    "plt.title(f'Función de densidad de una Hyper con n = {n}, N = {N} y m = {m}')\n",
    "plt.show()"
   ]
  },
  {
   "cell_type": "markdown",
   "id": "a4feb874-3260-4843-bfe1-4c9f0ebc69ee",
   "metadata": {},
   "source": [
    "$\\color{red}{\\text{Ejercicio 7.}}$ Una compañía petrolera realiza un estudio geológico que indica que un pozo petrolero exploratorio debería tener un 20% de posibilidades de encontrar petróleo.\n",
    "\n",
    "- ¿Cuál es la probabilidad de que el primer pozo se produzca en el tercer pozo perforado?\n",
    "\n",
    "- ¿Cuál es la probabilidad de que el tercer pozo se produzca en el séptimo pozo perforado?\n",
    "\n",
    "- ¿Cuál es la media y la varianza del número de pozos que se deben perforar si la compañía petrolera quiere establecer tres pozos productores?"
   ]
  },
  {
   "cell_type": "code",
   "execution_count": 10,
   "id": "9f9e9b2a-bcf8-4a47-904f-c5ac8a277bb2",
   "metadata": {},
   "outputs": [
    {
     "data": {
      "text/markdown": [
       "Inciso a (dist. geom.):"
      ],
      "text/plain": [
       "<IPython.core.display.Markdown object>"
      ]
     },
     "metadata": {},
     "output_type": "display_data"
    },
    {
     "data": {
      "text/markdown": [
       "$P(X = 3) = 0.128$"
      ],
      "text/plain": [
       "<IPython.core.display.Markdown object>"
      ]
     },
     "metadata": {},
     "output_type": "display_data"
    },
    {
     "data": {
      "text/markdown": [
       "Inciso b (dist. neg-binom.):"
      ],
      "text/plain": [
       "<IPython.core.display.Markdown object>"
      ]
     },
     "metadata": {},
     "output_type": "display_data"
    },
    {
     "data": {
      "text/markdown": [
       "$P(X = 7) = 0.049$"
      ],
      "text/plain": [
       "<IPython.core.display.Markdown object>"
      ]
     },
     "metadata": {},
     "output_type": "display_data"
    },
    {
     "data": {
      "text/markdown": [
       "Inciso c (dist. neg-binom.):"
      ],
      "text/plain": [
       "<IPython.core.display.Markdown object>"
      ]
     },
     "metadata": {},
     "output_type": "display_data"
    },
    {
     "data": {
      "text/markdown": [
       "$\\mu = 15.0$"
      ],
      "text/plain": [
       "<IPython.core.display.Markdown object>"
      ]
     },
     "metadata": {},
     "output_type": "display_data"
    },
    {
     "data": {
      "text/markdown": [
       "$\\sigma = 60.0$"
      ],
      "text/plain": [
       "<IPython.core.display.Markdown object>"
      ]
     },
     "metadata": {},
     "output_type": "display_data"
    }
   ],
   "source": [
    "p = 0.2\n",
    "\n",
    "printmd('Inciso a (dist. geom.):')\n",
    "\n",
    "P_3 = stats.geom.pmf(3, p)\n",
    "printmd(f'$P(X = 3) = {P_3:.3f}$')\n",
    "\n",
    "printmd('Inciso b (dist. neg-binom.):')\n",
    "r = 3 \n",
    "x = 7\n",
    "\n",
    "P_7 = stats.nbinom.pmf(x - r, r, p)\n",
    "printmd(f'$P(X = 7) = {P_7:.3f}$')\n",
    "\n",
    "printmd('Inciso c (dist. neg-binom.):')\n",
    "\n",
    "media = r / p\n",
    "varianza = r * (1 - p) / p**2\n",
    "\n",
    "printmd(f'$\\\\mu = {media}$')\n",
    "printmd(f'$\\\\sigma = {varianza}$')\n"
   ]
  }
 ],
 "metadata": {
  "kernelspec": {
   "display_name": "Python 3 (ipykernel)",
   "language": "python",
   "name": "python3"
  },
  "language_info": {
   "codemirror_mode": {
    "name": "ipython",
    "version": 3
   },
   "file_extension": ".py",
   "mimetype": "text/x-python",
   "name": "python",
   "nbconvert_exporter": "python",
   "pygments_lexer": "ipython3",
   "version": "3.12.9"
  }
 },
 "nbformat": 4,
 "nbformat_minor": 5
}
