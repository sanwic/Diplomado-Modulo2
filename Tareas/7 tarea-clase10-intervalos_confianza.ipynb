{
 "cells": [
  {
   "cell_type": "markdown",
   "metadata": {},
   "source": [
    "# Tarea. Clase 10\n",
    "\n",
    "## Intervalos de confianza\n",
    "\n",
    "Equipo 6.\n",
    "\n",
    "* Arellano Juárez Yoshué Bernardino\n",
    "* Arellanos Balcázar Carlos Japhet\n",
    "* Chávez Gómez Sandra Fernanda\n",
    "* Gómez Alba Valeria\n",
    "* Rasgado Celaya Julio Martín\n",
    "\n",
    "---"
   ]
  },
  {
   "cell_type": "code",
   "execution_count": 1,
   "metadata": {},
   "outputs": [],
   "source": [
    "import numpy as np\n",
    "import scipy.stats as st\n",
    "import matplotlib.pyplot as plt\n",
    "from IPython.display import display, Markdown\n",
    "\n",
    "def printmd(string):\n",
    "    display(Markdown(string))"
   ]
  },
  {
   "cell_type": "markdown",
   "metadata": {
    "id": "DBQyaEKLGnwg"
   },
   "source": [
    "**Ejercicio** En una encuesta de una Universidad, 225 estudiantes son seleccionados al azar de los que toman cálculo y se les pregunta si cálculo es su materia favorita. 100 estudiantes responden que el cálculo es su materia favorita. Proporcione un intervalo de confianza del 95 %  para la proporción de todos los estudiantes que toman cálculo y que la consideran su materia favorita.  "
   ]
  },
  {
   "cell_type": "code",
   "execution_count": 2,
   "metadata": {},
   "outputs": [
    {
     "data": {
      "text/markdown": [
       "**Intervalo de confianza del 95% para la proporción:**"
      ],
      "text/plain": [
       "<IPython.core.display.Markdown object>"
      ]
     },
     "metadata": {},
     "output_type": "display_data"
    },
    {
     "data": {
      "text/markdown": [
       "$\\text{Intervalo} = (0.380,\\ 0.509)$"
      ],
      "text/plain": [
       "<IPython.core.display.Markdown object>"
      ]
     },
     "metadata": {},
     "output_type": "display_data"
    }
   ],
   "source": [
    "# Datos\n",
    "n = 225\n",
    "x = 100\n",
    "p_hat = x / n\n",
    "nivel_confianza = 0.95\n",
    "\n",
    "error_estandar = np.sqrt(p_hat * (1 - p_hat) / n)\n",
    "\n",
    "z = st.norm.ppf(1 - (1 - nivel_confianza) / 2)\n",
    "\n",
    "intervalo_prop = st.norm.interval(confidence=nivel_confianza, loc=p_hat, scale=error_estandar)\n",
    "\n",
    "printmd(\"**Intervalo de confianza del 95% para la proporción:**\")\n",
    "printmd(rf\"$\\text{{Intervalo}} = ({intervalo_prop[0]:.3f},\\ {intervalo_prop[1]:.3f})$\")"
   ]
  },
  {
   "cell_type": "markdown",
   "metadata": {
    "id": "DBQyaEKLGnwg"
   },
   "source": [
    "**Ejercicio** Los datos $1.2,\\ 2.1,\\ 2.3,\\ 1.9,\\ 3.0,\\ 1.5,\\ 2.8,\\ 2.4,\\ 1.7,\\ 2.6,\\ 2.0,\\ 1.8,\\ 3.1,\\ 2.2,\\ 2.5$ se toman a partir de una distribución normal $N(\\mu,\\sigma^2)$ con $\\mu$ desconocida.\n",
    "\n",
    "**a)** Encuentra un intervalo de confianza al nivel de $90\\%$ para $\\mu$, dado que $\\sigma =2$.\n",
    "\n",
    "**b)** Encuentra un intervalo de confianza al nivel de $90\\%$ para $\\mu$.\n",
    "\n",
    "**c)** Encuentra un intervalo de confianza al nivel de $90\\%$ para $\\sigma^2$."
   ]
  },
  {
   "cell_type": "code",
   "execution_count": 3,
   "metadata": {},
   "outputs": [
    {
     "data": {
      "text/markdown": [
       "### Datos muestrales:"
      ],
      "text/plain": [
       "<IPython.core.display.Markdown object>"
      ]
     },
     "metadata": {},
     "output_type": "display_data"
    },
    {
     "data": {
      "text/markdown": [
       "$\\bar{x} = 2.207$, $s^2 = 0.296$, $s = 0.544$"
      ],
      "text/plain": [
       "<IPython.core.display.Markdown object>"
      ]
     },
     "metadata": {},
     "output_type": "display_data"
    },
    {
     "data": {
      "text/markdown": [
       "### a) Intervalo de confianza del 90% para $\\mu$, con $\\sigma = 2$ conocida:"
      ],
      "text/plain": [
       "<IPython.core.display.Markdown object>"
      ]
     },
     "metadata": {},
     "output_type": "display_data"
    },
    {
     "data": {
      "text/markdown": [
       "$\\left(1.357,\\ 3.056\\right)$"
      ],
      "text/plain": [
       "<IPython.core.display.Markdown object>"
      ]
     },
     "metadata": {},
     "output_type": "display_data"
    },
    {
     "data": {
      "text/markdown": [
       "### b) Intervalo de confianza del 90% para $\\mu$, con $\\sigma$ desconocida:"
      ],
      "text/plain": [
       "<IPython.core.display.Markdown object>"
      ]
     },
     "metadata": {},
     "output_type": "display_data"
    },
    {
     "data": {
      "text/markdown": [
       "$\\left(1.959,\\ 2.454\\right)$"
      ],
      "text/plain": [
       "<IPython.core.display.Markdown object>"
      ]
     },
     "metadata": {},
     "output_type": "display_data"
    },
    {
     "data": {
      "text/markdown": [
       "### c) Intervalo de confianza del 90% para $\\sigma^2$:"
      ],
      "text/plain": [
       "<IPython.core.display.Markdown object>"
      ]
     },
     "metadata": {},
     "output_type": "display_data"
    },
    {
     "data": {
      "text/markdown": [
       "$\\left(0.175,\\ 0.631\\right)$"
      ],
      "text/plain": [
       "<IPython.core.display.Markdown object>"
      ]
     },
     "metadata": {},
     "output_type": "display_data"
    }
   ],
   "source": [
    "datos = np.array([1.2, 2.1, 2.3, 1.9, 3.0, 1.5, 2.8, 2.4, 1.7, 2.6, 2.0, 1.8, 3.1, 2.2, 2.5])\n",
    "n = len(datos)\n",
    "confianza = 0.90\n",
    "media = np.mean(datos)\n",
    "varianza = np.var(datos, ddof=1)\n",
    "desv_std = np.std(datos, ddof=1)\n",
    "\n",
    "# a) IC para mu con sigma conocida (=2)\n",
    "sigma = 2\n",
    "error_estandar_a = sigma / np.sqrt(n)\n",
    "z = st.norm.ppf(1 - (1 - confianza) / 2)\n",
    "lim_a = st.norm.interval(confianza, loc=media, scale=error_estandar_a)\n",
    "\n",
    "# b) IC para mu con sigma desconocida\n",
    "error_estandar_b = desv_std / np.sqrt(n)\n",
    "t = st.t.ppf(1 - (1 - confianza) / 2, df=n-1)\n",
    "lim_b = (media - t * error_estandar_b, media + t * error_estandar_b)\n",
    "\n",
    "# c) IC para varianza (sigma^2)\n",
    "chi2_inf = st.chi2.ppf((1 - confianza) / 2, df=n-1)\n",
    "chi2_sup = st.chi2.ppf(1 - (1 - confianza) / 2, df=n-1)\n",
    "lim_c = ((n - 1) * varianza / chi2_sup, (n - 1) * varianza / chi2_inf)\n",
    "\n",
    "printmd(\"### Datos muestrales:\")\n",
    "printmd(rf\"$\\bar{{x}} = {media:.3f}$, $s^2 = {varianza:.3f}$, $s = {desv_std:.3f}$\")\n",
    "\n",
    "printmd(\"### a) Intervalo de confianza del 90% para $\\mu$, con $\\sigma = 2$ conocida:\")\n",
    "printmd(rf\"$\\left({lim_a[0]:.3f},\\ {lim_a[1]:.3f}\\right)$\")\n",
    "\n",
    "printmd(\"### b) Intervalo de confianza del 90% para $\\mu$, con $\\sigma$ desconocida:\")\n",
    "printmd(rf\"$\\left({lim_b[0]:.3f},\\ {lim_b[1]:.3f}\\right)$\")\n",
    "\n",
    "printmd(\"### c) Intervalo de confianza del 90% para $\\sigma^2$:\")\n",
    "printmd(rf\"$\\left({lim_c[0]:.3f},\\ {lim_c[1]:.3f}\\right)$\")"
   ]
  },
  {
   "cell_type": "markdown",
   "metadata": {
    "id": "DBQyaEKLGnwg"
   },
   "source": [
    "**Ejercicio** Los ingresos semanales promedio de las personas que trabajan en varias industrias aparecieron en el *The New York Times 1988 Almanac*.  \n",
    "Esos ingresos para quienes trabajan en los servicios fueron de $\\$369$. Suponga que este resultado se basó en una muestra de 250 personas dedicadas a los servicios y que la desviación estándar de la muestra fue de $\\$50$. Calcula el intervalo de confianza del 95% para la media de la población de ingresos semanales de personas que trabajan en los servicios."
   ]
  },
  {
   "cell_type": "code",
   "execution_count": 4,
   "metadata": {},
   "outputs": [
    {
     "data": {
      "text/markdown": [
       "### Intervalo de confianza del 95% para la media de ingresos semanales:"
      ],
      "text/plain": [
       "<IPython.core.display.Markdown object>"
      ]
     },
     "metadata": {},
     "output_type": "display_data"
    },
    {
     "data": {
      "text/markdown": [
       "$\\bar{x} = 369$, $s = 50$, $n = 250$"
      ],
      "text/plain": [
       "<IPython.core.display.Markdown object>"
      ]
     },
     "metadata": {},
     "output_type": "display_data"
    },
    {
     "data": {
      "text/markdown": [
       "$\\text{Intervalo} = \\left(362.772,\\ 375.228\\right)$"
      ],
      "text/plain": [
       "<IPython.core.display.Markdown object>"
      ]
     },
     "metadata": {},
     "output_type": "display_data"
    }
   ],
   "source": [
    "n = 250\n",
    "media = 369\n",
    "s = 50\n",
    "confianza = 0.95\n",
    "\n",
    "error_estandar = s / np.sqrt(n)\n",
    "\n",
    "t = st.t.ppf(1 - (1 - confianza) / 2, df=n-1)\n",
    "\n",
    "limite_inferior = media - t * error_estandar\n",
    "limite_superior = media + t * error_estandar\n",
    "\n",
    "printmd(\"### Intervalo de confianza del 95% para la media de ingresos semanales:\")\n",
    "printmd(rf\"$\\bar{{x}} = {media}$, $s = {s}$, $n = {n}$\")\n",
    "printmd(rf\"$\\text{{Intervalo}} = \\left({limite_inferior:.3f},\\ {limite_superior:.3f}\\right)$\")"
   ]
  },
  {
   "cell_type": "markdown",
   "metadata": {
    "id": "DBQyaEKLGnwg"
   },
   "source": [
    "**Ejercicio** En un estudio de préstamos a estudiantes, el Departamento de Educación informó que los beneficiarios del fondo Stafford Loan deberían un promedio de \\$12,658 al recibirse (*USA Today*, 5 de abril de 1995). Suponga que este promedio de deuda se basa en una muestra de 480 préstamos a estudiantes y que la desviación estándar de la población de las deudas al recibirse es \\$2,000.\n",
    "\n",
    "**a)** Determina un estimado de confianza del **90%** del promedio poblacional de la deuda.\n",
    "\n",
    "**b)** Determina un estimado de confianza del **95%** del promedio poblacional de la deuda.\n",
    "\n",
    "**c)** Determina un estimado de confianza del **99%** del promedio poblacional de la deuda.\n",
    "\n",
    "**d)** Describe lo que sucede con el **ancho del intervalo de confianza** a medida que se **aumenta el nivel de confianza**. ¿Parece razonable? Explica tu respuesta."
   ]
  },
  {
   "cell_type": "code",
   "execution_count": 5,
   "metadata": {},
   "outputs": [
    {
     "data": {
      "text/markdown": [
       "### a) Intervalo de confianza del 90% para la media de la deuda:"
      ],
      "text/plain": [
       "<IPython.core.display.Markdown object>"
      ]
     },
     "metadata": {},
     "output_type": "display_data"
    },
    {
     "data": {
      "text/markdown": [
       "$(12507.85,\\ 12808.15)$ (ancho = 300.31)"
      ],
      "text/plain": [
       "<IPython.core.display.Markdown object>"
      ]
     },
     "metadata": {},
     "output_type": "display_data"
    },
    {
     "data": {
      "text/markdown": [
       "### b) Intervalo de confianza del 95% para la media de la deuda:"
      ],
      "text/plain": [
       "<IPython.core.display.Markdown object>"
      ]
     },
     "metadata": {},
     "output_type": "display_data"
    },
    {
     "data": {
      "text/markdown": [
       "$(12479.08,\\ 12836.92)$ (ancho = 357.84)"
      ],
      "text/plain": [
       "<IPython.core.display.Markdown object>"
      ]
     },
     "metadata": {},
     "output_type": "display_data"
    },
    {
     "data": {
      "text/markdown": [
       "### c) Intervalo de confianza del 99% para la media de la deuda:"
      ],
      "text/plain": [
       "<IPython.core.display.Markdown object>"
      ]
     },
     "metadata": {},
     "output_type": "display_data"
    },
    {
     "data": {
      "text/markdown": [
       "$(12422.86,\\ 12893.14)$ (ancho = 470.28)"
      ],
      "text/plain": [
       "<IPython.core.display.Markdown object>"
      ]
     },
     "metadata": {},
     "output_type": "display_data"
    },
    {
     "data": {
      "text/markdown": [
       "### d) ¿Qué sucede con el ancho del intervalo al aumentar el nivel de confianza?"
      ],
      "text/plain": [
       "<IPython.core.display.Markdown object>"
      ]
     },
     "metadata": {},
     "output_type": "display_data"
    },
    {
     "data": {
      "text/markdown": [
       "A medida que el nivel de confianza aumenta, el ancho del intervalo también se incrementa:"
      ],
      "text/plain": [
       "<IPython.core.display.Markdown object>"
      ]
     },
     "metadata": {},
     "output_type": "display_data"
    },
    {
     "data": {
      "text/markdown": [
       "- 90% → ancho ≈ 300.31"
      ],
      "text/plain": [
       "<IPython.core.display.Markdown object>"
      ]
     },
     "metadata": {},
     "output_type": "display_data"
    },
    {
     "data": {
      "text/markdown": [
       "- 95% → ancho ≈ 357.84"
      ],
      "text/plain": [
       "<IPython.core.display.Markdown object>"
      ]
     },
     "metadata": {},
     "output_type": "display_data"
    },
    {
     "data": {
      "text/markdown": [
       "- 99% → ancho ≈ 470.28"
      ],
      "text/plain": [
       "<IPython.core.display.Markdown object>"
      ]
     },
     "metadata": {},
     "output_type": "display_data"
    },
    {
     "data": {
      "text/markdown": [
       "Esto es razonable, ya que para estar más seguros de que el verdadero valor poblacional esté dentro del intervalo, se necesita cubrir un rango más amplio de posibles valores."
      ],
      "text/plain": [
       "<IPython.core.display.Markdown object>"
      ]
     },
     "metadata": {},
     "output_type": "display_data"
    }
   ],
   "source": [
    "media = 12658\n",
    "n = 480\n",
    "sigma = 2000\n",
    "niveles_confianza = [0.90, 0.95, 0.99]\n",
    "intervalos = {}\n",
    "\n",
    "for nivel in niveles_confianza:\n",
    "    z = st.norm.ppf(1 - (1 - nivel) / 2)\n",
    "    error_estandar = sigma / np.sqrt(n)\n",
    "    lim_inf = media - z * error_estandar\n",
    "    lim_sup = media + z * error_estandar\n",
    "    ancho = lim_sup - lim_inf\n",
    "    intervalos[nivel] = (lim_inf, lim_sup, ancho)\n",
    "\n",
    "# Resultados\n",
    "printmd(\"### a) Intervalo de confianza del 90% para la media de la deuda:\")\n",
    "printmd(rf\"$({intervalos[0.90][0]:.2f},\\ {intervalos[0.90][1]:.2f})$ (ancho = {intervalos[0.90][2]:.2f})\")\n",
    "\n",
    "printmd(\"### b) Intervalo de confianza del 95% para la media de la deuda:\")\n",
    "printmd(rf\"$({intervalos[0.95][0]:.2f},\\ {intervalos[0.95][1]:.2f})$ (ancho = {intervalos[0.95][2]:.2f})\")\n",
    "\n",
    "printmd(\"### c) Intervalo de confianza del 99% para la media de la deuda:\")\n",
    "printmd(rf\"$({intervalos[0.99][0]:.2f},\\ {intervalos[0.99][1]:.2f})$ (ancho = {intervalos[0.99][2]:.2f})\")\n",
    "\n",
    "# d) Análisis del ancho del intervalo\n",
    "printmd(\"### d) ¿Qué sucede con el ancho del intervalo al aumentar el nivel de confianza?\")\n",
    "printmd(\"A medida que el nivel de confianza aumenta, el ancho del intervalo también se incrementa:\")\n",
    "printmd(\"- 90% → ancho ≈ {:.2f}\".format(intervalos[0.90][2]))\n",
    "printmd(\"- 95% → ancho ≈ {:.2f}\".format(intervalos[0.95][2]))\n",
    "printmd(\"- 99% → ancho ≈ {:.2f}\".format(intervalos[0.99][2]))\n",
    "printmd(\"Esto es razonable, ya que para estar más seguros de que el verdadero valor poblacional esté dentro del intervalo, se necesita cubrir un rango más amplio de posibles valores.\")"
   ]
  },
  {
   "cell_type": "markdown",
   "metadata": {
    "id": "DBQyaEKLGnwg"
   },
   "source": [
    "**Ejercicio** La encuesta anual de calidad de automóviles, efectuada por *J. D. Power & Associates*, determinó que la cantidad promedio de defectos, en todas las marcas, por cada vehículo nuevo es **1.07**  (*The Wall Street Journal*, 27 de enero de 1994). Suponga que se toma una muestra de **30 automóviles nuevos** de determinada marca y se obtienen las siguientes cantidades de defectos por vehículo:\n",
    "$$ 0, 1, 1, 2, 1, 0, 2, 3, 2, 1, 0, 2, 0, 0, 2, 3, 0, 4, 3, 1, 1, 1, 0, 2, 0, 2, 0, 3, 1, 0 $$\n",
    "\n",
    "**a)** ¿Cuál es el promedio muestral de la cantidad de defectos por vehículo?\n",
    "\n",
    "**b)** ¿Cuál es la desviación estándar de la muestra?\n",
    "\n",
    "**c)** Determine un intervalo de confianza del 95% para la **media de defectos** por vehículo de esta marca.\n",
    "\n",
    "**d)** Un analista sugirió que se debería **revisar una muestra mayor** antes de comparar con el promedio general de J.D. Power (1.07). ¿Respalda usted esta idea? ¿Por qué?"
   ]
  },
  {
   "cell_type": "code",
   "execution_count": 6,
   "metadata": {},
   "outputs": [
    {
     "data": {
      "text/markdown": [
       "### a) Promedio muestral de defectos:"
      ],
      "text/plain": [
       "<IPython.core.display.Markdown object>"
      ]
     },
     "metadata": {},
     "output_type": "display_data"
    },
    {
     "data": {
      "text/markdown": [
       "$\\bar{x} = 1.267$"
      ],
      "text/plain": [
       "<IPython.core.display.Markdown object>"
      ]
     },
     "metadata": {},
     "output_type": "display_data"
    },
    {
     "data": {
      "text/markdown": [
       "### b) Desviación estándar muestral:"
      ],
      "text/plain": [
       "<IPython.core.display.Markdown object>"
      ]
     },
     "metadata": {},
     "output_type": "display_data"
    },
    {
     "data": {
      "text/markdown": [
       "$s = 1.172$"
      ],
      "text/plain": [
       "<IPython.core.display.Markdown object>"
      ]
     },
     "metadata": {},
     "output_type": "display_data"
    },
    {
     "data": {
      "text/markdown": [
       "### c) Intervalo de confianza del 95% para la media:"
      ],
      "text/plain": [
       "<IPython.core.display.Markdown object>"
      ]
     },
     "metadata": {},
     "output_type": "display_data"
    },
    {
     "data": {
      "text/markdown": [
       "$(0.829,\\ 1.704)$"
      ],
      "text/plain": [
       "<IPython.core.display.Markdown object>"
      ]
     },
     "metadata": {},
     "output_type": "display_data"
    },
    {
     "data": {
      "text/markdown": [
       "### d) ¿Es razonable tomar una muestra mayor antes de comparar con el promedio general (1.07)?"
      ],
      "text/plain": [
       "<IPython.core.display.Markdown object>"
      ]
     },
     "metadata": {},
     "output_type": "display_data"
    },
    {
     "data": {
      "text/markdown": [
       "Sí, es razonable. Aunque el promedio muestral es $1.27$, el intervalo de confianza del $95\\%$ es (0.83, 1.70), lo cual incluye el promedio general de 1.07. Esto significa que no hay evidencia estadística suficiente para afirmar que esta marca difiere del promedio general. Una muestra más grande reduciría la variabilidad y haría más precisa la estimación."
      ],
      "text/plain": [
       "<IPython.core.display.Markdown object>"
      ]
     },
     "metadata": {},
     "output_type": "display_data"
    }
   ],
   "source": [
    "datos = np.array([0, 1, 1, 2, 1, 0, 2, 3, 2, 1, 0, 2, 0, 0, 2, 3, 0, 4, 3, 1, 1, 1, 0, 2, 0, 2, 0, 3, 1, 0])\n",
    "n = len(datos)\n",
    "confianza = 0.95\n",
    "media = np.mean(datos)\n",
    "s = np.std(datos, ddof=1)\n",
    "\n",
    "error_estandar = s / np.sqrt(n)\n",
    "t = st.t.ppf(1 - (1 - confianza) / 2, df=n-1)\n",
    "lim_inf = media - t * error_estandar\n",
    "lim_sup = media + t * error_estandar\n",
    "\n",
    "printmd(\"### a) Promedio muestral de defectos:\")\n",
    "printmd(rf\"$\\bar{{x}} = {media:.3f}$\")\n",
    "\n",
    "printmd(\"### b) Desviación estándar muestral:\")\n",
    "printmd(rf\"$s = {s:.3f}$\")\n",
    "\n",
    "printmd(\"### c) Intervalo de confianza del 95% para la media:\")\n",
    "printmd(rf\"$({lim_inf:.3f},\\ {lim_sup:.3f})$\")\n",
    "\n",
    "printmd(\"### d) ¿Es razonable tomar una muestra mayor antes de comparar con el promedio general (1.07)?\")\n",
    "printmd(\n",
    "    \"Sí, es razonable. Aunque el promedio muestral es $1.27$, el intervalo de confianza del $95\\%$ es \"\n",
    "    f\"({lim_inf:.2f}, {lim_sup:.2f}), lo cual incluye el promedio general de 1.07. \"\n",
    "    \"Esto significa que no hay evidencia estadística suficiente para afirmar que esta marca difiere del promedio general. \"\n",
    "    \"Una muestra más grande reduciría la variabilidad y haría más precisa la estimación.\")\n"
   ]
  },
  {
   "cell_type": "markdown",
   "metadata": {
    "id": "DBQyaEKLGnwg"
   },
   "source": [
    "**Ejercicio** Un artículo que apareció en el ejemplar de noviembre de 1983 de *Consumer Reports* comparó varios tipos de baterías.  \n",
    "Se informó que los siguientes datos provienen de una muestra de 20 baterías (en horas de duración):\n",
    "$$ [2200, 2290, 2390, 2410, 2480, 2500, 2580, 2700, 2030, 2100, 2190, 1600, 1740, 1900, 1930, 2000, 1510, 1470, 1770, 1710] $$\n",
    "Determine la media muestral, la desviación estándar muestral, y el intervalo de confianza del **90%** para la media poblacional."
   ]
  },
  {
   "cell_type": "code",
   "execution_count": 7,
   "metadata": {},
   "outputs": [
    {
     "data": {
      "text/markdown": [
       "### Media y desviación estándar muestral:"
      ],
      "text/plain": [
       "<IPython.core.display.Markdown object>"
      ]
     },
     "metadata": {},
     "output_type": "display_data"
    },
    {
     "data": {
      "text/markdown": [
       "$\\bar{x} = 2075.00$"
      ],
      "text/plain": [
       "<IPython.core.display.Markdown object>"
      ]
     },
     "metadata": {},
     "output_type": "display_data"
    },
    {
     "data": {
      "text/markdown": [
       "$s = 368.93$"
      ],
      "text/plain": [
       "<IPython.core.display.Markdown object>"
      ]
     },
     "metadata": {},
     "output_type": "display_data"
    },
    {
     "data": {
      "text/markdown": [
       "### Intervalo de confianza del 90% para la media poblacional:"
      ],
      "text/plain": [
       "<IPython.core.display.Markdown object>"
      ]
     },
     "metadata": {},
     "output_type": "display_data"
    },
    {
     "data": {
      "text/markdown": [
       "$(1932.35,\\ 2217.65)$"
      ],
      "text/plain": [
       "<IPython.core.display.Markdown object>"
      ]
     },
     "metadata": {},
     "output_type": "display_data"
    }
   ],
   "source": [
    "baterias = np.array([2200, 2290, 2390, 2410, 2480, 2500, 2580, 2700, 2030, 2100,\n",
    "                     2190, 1600, 1740, 1900, 1930, 2000, 1510, 1470, 1770, 1710])\n",
    "n = len(baterias)\n",
    "confianza = 0.90\n",
    "media = np.mean(baterias)\n",
    "s = np.std(baterias, ddof=1)\n",
    "\n",
    "error_estandar = s / np.sqrt(n)\n",
    "t = st.t.ppf(1 - (1 - confianza) / 2, df=n-1)\n",
    "lim_inf = media - t * error_estandar\n",
    "lim_sup = media + t * error_estandar\n",
    "\n",
    "printmd(\"### Media y desviación estándar muestral:\")\n",
    "printmd(rf\"$\\bar{{x}} = {media:.2f}$\")\n",
    "printmd(rf\"$s = {s:.2f}$\")\n",
    "\n",
    "printmd(\"### Intervalo de confianza del 90% para la media poblacional:\")\n",
    "printmd(rf\"$({lim_inf:.2f},\\ {lim_sup:.2f})$\")"
   ]
  },
  {
   "cell_type": "markdown",
   "metadata": {
    "id": "DBQyaEKLGnwg"
   },
   "source": [
    "**Ejercicio** El toxafen es un insecticida que ha sido identificado como contaminante en el ecosistema de los Grandes Lagos.  \n",
    "Para investigar el efecto de la exposición al toxafen en animales, a grupos de ratas se les administró toxafen en su dieta.\n",
    "\n",
    "El artículo *\"Reproduction Study of Toxaphene in Rat\"* reporta **aumentos de peso (en gramos)** de ratas a las que se les administró una **dosis baja (4 ppm)** y de ratas de **control** cuya dieta no incluía el insecticida.\n",
    "\n",
    "- En el grupo **control**, una muestra de **23 ratas hembras** tuvo una media de **$\\bar{X_2} = 210$ g** y una desviación estándar de **32 g**.\n",
    "- En el grupo con **dosis baja**, una muestra de **20 ratas hembras** tuvo una media de **$\\bar{X_1} = 190$ g** y una desviación estándar de **54 g**.\n",
    "\n",
    "Encuentra un **intervalo de confianza del 90% para la diferencia de medias** poblacionales:  $\\mu_1 - \\mu_2$, donde:\n",
    "\n",
    "- $\\mu_1$ es la media poblacional de incremento de peso en el grupo con **dosis baja**.\n",
    "- $\\mu_2$ es la media poblacional de incremento de peso en el grupo **control**.\n",
    "\n",
    "¿Sugiere este intervalo que el toxafen **reduce** el incremento de peso en ratas?  \n",
    "¿Incluye el intervalo el valor 0? ¿Por qué es importante?"
   ]
  },
  {
   "cell_type": "code",
   "execution_count": 8,
   "metadata": {},
   "outputs": [
    {
     "data": {
      "text/markdown": [
       "### Intervalo de confianza del 90% para $\\mu_1 - \\mu_2$:"
      ],
      "text/plain": [
       "<IPython.core.display.Markdown object>"
      ]
     },
     "metadata": {},
     "output_type": "display_data"
    },
    {
     "data": {
      "text/markdown": [
       "$\\text{IC} = (-43.42,\\ 3.42)$"
      ],
      "text/plain": [
       "<IPython.core.display.Markdown object>"
      ]
     },
     "metadata": {},
     "output_type": "display_data"
    },
    {
     "data": {
      "text/markdown": [
       "### ¿El intervalo sugiere que el toxafen reduce el incremento de peso?"
      ],
      "text/plain": [
       "<IPython.core.display.Markdown object>"
      ]
     },
     "metadata": {},
     "output_type": "display_data"
    },
    {
     "data": {
      "text/markdown": [
       "El intervalo incluye el **0**, lo que indica que no hay evidencia suficiente para afirmar que el toxafen reduce el incremento de peso en ratas. Es posible que la diferencia observada se deba al azar."
      ],
      "text/plain": [
       "<IPython.core.display.Markdown object>"
      ]
     },
     "metadata": {},
     "output_type": "display_data"
    }
   ],
   "source": [
    "# Grupo con dosis baja\n",
    "n1, x1_bar, s1 = 20, 190, 54\n",
    "# Grupo control\n",
    "n2, x2_bar, s2 = 23, 210, 32\n",
    "\n",
    "confianza = 0.90\n",
    "\n",
    "diferencia = x1_bar - x2_bar\n",
    "\n",
    "se = np.sqrt((s1**2 / n1) + (s2**2 / n2))\n",
    "\n",
    "df = ((s1**2 / n1 + s2**2 / n2) ** 2) / (\n",
    "    ((s1**2 / n1) ** 2) / (n1 - 1) + ((s2**2 / n2) ** 2) / (n2 - 1)\n",
    ")\n",
    "\n",
    "t = st.t.ppf(1 - (1 - confianza) / 2, df=df)\n",
    "\n",
    "lim_inf = diferencia - t * se\n",
    "lim_sup = diferencia + t * se\n",
    "\n",
    "printmd(\"### Intervalo de confianza del 90% para $\\\\mu_1 - \\\\mu_2$:\")\n",
    "printmd(rf\"$\\text{{IC}} = ({lim_inf:.2f},\\ {lim_sup:.2f})$\")\n",
    "\n",
    "# Interpretación\n",
    "printmd(\"### ¿El intervalo sugiere que el toxafen reduce el incremento de peso?\")\n",
    "printmd(\"El intervalo incluye el **0**, lo que indica que no hay evidencia suficiente para afirmar que el toxafen \"\n",
    "        \"reduce el incremento de peso en ratas. Es posible que la diferencia observada se deba al azar.\")"
   ]
  }
 ],
 "metadata": {
  "colab": {
   "provenance": []
  },
  "kernelspec": {
   "display_name": "Python 3 (ipykernel)",
   "language": "python",
   "name": "python3"
  },
  "language_info": {
   "codemirror_mode": {
    "name": "ipython",
    "version": 3
   },
   "file_extension": ".py",
   "mimetype": "text/x-python",
   "name": "python",
   "nbconvert_exporter": "python",
   "pygments_lexer": "ipython3",
   "version": "3.13.2"
  }
 },
 "nbformat": 4,
 "nbformat_minor": 4
}
